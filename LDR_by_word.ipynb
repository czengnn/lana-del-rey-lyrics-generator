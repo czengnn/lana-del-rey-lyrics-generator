{
  "nbformat": 4,
  "nbformat_minor": 0,
  "metadata": {
    "colab": {
      "name": "LDR_by_word.ipynb",
      "provenance": [],
      "mount_file_id": "1wyacN2Z1_YP6yW7MyXJHLxpMK7D1vPrh",
      "authorship_tag": "ABX9TyNuNKuzPG6NR+UvxrVbURzA",
      "include_colab_link": true
    },
    "kernelspec": {
      "name": "python3",
      "display_name": "Python 3"
    },
    "language_info": {
      "name": "python"
    },
    "accelerator": "GPU"
  },
  "cells": [
    {
      "cell_type": "markdown",
      "metadata": {
        "id": "view-in-github",
        "colab_type": "text"
      },
      "source": [
        "<a href=\"https://colab.research.google.com/github/czengnn/lana-del-rey-lyrics-generator/blob/main/LDR_by_word.ipynb\" target=\"_parent\"><img src=\"https://colab.research.google.com/assets/colab-badge.svg\" alt=\"Open In Colab\"/></a>"
      ]
    },
    {
      "cell_type": "code",
      "metadata": {
        "colab": {
          "base_uri": "https://localhost:8080/",
          "height": 17
        },
        "id": "ZgmknXZ2aTtk",
        "outputId": "466b5139-a4d8-4066-a5e8-c50d7b98ab5a"
      },
      "source": [
        "from IPython.display import HTML, display\n",
        "\n",
        "def set_css():\n",
        "  display(HTML('''\n",
        "  <style>\n",
        "    pre {\n",
        "        white-space: pre-wrap;\n",
        "    }\n",
        "  </style>\n",
        "  '''))\n",
        "get_ipython().events.register('pre_run_cell', set_css)"
      ],
      "execution_count": 54,
      "outputs": [
        {
          "output_type": "display_data",
          "data": {
            "text/html": [
              "<style>table.dataframe td{white-space: nowrap;}</style>"
            ],
            "text/plain": [
              "<IPython.core.display.HTML object>"
            ]
          },
          "metadata": {
            "tags": []
          }
        }
      ]
    },
    {
      "cell_type": "code",
      "metadata": {
        "id": "ZlWo3BTR3CTP",
        "colab": {
          "base_uri": "https://localhost:8080/"
        },
        "outputId": "7db646a2-9e77-4716-9d92-d835bb0e533e"
      },
      "source": [
        "import pandas as pd \n",
        "import numpy as np \n",
        "import re \n",
        "import os\n",
        "import time\n",
        "import matplotlib.pyplot as plt\n",
        "\n",
        "import tensorflow as tf\n",
        "import keras \n",
        "print(tf.__version__)\n",
        "print(keras.__version__)\n",
        "\n",
        "from keras.preprocessing.text import Tokenizer\n",
        "from keras.preprocessing.sequence import pad_sequences\n",
        "from keras.losses import sparse_categorical_crossentropy\n",
        "\n",
        "from keras.models import Sequential\n",
        "from keras.layers import LSTM, Activation, Flatten, Dropout, Dense, Embedding, TimeDistributed, Bidirectional\n",
        "from keras.callbacks import ModelCheckpoint\n"
      ],
      "execution_count": 1,
      "outputs": [
        {
          "output_type": "stream",
          "text": [
            "2.4.1\n",
            "2.4.3\n"
          ],
          "name": "stdout"
        }
      ]
    },
    {
      "cell_type": "code",
      "metadata": {
        "colab": {
          "base_uri": "https://localhost:8080/"
        },
        "id": "FivZ1COMFE-D",
        "outputId": "6f6d0952-d48b-4533-d6eb-0379dd36b64d"
      },
      "source": [
        "# load songs\n",
        "songs1 = pd.read_csv('/content/drive/MyDrive/data/lana_lyrics_83.csv').drop('Unnamed: 0', axis=1)\n",
        "songs2 = pd.read_csv('/content/drive/MyDrive/data/lana_lyrics_15.csv').drop('Unnamed: 0', axis=1)\n",
        "songs = pd.concat([songs1, songs2], axis=0)\n",
        "songs.shape"
      ],
      "execution_count": 2,
      "outputs": [
        {
          "output_type": "execute_result",
          "data": {
            "text/plain": [
              "(98, 2)"
            ]
          },
          "metadata": {
            "tags": []
          },
          "execution_count": 2
        }
      ]
    },
    {
      "cell_type": "code",
      "metadata": {
        "id": "D9m7QJNkFIkU"
      },
      "source": [
        "# put lyrics into 1 string\n",
        "text = ''\n",
        "for song in songs['lyrics']:\n",
        "    text = text + song.lower()\n",
        "    \n",
        "# remove the text with brackets around them, such as [Verse 1]\n",
        "text = re.sub(r'\\[[^][]*\\]', '', text)"
      ],
      "execution_count": 3,
      "outputs": []
    },
    {
      "cell_type": "code",
      "metadata": {
        "colab": {
          "base_uri": "https://localhost:8080/"
        },
        "id": "MesZiJjU3SCh",
        "outputId": "f163cefb-0d45-41e8-c726-489898d1bab3"
      },
      "source": [
        "# length of text is the number of characters in it\n",
        "print(f'Length of text: {len(text)} characters')\n",
        "\n",
        "# The unique characters in the file\n",
        "vocab = sorted(set(text))\n",
        "print(f'{len(vocab)} unique characters')"
      ],
      "execution_count": 4,
      "outputs": [
        {
          "output_type": "stream",
          "text": [
            "Length of text: 161722 characters\n",
            "61 unique characters\n"
          ],
          "name": "stdout"
        }
      ]
    },
    {
      "cell_type": "code",
      "metadata": {
        "colab": {
          "base_uri": "https://localhost:8080/"
        },
        "id": "AplgShWA3jeS",
        "outputId": "8925ce2c-e0a8-43a4-ee2a-cde849d24442"
      },
      "source": [
        "corpus = list(set(text.lower().split('\\n')))\n",
        "corpus[:5]"
      ],
      "execution_count": 5,
      "outputs": [
        {
          "output_type": "execute_result",
          "data": {
            "text/plain": [
              "['',\n",
              " 'yo soy la princesa, comprende mis white lines',\n",
              " \"your halo's full of fire\",\n",
              " 'i just wanna dance with you',\n",
              " 'nobody stopped to hеar him']"
            ]
          },
          "metadata": {
            "tags": []
          },
          "execution_count": 5
        }
      ]
    },
    {
      "cell_type": "code",
      "metadata": {
        "id": "Yp--rn6031rr",
        "colab": {
          "base_uri": "https://localhost:8080/"
        },
        "outputId": "8ea13c67-ee29-4728-e68a-9e0de4a26ed5"
      },
      "source": [
        "tokenizer = Tokenizer()\n",
        "tokenizer.fit_on_texts(corpus)\n",
        "total_words = len(tokenizer.word_index) + 1\n",
        "print(total_words)"
      ],
      "execution_count": 6,
      "outputs": [
        {
          "output_type": "stream",
          "text": [
            "2575\n"
          ],
          "name": "stdout"
        }
      ]
    },
    {
      "cell_type": "code",
      "metadata": {
        "id": "02Mv1ekh4d41"
      },
      "source": [
        "input_sequences = []\n",
        "for line in corpus:\n",
        "    token_list = tokenizer.texts_to_sequences([line])[0]\n",
        "    for i in range(1, len(token_list)):\n",
        "        n_gram_sequence = token_list[:i+1]\n",
        "        input_sequences.append(n_gram_sequence)\n",
        "input_sequences[20:30]"
      ],
      "execution_count": 7,
      "outputs": []
    },
    {
      "cell_type": "code",
      "metadata": {
        "id": "p7r1sw3m40Lp"
      },
      "source": [
        "# pad sequences\n",
        "max_sequence_len = max([len(x) for x in input_sequences])\n",
        "input_sequences = np.array(pad_sequences(input_sequences, maxlen = max_sequence_len, padding='pre'))"
      ],
      "execution_count": 9,
      "outputs": []
    },
    {
      "cell_type": "code",
      "metadata": {
        "colab": {
          "base_uri": "https://localhost:8080/"
        },
        "id": "9c6G0ifE5W8-",
        "outputId": "9ec0e567-18c6-4f02-8028-962a171a244e"
      },
      "source": [
        "input_sequences[:2]"
      ],
      "execution_count": 12,
      "outputs": [
        {
          "output_type": "execute_result",
          "data": {
            "text/plain": [
              "array([[   0,    0,    0,    0,    0,    0,    0,    0,    0,    0,    0,\n",
              "           0,    0,    0,    0,    0,  578, 1327],\n",
              "       [   0,    0,    0,    0,    0,    0,    0,    0,    0,    0,    0,\n",
              "           0,    0,    0,    0,  578, 1327,   85]], dtype=int32)"
            ]
          },
          "metadata": {
            "tags": []
          },
          "execution_count": 12
        }
      ]
    },
    {
      "cell_type": "code",
      "metadata": {
        "id": "iJUFvZ3v5jeK",
        "colab": {
          "base_uri": "https://localhost:8080/"
        },
        "outputId": "3ea6d493-0326-41b2-b05a-18bef3272be7"
      },
      "source": [
        "predictors, label = input_sequences[:,:-1], input_sequences[:,-1]\n",
        "predictors.shape"
      ],
      "execution_count": 13,
      "outputs": [
        {
          "output_type": "execute_result",
          "data": {
            "text/plain": [
              "(17490, 17)"
            ]
          },
          "metadata": {
            "tags": []
          },
          "execution_count": 13
        }
      ]
    },
    {
      "cell_type": "markdown",
      "metadata": {
        "id": "gGniSvLy5pOw"
      },
      "source": [
        "### Building The Model"
      ]
    },
    {
      "cell_type": "code",
      "metadata": {
        "colab": {
          "base_uri": "https://localhost:8080/"
        },
        "id": "dQ9xj1TQ5mYs",
        "outputId": "87f148de-20f4-4ad1-e99f-e5e7f82e3f05"
      },
      "source": [
        "from keras import backend as K\n",
        "K.clear_session()\n",
        "\n",
        "def sparse_cat_loss(y_true,y_pred):\n",
        "    return sparse_categorical_crossentropy(y_true, y_pred, from_logits=False)\n",
        "\n",
        "vocab_size = total_words\n",
        "embed_dim = 50\n",
        "def create_model(vocab_size, embed_dim):\n",
        "    model = Sequential()\n",
        "    model.add(Embedding(vocab_size, embed_dim, input_length=max_sequence_len-1))\n",
        "\n",
        "    # Add an LSTM Layer\n",
        "    model.add(Bidirectional(LSTM(512, return_sequences=True)))\n",
        "    # A dropout layer for regularisation\n",
        "    model.add(Dropout(0.1))\n",
        "    # Add another LSTM Layer\n",
        "    model.add(LSTM(256,return_sequences=True)) \n",
        "    model.add(Dropout(0.1))\n",
        "    model.add(LSTM(128,return_sequences=False))\n",
        "    model.add(Dense(vocab_size//2, activation='relu'))\n",
        "    # In the last layer, the shape should be equal to the total number of words present in our corpus\n",
        "    model.add(Dense(vocab_size, activation='softmax'))\n",
        "    model.compile(loss=sparse_cat_loss, optimizer='adam', metrics='accuracy')\n",
        "    return model\n",
        "\n",
        "model = create_model(vocab_size, embed_dim)\n",
        "print(model.summary())"
      ],
      "execution_count": 38,
      "outputs": [
        {
          "output_type": "stream",
          "text": [
            "Model: \"sequential_9\"\n",
            "_________________________________________________________________\n",
            "Layer (type)                 Output Shape              Param #   \n",
            "=================================================================\n",
            "embedding_9 (Embedding)      (None, 17, 50)            128750    \n",
            "_________________________________________________________________\n",
            "bidirectional_9 (Bidirection (None, 17, 1024)          2306048   \n",
            "_________________________________________________________________\n",
            "dropout_12 (Dropout)         (None, 17, 1024)          0         \n",
            "_________________________________________________________________\n",
            "lstm_21 (LSTM)               (None, 17, 256)           1311744   \n",
            "_________________________________________________________________\n",
            "dropout_13 (Dropout)         (None, 17, 256)           0         \n",
            "_________________________________________________________________\n",
            "lstm_22 (LSTM)               (None, 128)               197120    \n",
            "_________________________________________________________________\n",
            "dense_16 (Dense)             (None, 1287)              166023    \n",
            "_________________________________________________________________\n",
            "dense_17 (Dense)             (None, 2575)              3316600   \n",
            "=================================================================\n",
            "Total params: 7,426,285\n",
            "Trainable params: 7,426,285\n",
            "Non-trainable params: 0\n",
            "_________________________________________________________________\n",
            "None\n"
          ],
          "name": "stdout"
        }
      ]
    },
    {
      "cell_type": "code",
      "metadata": {
        "colab": {
          "base_uri": "https://localhost:8080/"
        },
        "id": "vUS1h2h_53su",
        "outputId": "337770c6-35f9-4fc8-8f45-cff494ca2007"
      },
      "source": [
        "early_stopping = tf.keras.callbacks.EarlyStopping(monitor='loss', patience=5)\n",
        "\n",
        "history = model.fit(predictors, label, epochs=200, verbose=1, callbacks=[early_stopping])\n",
        "\n",
        "# Save the weights\n",
        "model.save_weights('/content/drive/MyDrive/data/models/ldr_by_word/ldr_by_word')"
      ],
      "execution_count": 45,
      "outputs": [
        {
          "output_type": "stream",
          "text": [
            "Epoch 1/200\n",
            "547/547 [==============================] - 8s 14ms/step - loss: 1.2222 - accuracy: 0.6431\n",
            "Epoch 2/200\n",
            "547/547 [==============================] - 8s 14ms/step - loss: 1.2102 - accuracy: 0.6467\n",
            "Epoch 3/200\n",
            "547/547 [==============================] - 8s 15ms/step - loss: 1.2145 - accuracy: 0.6430\n",
            "Epoch 4/200\n",
            "547/547 [==============================] - 8s 15ms/step - loss: 1.1945 - accuracy: 0.6489\n",
            "Epoch 5/200\n",
            "547/547 [==============================] - 8s 15ms/step - loss: 1.1741 - accuracy: 0.6583\n",
            "Epoch 6/200\n",
            "547/547 [==============================] - 8s 15ms/step - loss: 1.1636 - accuracy: 0.6598\n",
            "Epoch 7/200\n",
            "547/547 [==============================] - 8s 15ms/step - loss: 1.1410 - accuracy: 0.6638\n",
            "Epoch 8/200\n",
            "547/547 [==============================] - 8s 15ms/step - loss: 1.1386 - accuracy: 0.6660\n",
            "Epoch 9/200\n",
            "547/547 [==============================] - 8s 15ms/step - loss: 1.1107 - accuracy: 0.6727\n",
            "Epoch 10/200\n",
            "547/547 [==============================] - 8s 15ms/step - loss: 1.1097 - accuracy: 0.6718\n",
            "Epoch 11/200\n",
            "547/547 [==============================] - 8s 15ms/step - loss: 1.1187 - accuracy: 0.6704\n",
            "Epoch 12/200\n",
            "547/547 [==============================] - 8s 15ms/step - loss: 1.1063 - accuracy: 0.6766\n",
            "Epoch 13/200\n",
            "547/547 [==============================] - 8s 14ms/step - loss: 1.0911 - accuracy: 0.6790\n",
            "Epoch 14/200\n",
            "547/547 [==============================] - 8s 15ms/step - loss: 1.0705 - accuracy: 0.6840\n",
            "Epoch 15/200\n",
            "547/547 [==============================] - 8s 14ms/step - loss: 1.0865 - accuracy: 0.6782\n",
            "Epoch 16/200\n",
            "547/547 [==============================] - 8s 15ms/step - loss: 1.0515 - accuracy: 0.6898\n",
            "Epoch 17/200\n",
            "547/547 [==============================] - 8s 15ms/step - loss: 1.0436 - accuracy: 0.6903\n",
            "Epoch 18/200\n",
            "547/547 [==============================] - 8s 15ms/step - loss: 1.0571 - accuracy: 0.6878\n",
            "Epoch 19/200\n",
            "547/547 [==============================] - 8s 15ms/step - loss: 1.0434 - accuracy: 0.6919\n",
            "Epoch 20/200\n",
            "547/547 [==============================] - 8s 15ms/step - loss: 1.0309 - accuracy: 0.6939\n",
            "Epoch 21/200\n",
            "547/547 [==============================] - 8s 15ms/step - loss: 1.0047 - accuracy: 0.7013\n",
            "Epoch 22/200\n",
            "547/547 [==============================] - 8s 15ms/step - loss: 1.0029 - accuracy: 0.7018\n",
            "Epoch 23/200\n",
            "547/547 [==============================] - 9s 16ms/step - loss: 1.0086 - accuracy: 0.7014\n",
            "Epoch 24/200\n",
            "547/547 [==============================] - 8s 15ms/step - loss: 1.0139 - accuracy: 0.6997\n",
            "Epoch 25/200\n",
            "547/547 [==============================] - 8s 15ms/step - loss: 0.9982 - accuracy: 0.7017\n",
            "Epoch 26/200\n",
            "547/547 [==============================] - 8s 15ms/step - loss: 0.9787 - accuracy: 0.7075\n",
            "Epoch 27/200\n",
            "547/547 [==============================] - 9s 16ms/step - loss: 0.9575 - accuracy: 0.7121\n",
            "Epoch 28/200\n",
            "547/547 [==============================] - 8s 16ms/step - loss: 0.9669 - accuracy: 0.7097\n",
            "Epoch 29/200\n",
            "547/547 [==============================] - 9s 16ms/step - loss: 0.9649 - accuracy: 0.7114\n",
            "Epoch 30/200\n",
            "547/547 [==============================] - 9s 16ms/step - loss: 0.9614 - accuracy: 0.7122\n",
            "Epoch 31/200\n",
            "547/547 [==============================] - 9s 16ms/step - loss: 0.9507 - accuracy: 0.7138\n",
            "Epoch 32/200\n",
            "547/547 [==============================] - 9s 16ms/step - loss: 0.9414 - accuracy: 0.7187\n",
            "Epoch 33/200\n",
            "547/547 [==============================] - 9s 16ms/step - loss: 0.9391 - accuracy: 0.7190\n",
            "Epoch 34/200\n",
            "547/547 [==============================] - 9s 16ms/step - loss: 0.9344 - accuracy: 0.7192\n",
            "Epoch 35/200\n",
            "547/547 [==============================] - 8s 15ms/step - loss: 0.9360 - accuracy: 0.7185\n",
            "Epoch 36/200\n",
            "547/547 [==============================] - 8s 15ms/step - loss: 0.9462 - accuracy: 0.7146\n",
            "Epoch 37/200\n",
            "547/547 [==============================] - 9s 16ms/step - loss: 0.9269 - accuracy: 0.7204\n",
            "Epoch 38/200\n",
            "547/547 [==============================] - 9s 16ms/step - loss: 0.9105 - accuracy: 0.7270\n",
            "Epoch 39/200\n",
            "547/547 [==============================] - 8s 15ms/step - loss: 0.8943 - accuracy: 0.7307\n",
            "Epoch 40/200\n",
            "547/547 [==============================] - 8s 15ms/step - loss: 0.9027 - accuracy: 0.7242\n",
            "Epoch 41/200\n",
            "547/547 [==============================] - 8s 15ms/step - loss: 0.9074 - accuracy: 0.7257\n",
            "Epoch 42/200\n",
            "547/547 [==============================] - 8s 15ms/step - loss: 0.8965 - accuracy: 0.7316\n",
            "Epoch 43/200\n",
            "547/547 [==============================] - 8s 15ms/step - loss: 0.8845 - accuracy: 0.7355\n",
            "Epoch 44/200\n",
            "547/547 [==============================] - 9s 16ms/step - loss: 0.8751 - accuracy: 0.7333\n",
            "Epoch 45/200\n",
            "547/547 [==============================] - 9s 16ms/step - loss: 0.8705 - accuracy: 0.7358\n",
            "Epoch 46/200\n",
            "547/547 [==============================] - 9s 16ms/step - loss: 0.8731 - accuracy: 0.7336\n",
            "Epoch 47/200\n",
            "547/547 [==============================] - 9s 16ms/step - loss: 0.8821 - accuracy: 0.7335\n",
            "Epoch 48/200\n",
            "547/547 [==============================] - 8s 15ms/step - loss: 0.8709 - accuracy: 0.7360\n",
            "Epoch 49/200\n",
            "547/547 [==============================] - 8s 15ms/step - loss: 0.8624 - accuracy: 0.7366\n",
            "Epoch 50/200\n",
            "547/547 [==============================] - 8s 15ms/step - loss: 0.8554 - accuracy: 0.7412\n",
            "Epoch 51/200\n",
            "547/547 [==============================] - 8s 14ms/step - loss: 0.8463 - accuracy: 0.7427\n",
            "Epoch 52/200\n",
            "547/547 [==============================] - 8s 15ms/step - loss: 0.8637 - accuracy: 0.7388\n",
            "Epoch 53/200\n",
            "547/547 [==============================] - 8s 15ms/step - loss: 0.8453 - accuracy: 0.7429\n",
            "Epoch 54/200\n",
            "547/547 [==============================] - 8s 15ms/step - loss: 0.8371 - accuracy: 0.7438\n",
            "Epoch 55/200\n",
            "547/547 [==============================] - 8s 15ms/step - loss: 0.8307 - accuracy: 0.7472\n",
            "Epoch 56/200\n",
            "547/547 [==============================] - 8s 15ms/step - loss: 0.8352 - accuracy: 0.7447\n",
            "Epoch 57/200\n",
            "547/547 [==============================] - 8s 15ms/step - loss: 0.8312 - accuracy: 0.7467\n",
            "Epoch 58/200\n",
            "547/547 [==============================] - 8s 15ms/step - loss: 0.8262 - accuracy: 0.7472\n",
            "Epoch 59/200\n",
            "547/547 [==============================] - 8s 14ms/step - loss: 0.8178 - accuracy: 0.7495\n",
            "Epoch 60/200\n",
            "547/547 [==============================] - 8s 14ms/step - loss: 0.8235 - accuracy: 0.7473\n",
            "Epoch 61/200\n",
            "547/547 [==============================] - 8s 15ms/step - loss: 0.8285 - accuracy: 0.7487\n",
            "Epoch 62/200\n",
            "547/547 [==============================] - 8s 15ms/step - loss: 0.8070 - accuracy: 0.7499\n",
            "Epoch 63/200\n",
            "547/547 [==============================] - 8s 15ms/step - loss: 0.8155 - accuracy: 0.7508\n",
            "Epoch 64/200\n",
            "547/547 [==============================] - 8s 15ms/step - loss: 0.8069 - accuracy: 0.7520\n",
            "Epoch 65/200\n",
            "547/547 [==============================] - 8s 14ms/step - loss: 0.8129 - accuracy: 0.7501\n",
            "Epoch 66/200\n",
            "547/547 [==============================] - 8s 15ms/step - loss: 0.7966 - accuracy: 0.7531\n",
            "Epoch 67/200\n",
            "547/547 [==============================] - 8s 15ms/step - loss: 0.7934 - accuracy: 0.7562\n",
            "Epoch 68/200\n",
            "547/547 [==============================] - 8s 15ms/step - loss: 0.7930 - accuracy: 0.7564\n",
            "Epoch 69/200\n",
            "547/547 [==============================] - 8s 14ms/step - loss: 0.8173 - accuracy: 0.7530\n",
            "Epoch 70/200\n",
            "547/547 [==============================] - 8s 15ms/step - loss: 0.8008 - accuracy: 0.7553\n",
            "Epoch 71/200\n",
            "547/547 [==============================] - 8s 15ms/step - loss: 0.8079 - accuracy: 0.7516\n",
            "Epoch 72/200\n",
            "547/547 [==============================] - 8s 15ms/step - loss: 0.7827 - accuracy: 0.7586\n",
            "Epoch 73/200\n",
            "547/547 [==============================] - 8s 15ms/step - loss: 0.7761 - accuracy: 0.7605\n",
            "Epoch 74/200\n",
            "547/547 [==============================] - 8s 14ms/step - loss: 0.7798 - accuracy: 0.7613\n",
            "Epoch 75/200\n",
            "547/547 [==============================] - 8s 15ms/step - loss: 0.7941 - accuracy: 0.7563\n",
            "Epoch 76/200\n",
            "547/547 [==============================] - 8s 15ms/step - loss: 0.7854 - accuracy: 0.7592\n",
            "Epoch 77/200\n",
            "547/547 [==============================] - 8s 15ms/step - loss: 0.7725 - accuracy: 0.7615\n",
            "Epoch 78/200\n",
            "547/547 [==============================] - 8s 15ms/step - loss: 0.7805 - accuracy: 0.7577\n",
            "Epoch 79/200\n",
            "547/547 [==============================] - 8s 15ms/step - loss: 0.7667 - accuracy: 0.7656\n",
            "Epoch 80/200\n",
            "547/547 [==============================] - 8s 15ms/step - loss: 0.7609 - accuracy: 0.7634\n",
            "Epoch 81/200\n",
            "547/547 [==============================] - 8s 15ms/step - loss: 0.7683 - accuracy: 0.7647\n",
            "Epoch 82/200\n",
            "547/547 [==============================] - 8s 15ms/step - loss: 0.7712 - accuracy: 0.7637\n",
            "Epoch 83/200\n",
            "547/547 [==============================] - 8s 15ms/step - loss: 0.7676 - accuracy: 0.7633\n",
            "Epoch 84/200\n",
            "547/547 [==============================] - 8s 15ms/step - loss: 0.7497 - accuracy: 0.7669\n",
            "Epoch 85/200\n",
            "547/547 [==============================] - 8s 15ms/step - loss: 0.7564 - accuracy: 0.7671\n",
            "Epoch 86/200\n",
            "547/547 [==============================] - 8s 15ms/step - loss: 0.7557 - accuracy: 0.7617\n",
            "Epoch 87/200\n",
            "547/547 [==============================] - 8s 15ms/step - loss: 0.7478 - accuracy: 0.7671\n",
            "Epoch 88/200\n",
            "547/547 [==============================] - 8s 14ms/step - loss: 0.7462 - accuracy: 0.7678\n",
            "Epoch 89/200\n",
            "547/547 [==============================] - 8s 15ms/step - loss: 0.7496 - accuracy: 0.7670\n",
            "Epoch 90/200\n",
            "547/547 [==============================] - 8s 15ms/step - loss: 0.7496 - accuracy: 0.7644\n",
            "Epoch 91/200\n",
            "547/547 [==============================] - 8s 15ms/step - loss: 0.7550 - accuracy: 0.7631\n",
            "Epoch 92/200\n",
            "547/547 [==============================] - 8s 15ms/step - loss: 0.7386 - accuracy: 0.7700\n",
            "Epoch 93/200\n",
            "547/547 [==============================] - 8s 15ms/step - loss: 0.7451 - accuracy: 0.7658\n",
            "Epoch 94/200\n",
            "547/547 [==============================] - 8s 15ms/step - loss: 0.7422 - accuracy: 0.7683\n",
            "Epoch 95/200\n",
            "547/547 [==============================] - 8s 15ms/step - loss: 0.7337 - accuracy: 0.7731\n",
            "Epoch 96/200\n",
            "547/547 [==============================] - 8s 15ms/step - loss: 0.7297 - accuracy: 0.7725\n",
            "Epoch 97/200\n",
            "547/547 [==============================] - 8s 15ms/step - loss: 0.7224 - accuracy: 0.7739\n",
            "Epoch 98/200\n",
            "547/547 [==============================] - 8s 15ms/step - loss: 0.7247 - accuracy: 0.7743\n",
            "Epoch 99/200\n",
            "547/547 [==============================] - 8s 15ms/step - loss: 0.7322 - accuracy: 0.7755\n",
            "Epoch 100/200\n",
            "547/547 [==============================] - 8s 15ms/step - loss: 0.7420 - accuracy: 0.7686\n",
            "Epoch 101/200\n",
            "547/547 [==============================] - 8s 15ms/step - loss: 0.7405 - accuracy: 0.7678\n",
            "Epoch 102/200\n",
            "547/547 [==============================] - 8s 14ms/step - loss: 0.7203 - accuracy: 0.7765\n",
            "Epoch 103/200\n",
            "547/547 [==============================] - 8s 14ms/step - loss: 0.7268 - accuracy: 0.7729\n",
            "Epoch 104/200\n",
            "547/547 [==============================] - 8s 14ms/step - loss: 0.7221 - accuracy: 0.7731\n",
            "Epoch 105/200\n",
            "547/547 [==============================] - 8s 14ms/step - loss: 0.7279 - accuracy: 0.7734\n",
            "Epoch 106/200\n",
            "547/547 [==============================] - 8s 14ms/step - loss: 0.7366 - accuracy: 0.7709\n",
            "Epoch 107/200\n",
            "547/547 [==============================] - 8s 14ms/step - loss: 0.7142 - accuracy: 0.7753\n",
            "Epoch 108/200\n",
            "547/547 [==============================] - 8s 15ms/step - loss: 0.7277 - accuracy: 0.7735\n",
            "Epoch 109/200\n",
            "547/547 [==============================] - 8s 15ms/step - loss: 0.7143 - accuracy: 0.7761\n",
            "Epoch 110/200\n",
            "547/547 [==============================] - 8s 15ms/step - loss: 0.7147 - accuracy: 0.7755\n",
            "Epoch 111/200\n",
            "547/547 [==============================] - 8s 15ms/step - loss: 0.7383 - accuracy: 0.7704\n",
            "Epoch 112/200\n",
            "547/547 [==============================] - 8s 15ms/step - loss: 0.7106 - accuracy: 0.7771\n",
            "Epoch 113/200\n",
            "547/547 [==============================] - 8s 14ms/step - loss: 0.7114 - accuracy: 0.7767\n",
            "Epoch 114/200\n",
            "547/547 [==============================] - 8s 15ms/step - loss: 0.7113 - accuracy: 0.7770\n",
            "Epoch 115/200\n",
            "547/547 [==============================] - 8s 15ms/step - loss: 0.7185 - accuracy: 0.7739\n",
            "Epoch 116/200\n",
            "547/547 [==============================] - 8s 14ms/step - loss: 0.7054 - accuracy: 0.7779\n",
            "Epoch 117/200\n",
            "547/547 [==============================] - 8s 14ms/step - loss: 0.7070 - accuracy: 0.7791\n",
            "Epoch 118/200\n",
            "547/547 [==============================] - 8s 15ms/step - loss: 0.7028 - accuracy: 0.7772\n",
            "Epoch 119/200\n",
            "547/547 [==============================] - 8s 14ms/step - loss: 0.7175 - accuracy: 0.7752\n",
            "Epoch 120/200\n",
            "547/547 [==============================] - 8s 14ms/step - loss: 0.7060 - accuracy: 0.7754\n",
            "Epoch 121/200\n",
            "547/547 [==============================] - 8s 14ms/step - loss: 0.7100 - accuracy: 0.7772\n",
            "Epoch 122/200\n",
            "547/547 [==============================] - 8s 15ms/step - loss: 0.6916 - accuracy: 0.7827\n",
            "Epoch 123/200\n",
            "547/547 [==============================] - 8s 15ms/step - loss: 0.6983 - accuracy: 0.7807\n",
            "Epoch 124/200\n",
            "547/547 [==============================] - 8s 15ms/step - loss: 0.6982 - accuracy: 0.7796\n",
            "Epoch 125/200\n",
            "547/547 [==============================] - 8s 15ms/step - loss: 0.6924 - accuracy: 0.7802\n",
            "Epoch 126/200\n",
            "547/547 [==============================] - 8s 14ms/step - loss: 0.6983 - accuracy: 0.7800\n",
            "Epoch 127/200\n",
            "547/547 [==============================] - 8s 14ms/step - loss: 0.6907 - accuracy: 0.7820\n",
            "Epoch 128/200\n",
            "547/547 [==============================] - 8s 14ms/step - loss: 0.6854 - accuracy: 0.7839\n",
            "Epoch 129/200\n",
            "547/547 [==============================] - 8s 14ms/step - loss: 0.7010 - accuracy: 0.7785\n",
            "Epoch 130/200\n",
            "547/547 [==============================] - 8s 14ms/step - loss: 0.6939 - accuracy: 0.7816\n",
            "Epoch 131/200\n",
            "547/547 [==============================] - 8s 14ms/step - loss: 0.6923 - accuracy: 0.7808\n",
            "Epoch 132/200\n",
            "547/547 [==============================] - 8s 14ms/step - loss: 0.6941 - accuracy: 0.7801\n",
            "Epoch 133/200\n",
            "547/547 [==============================] - 8s 14ms/step - loss: 0.6935 - accuracy: 0.7818\n"
          ],
          "name": "stdout"
        }
      ]
    },
    {
      "cell_type": "code",
      "metadata": {
        "colab": {
          "base_uri": "https://localhost:8080/"
        },
        "id": "OJyf8E37KgMc",
        "outputId": "f71ff26f-997c-4ca0-d945-8d85f33b78e9"
      },
      "source": [
        "# list all data in history\n",
        "print(history.history.keys())"
      ],
      "execution_count": 46,
      "outputs": [
        {
          "output_type": "stream",
          "text": [
            "dict_keys(['loss', 'accuracy'])\n"
          ],
          "name": "stdout"
        }
      ]
    },
    {
      "cell_type": "code",
      "metadata": {
        "colab": {
          "base_uri": "https://localhost:8080/",
          "height": 295
        },
        "id": "IBujCyBwKmzo",
        "outputId": "ec8b7ebc-7b19-405d-9292-83163abf1dfb"
      },
      "source": [
        "# summarize history for accuracy\n",
        "plt.plot(history.history['loss'], label='loss')\n",
        "plt.plot(history.history['accuracy'], label='accuracy')\n",
        "plt.axhline(y=1, color='k')\n",
        "plt.title('loss & accuracy')\n",
        "plt.ylabel('value')\n",
        "plt.xlabel('epoch')\n",
        "plt.legend()\n",
        "plt.show()"
      ],
      "execution_count": 50,
      "outputs": [
        {
          "output_type": "display_data",
          "data": {
            "image/png": "[encoded data removed]",
            "text/plain": [
              "<Figure size 432x288 with 1 Axes>"
            ]
          },
          "metadata": {
            "tags": [],
            "needs_background": "light"
          }
        }
      ]
    },
    {
      "cell_type": "markdown",
      "metadata": {
        "id": "G9zC0bv4P41P"
      },
      "source": [
        "#### Recreate the model and load saved weights"
      ]
    },
    {
      "cell_type": "code",
      "metadata": {
        "colab": {
          "base_uri": "https://localhost:8080/",
          "height": 34
        },
        "id": "U5uOCrdP5_l8",
        "outputId": "3f04fa80-1822-4f2f-ccd0-b48ac36cb47d"
      },
      "source": [
        "# Create a new model instance\n",
        "model_loaded = create_model(vocab_size, embed_dim)\n",
        "model_loaded.load_weights('/content/drive/MyDrive/data/models/ldr_by_word/ldr_by_word')"
      ],
      "execution_count": 63,
      "outputs": [
        {
          "output_type": "display_data",
          "data": {
            "text/html": [
              "<style>table.dataframe td{white-space: nowrap;}</style>"
            ],
            "text/plain": [
              "<IPython.core.display.HTML object>"
            ]
          },
          "metadata": {
            "tags": []
          }
        },
        {
          "output_type": "display_data",
          "data": {
            "text/html": [
              "\n",
              "  <style>\n",
              "    pre {\n",
              "        white-space: pre-wrap;\n",
              "    }\n",
              "  </style>\n",
              "  "
            ],
            "text/plain": [
              "<IPython.core.display.HTML object>"
            ]
          },
          "metadata": {
            "tags": []
          }
        },
        {
          "output_type": "execute_result",
          "data": {
            "text/plain": [
              "<tensorflow.python.training.tracking.util.CheckpointLoadStatus at 0x7f3b6037a250>"
            ]
          },
          "metadata": {
            "tags": []
          },
          "execution_count": 63
        }
      ]
    },
    {
      "cell_type": "code",
      "metadata": {
        "id": "OiPyUjHSQlVR"
      },
      "source": [
        "def make_lyrics(model, seed_text, next_words):\n",
        "    for _ in range(next_words):\n",
        "        token_list = tokenizer.texts_to_sequences([seed_text])[0]\n",
        "        token_list = pad_sequences([token_list],\n",
        "                     maxlen=max_sequence_len-1,padding='pre')\n",
        "        predicted = np.argmax(model.predict(token_list, verbose=0), axis=-1)\n",
        "        output_word = \"\"\n",
        "        for word, index in tokenizer.word_index.items():\n",
        "            if index == predicted:\n",
        "                output_word = word\n",
        "                break\n",
        "        seed_text += \" \" + output_word\n",
        "    return seed_text"
      ],
      "execution_count": 43,
      "outputs": []
    },
    {
      "cell_type": "code",
      "metadata": {
        "colab": {
          "base_uri": "https://localhost:8080/",
          "height": 85
        },
        "id": "OWtcy-scQrhI",
        "outputId": "d697f6bd-dddb-4b40-9523-7987fdd274ba"
      },
      "source": [
        "predicted_lyrics = make_lyrics(model, 'ice cream', 100)\n",
        "print(predicted_lyrics)"
      ],
      "execution_count": 60,
      "outputs": [
        {
          "output_type": "display_data",
          "data": {
            "text/html": [
              "<style>table.dataframe td{white-space: nowrap;}</style>"
            ],
            "text/plain": [
              "<IPython.core.display.HTML object>"
            ]
          },
          "metadata": {
            "tags": []
          }
        },
        {
          "output_type": "display_data",
          "data": {
            "text/html": [
              "\n",
              "  <style>\n",
              "    pre {\n",
              "        white-space: pre-wrap;\n",
              "    }\n",
              "  </style>\n",
              "  "
            ],
            "text/plain": [
              "<IPython.core.display.HTML object>"
            ]
          },
          "metadata": {
            "tags": []
          }
        },
        {
          "output_type": "stream",
          "text": [
            "ice cream ice queen of many bonnie's blue if you were so much better divine away it hazy the oh when i my eyes are wide drinkin' gold can leather life you're born to keep me once i while no one that's why then everything you say he schnapps with a while is lit never warns up rising up when i was curtain tuerais grow cold outside babe is hard on put your life fire of my baby swinging with the top but when you're standin' in infamy feels like my veins yeah yeah oh shatter yeah oh yeah oh yeah oh\n"
          ],
          "name": "stdout"
        }
      ]
    },
    {
      "cell_type": "code",
      "metadata": {
        "colab": {
          "base_uri": "https://localhost:8080/",
          "height": 85
        },
        "id": "ZcrMbyOMIfLs",
        "outputId": "a795d0b5-5f6f-43d8-b6c6-faf6f11b7638"
      },
      "source": [
        "predicted_lyrics = make_lyrics(model, 'james dean', 100)\n",
        "print(predicted_lyrics)"
      ],
      "execution_count": 57,
      "outputs": [
        {
          "output_type": "display_data",
          "data": {
            "text/html": [
              "<style>table.dataframe td{white-space: nowrap;}</style>"
            ],
            "text/plain": [
              "<IPython.core.display.HTML object>"
            ]
          },
          "metadata": {
            "tags": []
          }
        },
        {
          "output_type": "display_data",
          "data": {
            "text/html": [
              "\n",
              "  <style>\n",
              "    pre {\n",
              "        white-space: pre-wrap;\n",
              "    }\n",
              "  </style>\n",
              "  "
            ],
            "text/plain": [
              "<IPython.core.display.HTML object>"
            ]
          },
          "metadata": {
            "tags": []
          }
        },
        {
          "output_type": "stream",
          "text": [
            "james dean for memory damn days sports car and do it for forever find one of your legacy i'm usually night 'bout you really know that i write a las vegas eyes are to change baby again at you for you so much on the train platform golden brown on that follow me through these halls all 2 life baby again at heart and can of your vogues and all of your rolling stones slippin' on your side that's the things to come come to get baby without they now i'm cursed never hot weather in the tv changes and seasons wow\n"
          ],
          "name": "stdout"
        }
      ]
    },
    {
      "cell_type": "code",
      "metadata": {
        "colab": {
          "base_uri": "https://localhost:8080/",
          "height": 85
        },
        "id": "38Jzoo45ckJt",
        "outputId": "4cdbe7a1-370b-4649-86d3-2885ed439e69"
      },
      "source": [
        "predicted_lyrics = make_lyrics(model, 'queen of', 100)\n",
        "print(predicted_lyrics)"
      ],
      "execution_count": 61,
      "outputs": [
        {
          "output_type": "display_data",
          "data": {
            "text/html": [
              "<style>table.dataframe td{white-space: nowrap;}</style>"
            ],
            "text/plain": [
              "<IPython.core.display.HTML object>"
            ]
          },
          "metadata": {
            "tags": []
          }
        },
        {
          "output_type": "display_data",
          "data": {
            "text/html": [
              "\n",
              "  <style>\n",
              "    pre {\n",
              "        white-space: pre-wrap;\n",
              "    }\n",
              "  </style>\n",
              "  "
            ],
            "text/plain": [
              "<IPython.core.display.HTML object>"
            ]
          },
          "metadata": {
            "tags": []
          }
        },
        {
          "output_type": "stream",
          "text": [
            "queen of coney island crazy at both ends you do it well i'm your little bambi eyes dreams i'm your national anthem god hymn don't be a fuckin' mess in from everywhere i am i hurts on he ain't on put more up straight to you i'll do we music turns that no more skippin' past like jim '90s in it hot hot weather in the spring i love you honey away my tar black hair used to yes of mind you do it feel like the ah your walls even able to you i'll always make it hard but you keep\n"
          ],
          "name": "stdout"
        }
      ]
    },
    {
      "cell_type": "code",
      "metadata": {
        "colab": {
          "base_uri": "https://localhost:8080/",
          "height": 85
        },
        "id": "sLOBwIhOcj-P",
        "outputId": "8c268e4f-fbbc-4ab8-db9e-173f3faf62c5"
      },
      "source": [
        "predicted_lyrics = make_lyrics(model, 'park', 100)\n",
        "print(predicted_lyrics)"
      ],
      "execution_count": 62,
      "outputs": [
        {
          "output_type": "display_data",
          "data": {
            "text/html": [
              "<style>table.dataframe td{white-space: nowrap;}</style>"
            ],
            "text/plain": [
              "<IPython.core.display.HTML object>"
            ]
          },
          "metadata": {
            "tags": []
          }
        },
        {
          "output_type": "display_data",
          "data": {
            "text/html": [
              "\n",
              "  <style>\n",
              "    pre {\n",
              "        white-space: pre-wrap;\n",
              "    }\n",
              "  </style>\n",
              "  "
            ],
            "text/plain": [
              "<IPython.core.display.HTML object>"
            ]
          },
          "metadata": {
            "tags": []
          }
        },
        {
          "output_type": "stream",
          "text": [
            "park making me everything's okay ay babe yeah 'bout it from the spring i feel it at your whole world is so always like it like a minute night yeah you blame the news he prays for love he prays for peace and maybe someone new coat on the spring i love track of the right thing to from a woman are hard to wait to me alive again at you do was read do he in the sky with the real that's agree powerful beings hot weather in the spring i me baby we need to start diamonds on a\n"
          ],
          "name": "stdout"
        }
      ]
    },
    {
      "cell_type": "code",
      "metadata": {
        "colab": {
          "base_uri": "https://localhost:8080/"
        },
        "id": "OYW9z6pjQuUp",
        "outputId": "fc3d8cac-8a73-4df9-f65f-8c4b559a260f"
      },
      "source": [
        "predicted_lyrics = make_lyrics(model_loaded, 'california', 50)\n",
        "print(predicted_lyrics)"
      ],
      "execution_count": 34,
      "outputs": [
        {
          "output_type": "stream",
          "text": [
            "california dreamin' got my little red sports car what you like just if you do i can't see myself having veyron of it like a vitamin when i hold you forever just take me there and be my tiny dancer baby by my once in a lifetime manifesto violet pills on\n"
          ],
          "name": "stdout"
        }
      ]
    },
    {
      "cell_type": "code",
      "metadata": {
        "id": "yBhQMXoDGENl"
      },
      "source": [
        ""
      ],
      "execution_count": null,
      "outputs": []
    }
  ]
}