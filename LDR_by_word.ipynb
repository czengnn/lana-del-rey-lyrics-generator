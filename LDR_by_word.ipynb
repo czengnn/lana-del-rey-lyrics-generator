{
  "nbformat": 4,
  "nbformat_minor": 0,
  "metadata": {
    "colab": {
      "name": "LDR_by_word.ipynb",
      "provenance": [],
      "collapsed_sections": [],
      "include_colab_link": true
    },
    "kernelspec": {
      "name": "python3",
      "display_name": "Python 3"
    },
    "language_info": {
      "name": "python"
    },
    "accelerator": "GPU"
  },
  "cells": [
    {
      "cell_type": "markdown",
      "metadata": {
        "id": "view-in-github",
        "colab_type": "text"
      },
      "source": [
        "<a href=\"https://colab.research.google.com/github/czengnn/lana-del-rey-lyrics-generator/blob/main/LDR_by_word.ipynb\" target=\"_parent\"><img src=\"https://colab.research.google.com/assets/colab-badge.svg\" alt=\"Open In Colab\"/></a>"
      ]
    },
    {
      "cell_type": "code",
      "metadata": {
        "id": "ZgmknXZ2aTtk"
      },
      "source": [
        "from IPython.display import HTML, display\n",
        "\n",
        "def set_css():\n",
        "    display(HTML('''<style> pre {white-space: pre-wrap;} </style>'''))\n",
        "get_ipython().events.register('pre_run_cell', set_css)"
      ],
      "execution_count": 1,
      "outputs": []
    },
    {
      "cell_type": "code",
      "metadata": {
        "id": "ZlWo3BTR3CTP",
        "colab": {
          "base_uri": "https://localhost:8080/",
          "height": 51
        },
        "outputId": "7cb10112-18ee-4872-b828-3112b27f1be2"
      },
      "source": [
        "import pandas as pd \n",
        "import numpy as np \n",
        "import re \n",
        "import os\n",
        "import time\n",
        "import matplotlib.pyplot as plt\n",
        "\n",
        "import tensorflow as tf\n",
        "import keras \n",
        "print(tf.__version__)\n",
        "print(keras.__version__)\n",
        "\n",
        "from keras.preprocessing.text import Tokenizer\n",
        "from keras.preprocessing.sequence import pad_sequences\n",
        "from keras.losses import sparse_categorical_crossentropy\n",
        "\n",
        "from keras.models import Sequential\n",
        "from keras.layers import LSTM, Activation, Flatten, Dropout, Dense, Embedding, TimeDistributed, Bidirectional\n",
        "from keras.callbacks import ModelCheckpoint\n"
      ],
      "execution_count": 2,
      "outputs": [
        {
          "output_type": "display_data",
          "data": {
            "text/html": [
              "<style> pre {white-space: pre-wrap;} </style>"
            ],
            "text/plain": [
              "<IPython.core.display.HTML object>"
            ]
          },
          "metadata": {
            "tags": []
          }
        },
        {
          "output_type": "stream",
          "text": [
            "2.4.1\n",
            "2.4.3\n"
          ],
          "name": "stdout"
        }
      ]
    },
    {
      "cell_type": "code",
      "metadata": {
        "colab": {
          "base_uri": "https://localhost:8080/",
          "height": 34
        },
        "id": "VpO8WUxfsYMQ",
        "outputId": "17354baa-d0bb-4960-9740-2ddf97ce2687"
      },
      "source": [
        "from google.colab import drive\n",
        "drive.mount('/content/drive')"
      ],
      "execution_count": 4,
      "outputs": [
        {
          "output_type": "display_data",
          "data": {
            "text/html": [
              "<style> pre {white-space: pre-wrap;} </style>"
            ],
            "text/plain": [
              "<IPython.core.display.HTML object>"
            ]
          },
          "metadata": {
            "tags": []
          }
        },
        {
          "output_type": "stream",
          "text": [
            "Mounted at /content/drive\n"
          ],
          "name": "stdout"
        }
      ]
    },
    {
      "cell_type": "code",
      "metadata": {
        "colab": {
          "base_uri": "https://localhost:8080/",
          "height": 34
        },
        "id": "FivZ1COMFE-D",
        "outputId": "d438ff60-5f0b-4fce-df9a-4a0067a362d4"
      },
      "source": [
        "# load songs\n",
        "songs = pd.read_csv('/content/drive/MyDrive/repos/lana-del-rey-lyrics-generator/data/lana_lyrics_98.csv')\n",
        "songs.shape"
      ],
      "execution_count": 5,
      "outputs": [
        {
          "output_type": "display_data",
          "data": {
            "text/html": [
              "<style> pre {white-space: pre-wrap;} </style>"
            ],
            "text/plain": [
              "<IPython.core.display.HTML object>"
            ]
          },
          "metadata": {
            "tags": []
          }
        },
        {
          "output_type": "execute_result",
          "data": {
            "text/plain": [
              "(98, 2)"
            ]
          },
          "metadata": {
            "tags": []
          },
          "execution_count": 5
        }
      ]
    },
    {
      "cell_type": "code",
      "metadata": {
        "id": "D9m7QJNkFIkU",
        "colab": {
          "base_uri": "https://localhost:8080/",
          "height": 17
        },
        "outputId": "7b509c84-e7e2-4e66-b22a-729bd790bd6f"
      },
      "source": [
        "# put lyrics into 1 string\n",
        "text = ''\n",
        "for song in songs['lyrics']:\n",
        "    text = text + song.lower()\n",
        "    \n",
        "# remove the text with brackets around them, such as [Verse 1]\n",
        "text = re.sub(r'\\[[^][]*\\]', '', text)"
      ],
      "execution_count": 6,
      "outputs": [
        {
          "output_type": "display_data",
          "data": {
            "text/html": [
              "<style> pre {white-space: pre-wrap;} </style>"
            ],
            "text/plain": [
              "<IPython.core.display.HTML object>"
            ]
          },
          "metadata": {
            "tags": []
          }
        }
      ]
    },
    {
      "cell_type": "code",
      "metadata": {
        "colab": {
          "base_uri": "https://localhost:8080/",
          "height": 51
        },
        "id": "MesZiJjU3SCh",
        "outputId": "7f82930b-1de7-4c73-ccba-4d5564d82234"
      },
      "source": [
        "# length of text is the number of characters in it\n",
        "print(f'Length of text: {len(text)} characters')\n",
        "\n",
        "# The unique characters in the file\n",
        "vocab = sorted(set(text))\n",
        "print(f'{len(vocab)} unique characters')"
      ],
      "execution_count": 7,
      "outputs": [
        {
          "output_type": "display_data",
          "data": {
            "text/html": [
              "<style> pre {white-space: pre-wrap;} </style>"
            ],
            "text/plain": [
              "<IPython.core.display.HTML object>"
            ]
          },
          "metadata": {
            "tags": []
          }
        },
        {
          "output_type": "stream",
          "text": [
            "Length of text: 161722 characters\n",
            "61 unique characters\n"
          ],
          "name": "stdout"
        }
      ]
    },
    {
      "cell_type": "code",
      "metadata": {
        "colab": {
          "base_uri": "https://localhost:8080/",
          "height": 102
        },
        "id": "AplgShWA3jeS",
        "outputId": "15bc0ef1-d918-4c41-fc50-628d8be6b8a1"
      },
      "source": [
        "corpus = list(set(text.lower().split('\\n')))\n",
        "corpus[:5]"
      ],
      "execution_count": 8,
      "outputs": [
        {
          "output_type": "display_data",
          "data": {
            "text/html": [
              "<style> pre {white-space: pre-wrap;} </style>"
            ],
            "text/plain": [
              "<IPython.core.display.HTML object>"
            ]
          },
          "metadata": {
            "tags": []
          }
        },
        {
          "output_type": "execute_result",
          "data": {
            "text/plain": [
              "['',\n",
              " 'acting like a big shot',\n",
              " 'high tops in the summer (summer, what? what? what?)',\n",
              " \"so you'd better believe that nobody can make me feel lonely\",\n",
              " 'and my crooked words']"
            ]
          },
          "metadata": {
            "tags": []
          },
          "execution_count": 8
        }
      ]
    },
    {
      "cell_type": "code",
      "metadata": {
        "id": "Yp--rn6031rr",
        "colab": {
          "base_uri": "https://localhost:8080/",
          "height": 34
        },
        "outputId": "44ca7426-f88e-4720-b01e-e1ecd6375875"
      },
      "source": [
        "tokenizer = Tokenizer()\n",
        "tokenizer.fit_on_texts(corpus)\n",
        "total_words = len(tokenizer.word_index) + 1\n",
        "print(total_words)"
      ],
      "execution_count": 9,
      "outputs": [
        {
          "output_type": "display_data",
          "data": {
            "text/html": [
              "<style> pre {white-space: pre-wrap;} </style>"
            ],
            "text/plain": [
              "<IPython.core.display.HTML object>"
            ]
          },
          "metadata": {
            "tags": []
          }
        },
        {
          "output_type": "stream",
          "text": [
            "2575\n"
          ],
          "name": "stdout"
        }
      ]
    },
    {
      "cell_type": "code",
      "metadata": {
        "id": "02Mv1ekh4d41",
        "colab": {
          "base_uri": "https://localhost:8080/",
          "height": 187
        },
        "outputId": "bc57b1e9-f60b-4ccb-a3fb-1fc1e4935f82"
      },
      "source": [
        "input_sequences = []\n",
        "for line in corpus:\n",
        "    token_list = tokenizer.texts_to_sequences([line])[0]\n",
        "    for i in range(1, len(token_list)):\n",
        "        n_gram_sequence = token_list[:i+1]\n",
        "        input_sequences.append(n_gram_sequence)\n",
        "input_sequences[20:30]"
      ],
      "execution_count": 10,
      "outputs": [
        {
          "output_type": "display_data",
          "data": {
            "text/html": [
              "<style> pre {white-space: pre-wrap;} </style>"
            ],
            "text/plain": [
              "<IPython.core.display.HTML object>"
            ]
          },
          "metadata": {
            "tags": []
          }
        },
        {
          "output_type": "execute_result",
          "data": {
            "text/plain": [
              "[[33, 308, 203, 432, 17, 309, 45, 66, 6, 68],\n",
              " [33, 308, 203, 432, 17, 309, 45, 66, 6, 68, 310],\n",
              " [4, 7],\n",
              " [4, 7, 1327],\n",
              " [4, 7, 1327, 383],\n",
              " [87, 6],\n",
              " [87, 6, 30],\n",
              " [87, 6, 30, 96],\n",
              " [87, 6, 30, 96, 12],\n",
              " [87, 6, 30, 96, 12, 433]]"
            ]
          },
          "metadata": {
            "tags": []
          },
          "execution_count": 10
        }
      ]
    },
    {
      "cell_type": "code",
      "metadata": {
        "id": "p7r1sw3m40Lp",
        "colab": {
          "base_uri": "https://localhost:8080/",
          "height": 17
        },
        "outputId": "ff98ebb4-9e1b-46b0-98ea-d062a72302b2"
      },
      "source": [
        "# pad sequences\n",
        "max_sequence_len = max([len(x) for x in input_sequences])\n",
        "input_sequences = np.array(pad_sequences(input_sequences, maxlen = max_sequence_len, padding='pre'))"
      ],
      "execution_count": 11,
      "outputs": [
        {
          "output_type": "display_data",
          "data": {
            "text/html": [
              "<style> pre {white-space: pre-wrap;} </style>"
            ],
            "text/plain": [
              "<IPython.core.display.HTML object>"
            ]
          },
          "metadata": {
            "tags": []
          }
        }
      ]
    },
    {
      "cell_type": "code",
      "metadata": {
        "colab": {
          "base_uri": "https://localhost:8080/",
          "height": 85
        },
        "id": "9c6G0ifE5W8-",
        "outputId": "85b4852e-b3cb-4ac3-d207-1b995cef618f"
      },
      "source": [
        "input_sequences[:2]"
      ],
      "execution_count": 12,
      "outputs": [
        {
          "output_type": "display_data",
          "data": {
            "text/html": [
              "<style> pre {white-space: pre-wrap;} </style>"
            ],
            "text/plain": [
              "<IPython.core.display.HTML object>"
            ]
          },
          "metadata": {
            "tags": []
          }
        },
        {
          "output_type": "execute_result",
          "data": {
            "text/plain": [
              "array([[  0,   0,   0,   0,   0,   0,   0,   0,   0,   0,   0,   0,   0,\n",
              "          0,   0,   0, 916,  11],\n",
              "       [  0,   0,   0,   0,   0,   0,   0,   0,   0,   0,   0,   0,   0,\n",
              "          0,   0, 916,  11,   8]], dtype=int32)"
            ]
          },
          "metadata": {
            "tags": []
          },
          "execution_count": 12
        }
      ]
    },
    {
      "cell_type": "code",
      "metadata": {
        "id": "iJUFvZ3v5jeK",
        "colab": {
          "base_uri": "https://localhost:8080/",
          "height": 34
        },
        "outputId": "396875cd-1ea4-4bd2-ff9c-90b2a26e43b7"
      },
      "source": [
        "predictors, label = input_sequences[:,:-1], input_sequences[:,-1]\n",
        "predictors.shape"
      ],
      "execution_count": 13,
      "outputs": [
        {
          "output_type": "display_data",
          "data": {
            "text/html": [
              "<style> pre {white-space: pre-wrap;} </style>"
            ],
            "text/plain": [
              "<IPython.core.display.HTML object>"
            ]
          },
          "metadata": {
            "tags": []
          }
        },
        {
          "output_type": "execute_result",
          "data": {
            "text/plain": [
              "(17490, 17)"
            ]
          },
          "metadata": {
            "tags": []
          },
          "execution_count": 13
        }
      ]
    },
    {
      "cell_type": "markdown",
      "metadata": {
        "id": "gGniSvLy5pOw"
      },
      "source": [
        "### Building The Model"
      ]
    },
    {
      "cell_type": "code",
      "metadata": {
        "colab": {
          "base_uri": "https://localhost:8080/",
          "height": 408
        },
        "id": "dQ9xj1TQ5mYs",
        "outputId": "95e805f9-6a94-4991-c510-20fb21c11282"
      },
      "source": [
        "from keras import backend as K\n",
        "K.clear_session()\n",
        "\n",
        "def sparse_cat_loss(y_true,y_pred):\n",
        "    return sparse_categorical_crossentropy(y_true, y_pred, from_logits=False)\n",
        "\n",
        "vocab_size = total_words\n",
        "embed_dim = 60\n",
        "def create_model(vocab_size, embed_dim):\n",
        "    model = Sequential()\n",
        "    model.add(Embedding(vocab_size, embed_dim, input_length=max_sequence_len-1))\n",
        "\n",
        "    # Add an LSTM Layer\n",
        "    model.add(Bidirectional(LSTM(150, return_sequences=True)))\n",
        "    # A dropout layer for regularisation\n",
        "    model.add(Dropout(0.1))\n",
        "    # Add another LSTM Layer\n",
        "    model.add(LSTM(100,return_sequences=False)) \n",
        "    model.add(Dropout(0.1))\n",
        "    model.add(Dense(vocab_size//2, activation='relu'))\n",
        "    # In the last layer, the shape should be equal to the total number of words present in our corpus\n",
        "    model.add(Dense(vocab_size, activation='softmax'))\n",
        "    return model\n",
        "\n",
        "model = create_model(vocab_size, embed_dim)\n",
        "model.compile(loss=sparse_cat_loss, optimizer='adam', metrics='accuracy')\n",
        "print(model.summary())"
      ],
      "execution_count": 29,
      "outputs": [
        {
          "output_type": "display_data",
          "data": {
            "text/html": [
              "<style> pre {white-space: pre-wrap;} </style>"
            ],
            "text/plain": [
              "<IPython.core.display.HTML object>"
            ]
          },
          "metadata": {
            "tags": []
          }
        },
        {
          "output_type": "stream",
          "text": [
            "Model: \"sequential\"\n",
            "_________________________________________________________________\n",
            "Layer (type)                 Output Shape              Param #   \n",
            "=================================================================\n",
            "embedding (Embedding)        (None, 17, 60)            154500    \n",
            "_________________________________________________________________\n",
            "bidirectional (Bidirectional (None, 17, 300)           253200    \n",
            "_________________________________________________________________\n",
            "dropout (Dropout)            (None, 17, 300)           0         \n",
            "_________________________________________________________________\n",
            "lstm_1 (LSTM)                (None, 100)               160400    \n",
            "_________________________________________________________________\n",
            "dropout_1 (Dropout)          (None, 100)               0         \n",
            "_________________________________________________________________\n",
            "dense (Dense)                (None, 1287)              129987    \n",
            "_________________________________________________________________\n",
            "dense_1 (Dense)              (None, 2575)              3316600   \n",
            "=================================================================\n",
            "Total params: 4,014,687\n",
            "Trainable params: 4,014,687\n",
            "Non-trainable params: 0\n",
            "_________________________________________________________________\n",
            "None\n"
          ],
          "name": "stdout"
        }
      ]
    },
    {
      "cell_type": "code",
      "metadata": {
        "colab": {
          "base_uri": "https://localhost:8080/",
          "height": 1000
        },
        "id": "vUS1h2h_53su",
        "outputId": "489b5a5a-986f-4385-edb4-b027dc9e16c7"
      },
      "source": [
        "early_stopping = tf.keras.callbacks.EarlyStopping(monitor='loss', patience=5)\n",
        "history = model.fit(predictors, label, epochs=100, verbose=1, callbacks=[early_stopping])\n",
        "\n",
        "# Save the weights\n",
        "model.save_weights('/content/drive/MyDrive/repos/lana-del-rey-lyrics-generator/models/ldr_by_word/ldr_by_word')"
      ],
      "execution_count": 28,
      "outputs": [
        {
          "output_type": "display_data",
          "data": {
            "text/html": [
              "<style> pre {white-space: pre-wrap;} </style>"
            ],
            "text/plain": [
              "<IPython.core.display.HTML object>"
            ]
          },
          "metadata": {
            "tags": []
          }
        },
        {
          "output_type": "stream",
          "text": [
            "Epoch 1/200\n",
            "547/547 [==============================] - 9s 9ms/step - loss: 6.5541 - accuracy: 0.0344\n",
            "Epoch 2/200\n",
            "547/547 [==============================] - 5s 9ms/step - loss: 5.9512 - accuracy: 0.0396\n",
            "Epoch 3/200\n",
            "547/547 [==============================] - 5s 9ms/step - loss: 5.7013 - accuracy: 0.0465\n",
            "Epoch 4/200\n",
            "547/547 [==============================] - 5s 9ms/step - loss: 5.4721 - accuracy: 0.0584\n",
            "Epoch 5/200\n",
            "547/547 [==============================] - 5s 9ms/step - loss: 5.2630 - accuracy: 0.0771\n",
            "Epoch 6/200\n",
            "547/547 [==============================] - 5s 9ms/step - loss: 5.0738 - accuracy: 0.0977\n",
            "Epoch 7/200\n",
            "547/547 [==============================] - 5s 9ms/step - loss: 4.8965 - accuracy: 0.1116\n",
            "Epoch 8/200\n",
            "547/547 [==============================] - 5s 9ms/step - loss: 4.7703 - accuracy: 0.1160\n",
            "Epoch 9/200\n",
            "547/547 [==============================] - 5s 9ms/step - loss: 4.5595 - accuracy: 0.1327\n",
            "Epoch 10/200\n",
            "547/547 [==============================] - 5s 9ms/step - loss: 4.4360 - accuracy: 0.1430\n",
            "Epoch 11/200\n",
            "547/547 [==============================] - 5s 9ms/step - loss: 4.2992 - accuracy: 0.1471\n",
            "Epoch 12/200\n",
            "547/547 [==============================] - 5s 9ms/step - loss: 4.1361 - accuracy: 0.1586\n",
            "Epoch 13/200\n",
            "547/547 [==============================] - 5s 9ms/step - loss: 4.0157 - accuracy: 0.1660\n",
            "Epoch 14/200\n",
            "547/547 [==============================] - 5s 9ms/step - loss: 3.8583 - accuracy: 0.1820\n",
            "Epoch 15/200\n",
            "547/547 [==============================] - 5s 9ms/step - loss: 3.7323 - accuracy: 0.1966\n",
            "Epoch 16/200\n",
            "547/547 [==============================] - 5s 9ms/step - loss: 3.5901 - accuracy: 0.2124\n",
            "Epoch 17/200\n",
            "547/547 [==============================] - 5s 9ms/step - loss: 3.4748 - accuracy: 0.2250\n",
            "Epoch 18/200\n",
            "547/547 [==============================] - 5s 9ms/step - loss: 3.3366 - accuracy: 0.2415\n",
            "Epoch 19/200\n",
            "547/547 [==============================] - 5s 9ms/step - loss: 3.2209 - accuracy: 0.2530\n",
            "Epoch 20/200\n",
            "547/547 [==============================] - 5s 9ms/step - loss: 3.1329 - accuracy: 0.2660\n",
            "Epoch 21/200\n",
            "547/547 [==============================] - 5s 9ms/step - loss: 3.0324 - accuracy: 0.2795\n",
            "Epoch 22/200\n",
            "547/547 [==============================] - 5s 9ms/step - loss: 2.8884 - accuracy: 0.3082\n",
            "Epoch 23/200\n",
            "547/547 [==============================] - 5s 9ms/step - loss: 2.7999 - accuracy: 0.3198\n",
            "Epoch 24/200\n",
            "547/547 [==============================] - 5s 9ms/step - loss: 2.6975 - accuracy: 0.3339\n",
            "Epoch 25/200\n",
            "547/547 [==============================] - 5s 9ms/step - loss: 2.6072 - accuracy: 0.3465\n",
            "Epoch 26/200\n",
            "547/547 [==============================] - 5s 9ms/step - loss: 2.5173 - accuracy: 0.3648\n",
            "Epoch 27/200\n",
            "547/547 [==============================] - 5s 9ms/step - loss: 2.4319 - accuracy: 0.3836\n",
            "Epoch 28/200\n",
            "547/547 [==============================] - 5s 9ms/step - loss: 2.3799 - accuracy: 0.3889\n",
            "Epoch 29/200\n",
            "547/547 [==============================] - 5s 9ms/step - loss: 2.3055 - accuracy: 0.4041\n",
            "Epoch 30/200\n",
            "547/547 [==============================] - 5s 9ms/step - loss: 2.2332 - accuracy: 0.4265\n",
            "Epoch 31/200\n",
            "547/547 [==============================] - 5s 9ms/step - loss: 2.1205 - accuracy: 0.4409\n",
            "Epoch 32/200\n",
            "547/547 [==============================] - 5s 9ms/step - loss: 2.0910 - accuracy: 0.4485\n",
            "Epoch 33/200\n",
            "547/547 [==============================] - 5s 9ms/step - loss: 2.0115 - accuracy: 0.4714\n",
            "Epoch 34/200\n",
            "547/547 [==============================] - 5s 9ms/step - loss: 1.9430 - accuracy: 0.4812\n",
            "Epoch 35/200\n",
            "547/547 [==============================] - 5s 9ms/step - loss: 1.8950 - accuracy: 0.4950\n",
            "Epoch 36/200\n",
            "547/547 [==============================] - 5s 9ms/step - loss: 1.8203 - accuracy: 0.5090\n",
            "Epoch 37/200\n",
            "547/547 [==============================] - 5s 9ms/step - loss: 1.7798 - accuracy: 0.5188\n",
            "Epoch 38/200\n",
            "547/547 [==============================] - 5s 9ms/step - loss: 1.7496 - accuracy: 0.5250\n",
            "Epoch 39/200\n",
            "547/547 [==============================] - 5s 9ms/step - loss: 1.7015 - accuracy: 0.5354\n",
            "Epoch 40/200\n",
            "547/547 [==============================] - 5s 9ms/step - loss: 1.6396 - accuracy: 0.5439\n",
            "Epoch 41/200\n",
            "547/547 [==============================] - 5s 9ms/step - loss: 1.6331 - accuracy: 0.5474\n",
            "Epoch 42/200\n",
            "547/547 [==============================] - 5s 9ms/step - loss: 1.5670 - accuracy: 0.5732\n",
            "Epoch 43/200\n",
            "547/547 [==============================] - 5s 9ms/step - loss: 1.5301 - accuracy: 0.5784\n",
            "Epoch 44/200\n",
            "547/547 [==============================] - 5s 9ms/step - loss: 1.4893 - accuracy: 0.5863\n",
            "Epoch 45/200\n",
            "547/547 [==============================] - 5s 9ms/step - loss: 1.4621 - accuracy: 0.5919\n",
            "Epoch 46/200\n",
            "547/547 [==============================] - 5s 9ms/step - loss: 1.3966 - accuracy: 0.6083\n",
            "Epoch 47/200\n",
            "547/547 [==============================] - 5s 9ms/step - loss: 1.3823 - accuracy: 0.6171\n",
            "Epoch 48/200\n",
            "547/547 [==============================] - 5s 9ms/step - loss: 1.3513 - accuracy: 0.6223\n",
            "Epoch 49/200\n",
            "547/547 [==============================] - 5s 9ms/step - loss: 1.3122 - accuracy: 0.6323\n",
            "Epoch 50/200\n",
            "547/547 [==============================] - 5s 9ms/step - loss: 1.2894 - accuracy: 0.6403\n",
            "Epoch 51/200\n",
            "547/547 [==============================] - 5s 9ms/step - loss: 1.2498 - accuracy: 0.6453\n",
            "Epoch 52/200\n",
            "547/547 [==============================] - 5s 9ms/step - loss: 1.2337 - accuracy: 0.6517\n",
            "Epoch 53/200\n",
            "547/547 [==============================] - 5s 9ms/step - loss: 1.2131 - accuracy: 0.6564\n",
            "Epoch 54/200\n",
            "547/547 [==============================] - 5s 9ms/step - loss: 1.1583 - accuracy: 0.6680\n",
            "Epoch 55/200\n",
            "547/547 [==============================] - 5s 10ms/step - loss: 1.1479 - accuracy: 0.6713\n",
            "Epoch 56/200\n",
            "547/547 [==============================] - 5s 9ms/step - loss: 1.1580 - accuracy: 0.6695\n",
            "Epoch 57/200\n",
            "547/547 [==============================] - 5s 9ms/step - loss: 1.1208 - accuracy: 0.6774\n",
            "Epoch 58/200\n",
            "547/547 [==============================] - 5s 9ms/step - loss: 1.1083 - accuracy: 0.6794\n",
            "Epoch 59/200\n",
            "547/547 [==============================] - 5s 9ms/step - loss: 1.0933 - accuracy: 0.6872\n",
            "Epoch 60/200\n",
            "547/547 [==============================] - 5s 9ms/step - loss: 1.0656 - accuracy: 0.6954\n",
            "Epoch 61/200\n",
            "547/547 [==============================] - 5s 9ms/step - loss: 1.0610 - accuracy: 0.6935\n",
            "Epoch 62/200\n",
            "547/547 [==============================] - 5s 9ms/step - loss: 1.0344 - accuracy: 0.7007\n",
            "Epoch 63/200\n",
            "547/547 [==============================] - 5s 9ms/step - loss: 1.0214 - accuracy: 0.7105\n",
            "Epoch 64/200\n",
            "547/547 [==============================] - 5s 9ms/step - loss: 0.9857 - accuracy: 0.7131\n",
            "Epoch 65/200\n",
            "547/547 [==============================] - 5s 9ms/step - loss: 0.9982 - accuracy: 0.7099\n",
            "Epoch 66/200\n",
            "547/547 [==============================] - 5s 10ms/step - loss: 0.9826 - accuracy: 0.7190\n",
            "Epoch 67/200\n",
            "547/547 [==============================] - 5s 10ms/step - loss: 0.9730 - accuracy: 0.7192\n",
            "Epoch 68/200\n",
            "547/547 [==============================] - 5s 10ms/step - loss: 0.9298 - accuracy: 0.7281\n",
            "Epoch 69/200\n",
            "547/547 [==============================] - 5s 9ms/step - loss: 0.9668 - accuracy: 0.7200\n",
            "Epoch 70/200\n",
            "547/547 [==============================] - 5s 9ms/step - loss: 0.9425 - accuracy: 0.7311\n",
            "Epoch 71/200\n",
            "547/547 [==============================] - 5s 9ms/step - loss: 0.9245 - accuracy: 0.7273\n",
            "Epoch 72/200\n",
            "547/547 [==============================] - 5s 9ms/step - loss: 0.8979 - accuracy: 0.7345\n",
            "Epoch 73/200\n",
            "547/547 [==============================] - 5s 9ms/step - loss: 0.8945 - accuracy: 0.7419\n",
            "Epoch 74/200\n",
            "547/547 [==============================] - 5s 10ms/step - loss: 0.8931 - accuracy: 0.7387\n",
            "Epoch 75/200\n",
            "547/547 [==============================] - 5s 9ms/step - loss: 0.8726 - accuracy: 0.7372\n",
            "Epoch 76/200\n",
            "547/547 [==============================] - 5s 9ms/step - loss: 0.9025 - accuracy: 0.7365\n",
            "Epoch 77/200\n",
            "547/547 [==============================] - 5s 9ms/step - loss: 0.8656 - accuracy: 0.7451\n",
            "Epoch 78/200\n",
            "547/547 [==============================] - 5s 10ms/step - loss: 0.8373 - accuracy: 0.7546\n",
            "Epoch 79/200\n",
            "547/547 [==============================] - 5s 10ms/step - loss: 0.8449 - accuracy: 0.7524\n",
            "Epoch 80/200\n",
            "547/547 [==============================] - 5s 10ms/step - loss: 0.8476 - accuracy: 0.7473\n",
            "Epoch 81/200\n",
            "547/547 [==============================] - 5s 9ms/step - loss: 0.8400 - accuracy: 0.7520\n",
            "Epoch 82/200\n",
            "547/547 [==============================] - 5s 9ms/step - loss: 0.8148 - accuracy: 0.7537\n",
            "Epoch 83/200\n",
            "547/547 [==============================] - 5s 9ms/step - loss: 0.8219 - accuracy: 0.7588\n",
            "Epoch 84/200\n",
            "547/547 [==============================] - 5s 9ms/step - loss: 0.8126 - accuracy: 0.7624\n",
            "Epoch 85/200\n",
            "547/547 [==============================] - 5s 9ms/step - loss: 0.7976 - accuracy: 0.7652\n",
            "Epoch 86/200\n",
            "547/547 [==============================] - 5s 10ms/step - loss: 0.8029 - accuracy: 0.7591\n",
            "Epoch 87/200\n",
            "547/547 [==============================] - 5s 9ms/step - loss: 0.7787 - accuracy: 0.7671\n",
            "Epoch 88/200\n",
            "547/547 [==============================] - 5s 9ms/step - loss: 0.7831 - accuracy: 0.7665\n",
            "Epoch 89/200\n",
            "547/547 [==============================] - 5s 9ms/step - loss: 0.7911 - accuracy: 0.7625\n",
            "Epoch 90/200\n",
            "547/547 [==============================] - 5s 10ms/step - loss: 0.7727 - accuracy: 0.7655\n",
            "Epoch 91/200\n",
            "547/547 [==============================] - 5s 10ms/step - loss: 0.7879 - accuracy: 0.7620\n",
            "Epoch 92/200\n",
            "547/547 [==============================] - 5s 10ms/step - loss: 0.7591 - accuracy: 0.7739\n",
            "Epoch 93/200\n",
            "547/547 [==============================] - 5s 10ms/step - loss: 0.7555 - accuracy: 0.7756\n",
            "Epoch 94/200\n",
            "547/547 [==============================] - 5s 10ms/step - loss: 0.7736 - accuracy: 0.7681\n",
            "Epoch 95/200\n",
            "547/547 [==============================] - 5s 10ms/step - loss: 0.7832 - accuracy: 0.7652\n",
            "Epoch 96/200\n",
            "547/547 [==============================] - 5s 10ms/step - loss: 0.7261 - accuracy: 0.7834\n",
            "Epoch 97/200\n",
            "547/547 [==============================] - 5s 10ms/step - loss: 0.7471 - accuracy: 0.7753\n",
            "Epoch 98/200\n",
            "547/547 [==============================] - 5s 10ms/step - loss: 0.7443 - accuracy: 0.7782\n",
            "Epoch 99/200\n",
            "547/547 [==============================] - 5s 10ms/step - loss: 0.7270 - accuracy: 0.7786\n",
            "Epoch 100/200\n",
            "547/547 [==============================] - 5s 10ms/step - loss: 0.7266 - accuracy: 0.7814\n",
            "Epoch 101/200\n",
            "547/547 [==============================] - 5s 10ms/step - loss: 0.7329 - accuracy: 0.7760\n",
            "Epoch 102/200\n",
            "547/547 [==============================] - 5s 10ms/step - loss: 0.7283 - accuracy: 0.7787\n",
            "Epoch 103/200\n",
            "547/547 [==============================] - 5s 10ms/step - loss: 0.7394 - accuracy: 0.7743\n",
            "Epoch 104/200\n",
            "547/547 [==============================] - 5s 9ms/step - loss: 0.7430 - accuracy: 0.7725\n",
            "Epoch 105/200\n",
            "547/547 [==============================] - 5s 9ms/step - loss: 0.7231 - accuracy: 0.7824\n",
            "Epoch 106/200\n",
            "547/547 [==============================] - 5s 9ms/step - loss: 0.7106 - accuracy: 0.7836\n",
            "Epoch 107/200\n",
            "547/547 [==============================] - 5s 9ms/step - loss: 0.7112 - accuracy: 0.7805\n",
            "Epoch 108/200\n",
            "547/547 [==============================] - 5s 9ms/step - loss: 0.6998 - accuracy: 0.7898\n",
            "Epoch 109/200\n",
            "547/547 [==============================] - 5s 9ms/step - loss: 0.7398 - accuracy: 0.7752\n",
            "Epoch 110/200\n",
            "547/547 [==============================] - 5s 10ms/step - loss: 0.6945 - accuracy: 0.7947\n",
            "Epoch 111/200\n",
            "547/547 [==============================] - 5s 9ms/step - loss: 0.6996 - accuracy: 0.7898\n",
            "Epoch 112/200\n",
            "547/547 [==============================] - 5s 10ms/step - loss: 0.6938 - accuracy: 0.7887\n",
            "Epoch 113/200\n",
            "547/547 [==============================] - 5s 10ms/step - loss: 0.6994 - accuracy: 0.7860\n",
            "Epoch 114/200\n",
            "547/547 [==============================] - 5s 9ms/step - loss: 0.6921 - accuracy: 0.7860\n",
            "Epoch 115/200\n",
            "547/547 [==============================] - 5s 10ms/step - loss: 0.6931 - accuracy: 0.7890\n",
            "Epoch 116/200\n",
            "547/547 [==============================] - 5s 9ms/step - loss: 0.6784 - accuracy: 0.7919\n",
            "Epoch 117/200\n",
            "547/547 [==============================] - 5s 10ms/step - loss: 0.6839 - accuracy: 0.7908\n",
            "Epoch 118/200\n",
            "547/547 [==============================] - 5s 10ms/step - loss: 0.6887 - accuracy: 0.7900\n",
            "Epoch 119/200\n",
            "547/547 [==============================] - 5s 10ms/step - loss: 0.6757 - accuracy: 0.7925\n",
            "Epoch 120/200\n",
            "547/547 [==============================] - 5s 9ms/step - loss: 0.6921 - accuracy: 0.7861\n",
            "Epoch 121/200\n",
            "547/547 [==============================] - 5s 10ms/step - loss: 0.6777 - accuracy: 0.7922\n",
            "Epoch 122/200\n",
            "547/547 [==============================] - 5s 9ms/step - loss: 0.6786 - accuracy: 0.7911\n",
            "Epoch 123/200\n",
            "547/547 [==============================] - 5s 9ms/step - loss: 0.6804 - accuracy: 0.7925\n",
            "Epoch 124/200\n",
            "547/547 [==============================] - 5s 9ms/step - loss: 0.6825 - accuracy: 0.7887\n",
            "Epoch 125/200\n",
            "547/547 [==============================] - 5s 10ms/step - loss: 0.6735 - accuracy: 0.7947\n",
            "Epoch 126/200\n",
            "547/547 [==============================] - 5s 9ms/step - loss: 0.6766 - accuracy: 0.7881\n",
            "Epoch 127/200\n",
            "547/547 [==============================] - 5s 9ms/step - loss: 0.6710 - accuracy: 0.7894\n",
            "Epoch 128/200\n",
            "547/547 [==============================] - 5s 9ms/step - loss: 0.6518 - accuracy: 0.7974\n",
            "Epoch 129/200\n",
            "547/547 [==============================] - 5s 9ms/step - loss: 0.6673 - accuracy: 0.7940\n",
            "Epoch 130/200\n",
            "547/547 [==============================] - 5s 10ms/step - loss: 0.6663 - accuracy: 0.7914\n",
            "Epoch 131/200\n",
            "547/547 [==============================] - 5s 9ms/step - loss: 0.6776 - accuracy: 0.7942\n",
            "Epoch 132/200\n",
            "547/547 [==============================] - 5s 9ms/step - loss: 0.6656 - accuracy: 0.7955\n",
            "Epoch 133/200\n",
            "547/547 [==============================] - 5s 10ms/step - loss: 0.6558 - accuracy: 0.7970\n",
            "Epoch 134/200\n",
            "547/547 [==============================] - 5s 9ms/step - loss: 0.6625 - accuracy: 0.7956\n",
            "Epoch 135/200\n",
            "547/547 [==============================] - 5s 10ms/step - loss: 0.6601 - accuracy: 0.7928\n",
            "Epoch 136/200\n",
            "547/547 [==============================] - 5s 10ms/step - loss: 0.6567 - accuracy: 0.7972\n",
            "Epoch 137/200\n",
            "547/547 [==============================] - 5s 10ms/step - loss: 0.6633 - accuracy: 0.7930\n",
            "Epoch 138/200\n",
            "547/547 [==============================] - 5s 9ms/step - loss: 0.6484 - accuracy: 0.8004\n",
            "Epoch 139/200\n",
            "547/547 [==============================] - 5s 9ms/step - loss: 0.6389 - accuracy: 0.7980\n",
            "Epoch 140/200\n",
            "547/547 [==============================] - 5s 9ms/step - loss: 0.6613 - accuracy: 0.7950\n",
            "Epoch 141/200\n",
            "547/547 [==============================] - 5s 9ms/step - loss: 0.6303 - accuracy: 0.8018\n",
            "Epoch 142/200\n",
            "547/547 [==============================] - 5s 10ms/step - loss: 0.6713 - accuracy: 0.7915\n",
            "Epoch 143/200\n",
            "547/547 [==============================] - 5s 9ms/step - loss: 0.6511 - accuracy: 0.7993\n",
            "Epoch 144/200\n",
            "547/547 [==============================] - 5s 9ms/step - loss: 0.6428 - accuracy: 0.7966\n",
            "Epoch 145/200\n",
            "547/547 [==============================] - 5s 9ms/step - loss: 0.6371 - accuracy: 0.7998\n",
            "Epoch 146/200\n",
            "547/547 [==============================] - 5s 9ms/step - loss: 0.6429 - accuracy: 0.7983\n",
            "Epoch 147/200\n",
            "547/547 [==============================] - 5s 10ms/step - loss: 0.6484 - accuracy: 0.7975\n",
            "Epoch 148/200\n",
            "547/547 [==============================] - 5s 9ms/step - loss: 0.6335 - accuracy: 0.8020\n",
            "Epoch 149/200\n",
            "547/547 [==============================] - 5s 10ms/step - loss: 0.6431 - accuracy: 0.7983\n",
            "Epoch 150/200\n",
            "547/547 [==============================] - 5s 10ms/step - loss: 0.6376 - accuracy: 0.8021\n",
            "Epoch 151/200\n",
            "547/547 [==============================] - 5s 9ms/step - loss: 0.6336 - accuracy: 0.8035\n",
            "Epoch 152/200\n",
            "547/547 [==============================] - 5s 9ms/step - loss: 0.6269 - accuracy: 0.8002\n",
            "Epoch 153/200\n",
            "547/547 [==============================] - 5s 9ms/step - loss: 0.6282 - accuracy: 0.8050\n",
            "Epoch 154/200\n",
            "547/547 [==============================] - 5s 9ms/step - loss: 0.6441 - accuracy: 0.7968\n",
            "Epoch 155/200\n",
            "547/547 [==============================] - 5s 9ms/step - loss: 0.6324 - accuracy: 0.8055\n",
            "Epoch 156/200\n",
            "547/547 [==============================] - 5s 9ms/step - loss: 0.6440 - accuracy: 0.7959\n",
            "Epoch 157/200\n",
            "547/547 [==============================] - 5s 9ms/step - loss: 0.6391 - accuracy: 0.7999\n"
          ],
          "name": "stdout"
        }
      ]
    },
    {
      "cell_type": "code",
      "metadata": {
        "colab": {
          "base_uri": "https://localhost:8080/",
          "height": 295
        },
        "id": "IBujCyBwKmzo",
        "outputId": "3271fde9-3f3d-4343-e228-f8810d5f366b"
      },
      "source": [
        "# summarize history for accuracy\n",
        "plt.plot(history.history['loss'], label='loss')\n",
        "plt.plot(history.history['accuracy'], label='accuracy')\n",
        "plt.axhline(y=1, color='k')\n",
        "plt.title('loss & accuracy')\n",
        "plt.ylabel('value')\n",
        "plt.xlabel('epoch')\n",
        "plt.legend()\n",
        "plt.show()"
      ],
      "execution_count": 21,
      "outputs": [
        {
          "output_type": "display_data",
          "data": {
            "text/html": [
              "<style> pre {white-space: pre-wrap;} </style>"
            ],
            "text/plain": [
              "<IPython.core.display.HTML object>"
            ]
          },
          "metadata": {
            "tags": []
          }
        },
        {
          "output_type": "display_data",
          "data": {
            "image/png": "[encoded data removed]",
            "text/plain": [
              "<Figure size 432x288 with 1 Axes>"
            ]
          },
          "metadata": {
            "tags": [],
            "needs_background": "light"
          }
        }
      ]
    },
    {
      "cell_type": "markdown",
      "metadata": {
        "id": "G9zC0bv4P41P"
      },
      "source": [
        "#### Recreate the model and load saved weights"
      ]
    },
    {
      "cell_type": "code",
      "metadata": {
        "colab": {
          "base_uri": "https://localhost:8080/",
          "height": 17
        },
        "id": "U5uOCrdP5_l8",
        "outputId": "5645f37b-591b-4d23-d7c9-1b1b52c471d3"
      },
      "source": [
        "# Create a new model instance\n",
        "model_loaded = create_model(vocab_size, embed_dim)\n",
        "model_loaded.load_weights('/content/drive/MyDrive/repos/lana-del-rey-lyrics-generator/models/ldr_by_word/ldr_by_word')\n",
        "model_loaded.compile(loss=sparse_cat_loss, optimizer='adam', metrics='accuracy')"
      ],
      "execution_count": 30,
      "outputs": [
        {
          "output_type": "display_data",
          "data": {
            "text/html": [
              "<style> pre {white-space: pre-wrap;} </style>"
            ],
            "text/plain": [
              "<IPython.core.display.HTML object>"
            ]
          },
          "metadata": {
            "tags": []
          }
        }
      ]
    },
    {
      "cell_type": "code",
      "metadata": {
        "id": "OiPyUjHSQlVR",
        "colab": {
          "base_uri": "https://localhost:8080/",
          "height": 17
        },
        "outputId": "352f2060-3512-49ef-e67c-8c5737574463"
      },
      "source": [
        "def make_lyrics(model, seed_text, next_words):\n",
        "    for _ in range(next_words):\n",
        "        token_list = tokenizer.texts_to_sequences([seed_text])[0]\n",
        "        token_list = pad_sequences([token_list],\n",
        "                     maxlen=max_sequence_len-1,padding='pre')\n",
        "        predicted = np.argmax(model.predict(token_list, verbose=0), axis=-1)\n",
        "        output_word = \"\"\n",
        "        for word, index in tokenizer.word_index.items():\n",
        "            if index == predicted:\n",
        "                output_word = word\n",
        "                break\n",
        "        seed_text += \" \" + output_word\n",
        "    return seed_text"
      ],
      "execution_count": 31,
      "outputs": [
        {
          "output_type": "display_data",
          "data": {
            "text/html": [
              "<style> pre {white-space: pre-wrap;} </style>"
            ],
            "text/plain": [
              "<IPython.core.display.HTML object>"
            ]
          },
          "metadata": {
            "tags": []
          }
        }
      ]
    },
    {
      "cell_type": "code",
      "metadata": {
        "colab": {
          "base_uri": "https://localhost:8080/",
          "height": 68
        },
        "id": "6AZIOxHtww_G",
        "outputId": "693ef78b-f457-4d18-a777-0587649da333"
      },
      "source": [
        "predicted_lyrics = make_lyrics(model_loaded, 'james', 100)\n",
        "print(predicted_lyrics)"
      ],
      "execution_count": 32,
      "outputs": [
        {
          "output_type": "display_data",
          "data": {
            "text/html": [
              "<style> pre {white-space: pre-wrap;} </style>"
            ],
            "text/plain": [
              "<IPython.core.display.HTML object>"
            ]
          },
          "metadata": {
            "tags": []
          }
        },
        {
          "output_type": "stream",
          "text": [
            "james ice creams hours in a good hotel record and use it out in the things that i need it for fun i need somebody to hold me or just say that you were mine i'd be honest capable i'd say i was dead hard down down down down down her little bambi eyes queens style up in my arms just love or feel we'll need it last you can be a bad motherfucker light and star and forever we talk about the black beaches can i get a ball friends do it but it was not hard not to get\n"
          ],
          "name": "stdout"
        }
      ]
    },
    {
      "cell_type": "code",
      "metadata": {
        "colab": {
          "base_uri": "https://localhost:8080/",
          "height": 68
        },
        "id": "OWtcy-scQrhI",
        "outputId": "9369fb4e-5008-434d-d1e3-6ebe9ae689a4"
      },
      "source": [
        "predicted_lyrics = make_lyrics(model_loaded, 'ice cream', 100)\n",
        "print(predicted_lyrics)"
      ],
      "execution_count": 33,
      "outputs": [
        {
          "output_type": "display_data",
          "data": {
            "text/html": [
              "<style> pre {white-space: pre-wrap;} </style>"
            ],
            "text/plain": [
              "<IPython.core.display.HTML object>"
            ]
          },
          "metadata": {
            "tags": []
          }
        },
        {
          "output_type": "stream",
          "text": [
            "ice cream ice queen style cool days up in the garden of evil own again dreamin' about of the first love real love real good for free jesus and time past love me anyway then i was dead know that to say goodbye and i miss you babe and it's makin' me blue and lonely i need somebody to hold me or just say that you were mine capable why just say that you were mine adores you on my lips i do i do best look how i got you where i want you now me why just swallow some wine\n"
          ],
          "name": "stdout"
        }
      ]
    },
    {
      "cell_type": "code",
      "metadata": {
        "colab": {
          "base_uri": "https://localhost:8080/",
          "height": 85
        },
        "id": "ZcrMbyOMIfLs",
        "outputId": "cc487ce6-7912-4057-8b9d-810835cfb48c"
      },
      "source": [
        "predicted_lyrics = make_lyrics(model_loaded, 'james dean', 100)\n",
        "print(predicted_lyrics)"
      ],
      "execution_count": 34,
      "outputs": [
        {
          "output_type": "display_data",
          "data": {
            "text/html": [
              "<style> pre {white-space: pre-wrap;} </style>"
            ],
            "text/plain": [
              "<IPython.core.display.HTML object>"
            ]
          },
          "metadata": {
            "tags": []
          }
        },
        {
          "output_type": "stream",
          "text": [
            "james dean for sure died than i ever even mind i've been cold without you and i so better off i think of that once i will love you till the end of time or whatever baby you're no good for me and i got your number and you better believe that it's got my escape my nights off my loins friend to me fun but you don't know the half of the shit that you put me through your fingertips mind change everything what what what what what what what what what what yeah was i country girls wanna know that\n"
          ],
          "name": "stdout"
        }
      ]
    },
    {
      "cell_type": "code",
      "metadata": {
        "colab": {
          "base_uri": "https://localhost:8080/",
          "height": 85
        },
        "id": "38Jzoo45ckJt",
        "outputId": "c4a8d590-0cd3-4c66-decb-0707a31dac87"
      },
      "source": [
        "predicted_lyrics = make_lyrics(model_loaded, 'queen of', 100)\n",
        "print(predicted_lyrics)"
      ],
      "execution_count": 35,
      "outputs": [
        {
          "output_type": "display_data",
          "data": {
            "text/html": [
              "<style> pre {white-space: pre-wrap;} </style>"
            ],
            "text/plain": [
              "<IPython.core.display.HTML object>"
            ]
          },
          "metadata": {
            "tags": []
          }
        },
        {
          "output_type": "stream",
          "text": [
            "queen of coney island queen of fire and black beaches driving darling i can taste it turnin' sour here from my hands into moonlight row in time i know that i am alone to make me be bittersweet to just be free hey i thought he was breaking 'em down down down tonight yeah oh shatter yeah yeah oh shatter yeah yeah oh shatter i way you got that medicine that me love me that yeah my that to take my thoughts away this kids the last time i think about leaving that and i can't change your mood ah ah ah\n"
          ],
          "name": "stdout"
        }
      ]
    },
    {
      "cell_type": "code",
      "metadata": {
        "colab": {
          "base_uri": "https://localhost:8080/",
          "height": 85
        },
        "id": "sLOBwIhOcj-P",
        "outputId": "8c268e4f-fbbc-4ab8-db9e-173f3faf62c5"
      },
      "source": [
        "predicted_lyrics = make_lyrics(model_loaded, 'park', 100)\n",
        "print(predicted_lyrics)"
      ],
      "execution_count": null,
      "outputs": [
        {
          "output_type": "display_data",
          "data": {
            "text/html": [
              "<style>table.dataframe td{white-space: nowrap;}</style>"
            ],
            "text/plain": [
              "<IPython.core.display.HTML object>"
            ]
          },
          "metadata": {
            "tags": []
          }
        },
        {
          "output_type": "display_data",
          "data": {
            "text/html": [
              "\n",
              "  <style>\n",
              "    pre {\n",
              "        white-space: pre-wrap;\n",
              "    }\n",
              "  </style>\n",
              "  "
            ],
            "text/plain": [
              "<IPython.core.display.HTML object>"
            ]
          },
          "metadata": {
            "tags": []
          }
        },
        {
          "output_type": "stream",
          "text": [
            "park making me everything's okay ay babe yeah 'bout it from the spring i feel it at your whole world is so always like it like a minute night yeah you blame the news he prays for love he prays for peace and maybe someone new coat on the spring i love track of the right thing to from a woman are hard to wait to me alive again at you do was read do he in the sky with the real that's agree powerful beings hot weather in the spring i me baby we need to start diamonds on a\n"
          ],
          "name": "stdout"
        }
      ]
    },
    {
      "cell_type": "markdown",
      "metadata": {
        "id": "e6QPjdjWpCvz"
      },
      "source": [
        "Test Loaded model"
      ]
    },
    {
      "cell_type": "code",
      "metadata": {
        "colab": {
          "base_uri": "https://localhost:8080/",
          "height": 51
        },
        "id": "OYW9z6pjQuUp",
        "outputId": "b6ef9a3a-d0d0-4103-bf96-c73eb68b49e7"
      },
      "source": [
        "predicted_lyrics = make_lyrics(model_loaded, 'california', 50)\n",
        "print(predicted_lyrics)"
      ],
      "execution_count": 26,
      "outputs": [
        {
          "output_type": "display_data",
          "data": {
            "text/html": [
              "\n",
              "  <style>\n",
              "    pre {\n",
              "        white-space: pre-wrap;\n",
              "    }\n",
              "  </style>\n",
              "  "
            ],
            "text/plain": [
              "<IPython.core.display.HTML object>"
            ]
          },
          "metadata": {
            "tags": []
          }
        },
        {
          "output_type": "stream",
          "text": [
            "california dreamin' got my name as your tattoo and pearls to call me dn to think about mine in mine mine mine how i got this and vine way it feels like summer mine 'til mine that you would pay tribute day around when mine i'd you work baby i'm wild\n"
          ],
          "name": "stdout"
        }
      ]
    },
    {
      "cell_type": "code",
      "metadata": {
        "id": "yBhQMXoDGENl"
      },
      "source": [
        ""
      ],
      "execution_count": null,
      "outputs": []
    }
  ]
}