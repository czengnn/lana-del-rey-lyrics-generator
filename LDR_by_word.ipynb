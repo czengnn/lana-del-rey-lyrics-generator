{
  "nbformat": 4,
  "nbformat_minor": 0,
  "metadata": {
    "colab": {
      "name": "LDR_by_word.ipynb",
      "provenance": [],
      "mount_file_id": "1wyacN2Z1_YP6yW7MyXJHLxpMK7D1vPrh",
      "authorship_tag": "ABX9TyO5lIg5tv8Vz09gQDzHNgUL",
      "include_colab_link": true
    },
    "kernelspec": {
      "name": "python3",
      "display_name": "Python 3"
    },
    "language_info": {
      "name": "python"
    }
  },
  "cells": [
    {
      "cell_type": "markdown",
      "metadata": {
        "id": "view-in-github",
        "colab_type": "text"
      },
      "source": [
        "<a href=\"https://colab.research.google.com/github/czengnn/lana-del-rey-lyrics-generator/blob/main/LDR_by_word.ipynb\" target=\"_parent\"><img src=\"https://colab.research.google.com/assets/colab-badge.svg\" alt=\"Open In Colab\"/></a>"
      ]
    },
    {
      "cell_type": "code",
      "metadata": {
        "id": "ZlWo3BTR3CTP"
      },
      "source": [
        "import pandas as pd \n",
        "import numpy as np \n",
        "import re \n",
        "import os\n",
        "import time\n",
        "import matplotlib.pyplot as plt\n",
        "\n",
        "import tensorflow as tf\n",
        "from tensorflow.keras.layers.experimental import preprocessing\n",
        "from keras.preprocessing.text import Tokenizer\n",
        "from keras.preprocessing.sequence import pad_sequences\n",
        "from tensorflow.keras.losses import sparse_categorical_crossentropy\n",
        "\n",
        "from keras.models import Sequential\n",
        "from keras.layers import LSTM, Activation, Flatten, Dropout, Dense, Embedding, TimeDistributed, Bidirectional\n",
        "from keras.callbacks import ModelCheckpoint\n",
        "from keras.utils import np_utils"
      ],
      "execution_count": 54,
      "outputs": []
    },
    {
      "cell_type": "code",
      "metadata": {
        "colab": {
          "base_uri": "https://localhost:8080/"
        },
        "id": "FivZ1COMFE-D",
        "outputId": "c2ff0791-923c-4087-a15a-722749b20961"
      },
      "source": [
        "# load songs\n",
        "songs1 = pd.read_csv('/content/drive/MyDrive/data/lana_lyrics_83.csv').drop('Unnamed: 0', axis=1)\n",
        "songs2 = pd.read_csv('/content/drive/MyDrive/data/lana_lyrics_15.csv').drop('Unnamed: 0', axis=1)\n",
        "songs = pd.concat([songs1, songs2], axis=0)\n",
        "songs.shape"
      ],
      "execution_count": 2,
      "outputs": [
        {
          "output_type": "execute_result",
          "data": {
            "text/plain": [
              "(98, 2)"
            ]
          },
          "metadata": {
            "tags": []
          },
          "execution_count": 2
        }
      ]
    },
    {
      "cell_type": "code",
      "metadata": {
        "id": "D9m7QJNkFIkU"
      },
      "source": [
        "# put lyrics into 1 string\n",
        "text = ''\n",
        "for song in songs['lyrics']:\n",
        "    text = text + song.lower()\n",
        "    \n",
        "# remove the text with brackets around them, such as [Verse 1]\n",
        "text = re.sub(r'\\[[^][]*\\]', '', text)"
      ],
      "execution_count": 3,
      "outputs": []
    },
    {
      "cell_type": "code",
      "metadata": {
        "colab": {
          "base_uri": "https://localhost:8080/"
        },
        "id": "MesZiJjU3SCh",
        "outputId": "2e8df4f6-198c-41a5-f627-f07cbdb6d1ee"
      },
      "source": [
        "# length of text is the number of characters in it\n",
        "print(f'Length of text: {len(text)} characters')\n",
        "\n",
        "# The unique characters in the file\n",
        "vocab = sorted(set(text))\n",
        "print(f'{len(vocab)} unique characters')"
      ],
      "execution_count": 4,
      "outputs": [
        {
          "output_type": "stream",
          "text": [
            "Length of text: 161722 characters\n",
            "61 unique characters\n"
          ],
          "name": "stdout"
        }
      ]
    },
    {
      "cell_type": "code",
      "metadata": {
        "colab": {
          "base_uri": "https://localhost:8080/"
        },
        "id": "AplgShWA3jeS",
        "outputId": "e99f014e-8769-44fc-81ee-09efe8bf672e"
      },
      "source": [
        "corpus = [line for line in text.split('\\n') if line != '']\n",
        "corpus[:10]"
      ],
      "execution_count": 63,
      "outputs": [
        {
          "output_type": "execute_result",
          "data": {
            "text/plain": [
              "['why? (\"got that?\")',\n",
              " 'who, me? (\"louder!\")',\n",
              " 'why? (\"got that?\")',\n",
              " \"feet don't fail me now\",\n",
              " 'take me to the finish line',\n",
              " 'oh, my heart, it breaks every step that i take',\n",
              " \"but i'm hoping at the gates, they'll tell me that you're mine\",\n",
              " 'walking through the city streets, is it by mistake or design?',\n",
              " 'i feel so alone on a friday night',\n",
              " \"can you make it feel like home, if i tell you you're mine?\"]"
            ]
          },
          "metadata": {
            "tags": []
          },
          "execution_count": 63
        }
      ]
    },
    {
      "cell_type": "code",
      "metadata": {
        "id": "Yp--rn6031rr",
        "colab": {
          "base_uri": "https://localhost:8080/"
        },
        "outputId": "084376af-a731-4640-f4a2-4afa7d85e5ad"
      },
      "source": [
        "tokenizer = Tokenizer()\n",
        "tokenizer.fit_on_texts(set(corpus))\n",
        "total_words = len(tokenizer.word_index) + 1\n",
        "print(total_words)"
      ],
      "execution_count": 65,
      "outputs": [
        {
          "output_type": "stream",
          "text": [
            "2575\n"
          ],
          "name": "stdout"
        }
      ]
    },
    {
      "cell_type": "code",
      "metadata": {
        "id": "02Mv1ekh4d41"
      },
      "source": [
        "input_sequences = []\n",
        "for line in corpus:\n",
        "    token_list = tokenizer.texts_to_sequences([line])[0]\n",
        "    for i in range(1, len(token_list)):\n",
        "        n_gram_sequence = token_list[:i+1]\n",
        "        input_sequences.append(n_gram_sequence)"
      ],
      "execution_count": 28,
      "outputs": []
    },
    {
      "cell_type": "code",
      "metadata": {
        "colab": {
          "base_uri": "https://localhost:8080/"
        },
        "id": "8Tb0nJE54nbc",
        "outputId": "f3447480-0e7e-4e78-b72b-968ca1025e56"
      },
      "source": [
        "input_sequences[20:30]"
      ],
      "execution_count": 29,
      "outputs": [
        {
          "output_type": "execute_result",
          "data": {
            "text/plain": [
              "[[28, 8, 158, 10, 1247, 145, 602],\n",
              " [28, 8, 158, 10, 1247, 145, 602, 17],\n",
              " [28, 8, 158, 10, 1247, 145, 602, 17, 3],\n",
              " [28, 8, 158, 10, 1247, 145, 602, 17, 3, 49],\n",
              " [27, 11],\n",
              " [27, 11, 808],\n",
              " [27, 11, 808, 55],\n",
              " [27, 11, 808, 55, 2],\n",
              " [27, 11, 808, 55, 2, 1248],\n",
              " [27, 11, 808, 55, 2, 1248, 603]]"
            ]
          },
          "metadata": {
            "tags": []
          },
          "execution_count": 29
        }
      ]
    },
    {
      "cell_type": "code",
      "metadata": {
        "id": "p7r1sw3m40Lp"
      },
      "source": [
        "# pad sequences\n",
        "max_sequence_len = max([len(x) for x in input_sequences])\n",
        "input_sequences = np.array(pad_sequences(input_sequences,\n",
        "                                         maxlen = max_sequence_len, padding='pre'))"
      ],
      "execution_count": 31,
      "outputs": []
    },
    {
      "cell_type": "code",
      "metadata": {
        "colab": {
          "base_uri": "https://localhost:8080/"
        },
        "id": "9c6G0ifE5W8-",
        "outputId": "99ae0ca1-499e-4d5c-89f1-4324fecb8437"
      },
      "source": [
        "input_sequences[:5]"
      ],
      "execution_count": 32,
      "outputs": [
        {
          "output_type": "execute_result",
          "data": {
            "text/plain": [
              "array([[  0,   0,   0,   0,   0,   0,   0,   0,   0,   0,   0,   0,   0,\n",
              "          0,   0,   0, 105,  33],\n",
              "       [  0,   0,   0,   0,   0,   0,   0,   0,   0,   0,   0,   0,   0,\n",
              "          0,   0, 105,  33,  17],\n",
              "       [  0,   0,   0,   0,   0,   0,   0,   0,   0,   0,   0,   0,   0,\n",
              "          0,   0,   0,  81,   4],\n",
              "       [  0,   0,   0,   0,   0,   0,   0,   0,   0,   0,   0,   0,   0,\n",
              "          0,   0,  81,   4, 213],\n",
              "       [  0,   0,   0,   0,   0,   0,   0,   0,   0,   0,   0,   0,   0,\n",
              "          0,   0,   0, 105,  33]], dtype=int32)"
            ]
          },
          "metadata": {
            "tags": []
          },
          "execution_count": 32
        }
      ]
    },
    {
      "cell_type": "code",
      "metadata": {
        "id": "iJUFvZ3v5jeK"
      },
      "source": [
        "predictors, label = input_sequences[:,:-1], input_sequences[:,-1]"
      ],
      "execution_count": 33,
      "outputs": []
    },
    {
      "cell_type": "markdown",
      "metadata": {
        "id": "gGniSvLy5pOw"
      },
      "source": [
        "### Building The Model"
      ]
    },
    {
      "cell_type": "code",
      "metadata": {
        "colab": {
          "base_uri": "https://localhost:8080/"
        },
        "id": "dQ9xj1TQ5mYs",
        "outputId": "46dcb2de-9ef9-4f77-8d59-9169346a5794"
      },
      "source": [
        "def sparse_cat_loss(y_true,y_pred):\n",
        "  return sparse_categorical_crossentropy(y_true, y_pred, from_logits=True)\n",
        "\n",
        "vocab_size = total_words\n",
        "embed_dim = 50\n",
        "def create_model(vocab_size, embed_dim):\n",
        "    model = Sequential()\n",
        "    model.add(Embedding(vocab_size, embed_dim, input_length=max_sequence_len-1))\n",
        "    # Add an LSTM Layer\n",
        "    model.add(Bidirectional(LSTM(150, return_sequences=True)))\n",
        "    # A dropout layer for regularisation\n",
        "    model.add(Dropout(0.2))\n",
        "    # Add another LSTM Layer\n",
        "    model.add(LSTM(100,return_sequences=False)) \n",
        "    model.add(Dense(vocab_size//2, activation='relu'))\n",
        "    # In the last layer, the shape should be equal to the total number of words present in our corpus\n",
        "    model.add(Dense(vocab_size, activation='softmax'))\n",
        "    model.compile(loss=sparse_cat_loss, optimizer='adam', metrics='accuracy')  #(# Pick a loss function and an optimizer)\n",
        "    return model\n",
        "\n",
        "model = create_model(vocab_size, embed_dim)\n",
        "print(model.summary())"
      ],
      "execution_count": 36,
      "outputs": [
        {
          "output_type": "stream",
          "text": [
            "Model: \"sequential\"\n",
            "_________________________________________________________________\n",
            "Layer (type)                 Output Shape              Param #   \n",
            "=================================================================\n",
            "embedding (Embedding)        (None, 17, 50)            128750    \n",
            "_________________________________________________________________\n",
            "bidirectional (Bidirectional (None, 17, 300)           241200    \n",
            "_________________________________________________________________\n",
            "dropout (Dropout)            (None, 17, 300)           0         \n",
            "_________________________________________________________________\n",
            "lstm_1 (LSTM)                (None, 100)               160400    \n",
            "_________________________________________________________________\n",
            "dense (Dense)                (None, 1287)              129987    \n",
            "_________________________________________________________________\n",
            "dense_1 (Dense)              (None, 2575)              3316600   \n",
            "=================================================================\n",
            "Total params: 3,976,937\n",
            "Trainable params: 3,976,937\n",
            "Non-trainable params: 0\n",
            "_________________________________________________________________\n",
            "None\n"
          ],
          "name": "stdout"
        }
      ]
    },
    {
      "cell_type": "code",
      "metadata": {
        "colab": {
          "base_uri": "https://localhost:8080/"
        },
        "id": "vUS1h2h_53su",
        "outputId": "58b0d40b-8752-42b9-d1f8-38d4131a59c8"
      },
      "source": [
        "early_stopping = tf.keras.callbacks.EarlyStopping(monitor='loss', patience=5)\n",
        "\n",
        "history = model.fit(predictors, label, epochs=100, verbose=1, callbacks=[early_stopping])\n",
        "\n",
        "# Save the weights\n",
        "model.save_weights('/content/drive/MyDrive/data/models/ldr_by_word/ldr_by_word')"
      ],
      "execution_count": 38,
      "outputs": [
        {
          "output_type": "stream",
          "text": [
            "Epoch 1/100\n",
            "865/865 [==============================] - 103s 119ms/step - loss: 6.0795 - accuracy: 0.0381\n",
            "Epoch 2/100\n",
            "865/865 [==============================] - 102s 118ms/step - loss: 5.4864 - accuracy: 0.0700\n",
            "Epoch 3/100\n",
            "865/865 [==============================] - 102s 118ms/step - loss: 5.1083 - accuracy: 0.0975\n",
            "Epoch 4/100\n",
            "865/865 [==============================] - 103s 119ms/step - loss: 4.8111 - accuracy: 0.1181\n",
            "Epoch 5/100\n",
            "865/865 [==============================] - 103s 119ms/step - loss: 4.5322 - accuracy: 0.1481\n",
            "Epoch 6/100\n",
            "865/865 [==============================] - 103s 119ms/step - loss: 4.2546 - accuracy: 0.1751\n",
            "Epoch 7/100\n",
            "865/865 [==============================] - 103s 119ms/step - loss: 3.9658 - accuracy: 0.2068\n",
            "Epoch 8/100\n",
            "865/865 [==============================] - 102s 118ms/step - loss: 3.6876 - accuracy: 0.2395\n",
            "Epoch 9/100\n",
            "865/865 [==============================] - 102s 118ms/step - loss: 3.4110 - accuracy: 0.2762\n",
            "Epoch 10/100\n",
            "865/865 [==============================] - 102s 118ms/step - loss: 3.1456 - accuracy: 0.3129\n",
            "Epoch 11/100\n",
            "865/865 [==============================] - 102s 118ms/step - loss: 2.8871 - accuracy: 0.3501\n",
            "Epoch 12/100\n",
            "865/865 [==============================] - 102s 118ms/step - loss: 2.6562 - accuracy: 0.3915\n",
            "Epoch 13/100\n",
            "865/865 [==============================] - 102s 118ms/step - loss: 2.4442 - accuracy: 0.4244\n",
            "Epoch 14/100\n",
            "865/865 [==============================] - 102s 118ms/step - loss: 2.2465 - accuracy: 0.4610\n",
            "Epoch 15/100\n",
            "865/865 [==============================] - 102s 118ms/step - loss: 2.0814 - accuracy: 0.4900\n",
            "Epoch 16/100\n",
            "865/865 [==============================] - 102s 118ms/step - loss: 1.9215 - accuracy: 0.5207\n",
            "Epoch 17/100\n",
            "865/865 [==============================] - 102s 118ms/step - loss: 1.7823 - accuracy: 0.5494\n",
            "Epoch 18/100\n",
            "865/865 [==============================] - 102s 117ms/step - loss: 1.6538 - accuracy: 0.5742\n",
            "Epoch 19/100\n",
            "865/865 [==============================] - 101s 117ms/step - loss: 1.5389 - accuracy: 0.5982\n",
            "Epoch 20/100\n",
            "865/865 [==============================] - 101s 117ms/step - loss: 1.4311 - accuracy: 0.6205\n",
            "Epoch 21/100\n",
            "865/865 [==============================] - 102s 118ms/step - loss: 1.3498 - accuracy: 0.6404\n",
            "Epoch 22/100\n",
            "865/865 [==============================] - 102s 117ms/step - loss: 1.2648 - accuracy: 0.6619\n",
            "Epoch 23/100\n",
            "865/865 [==============================] - 102s 118ms/step - loss: 1.1871 - accuracy: 0.6758\n",
            "Epoch 24/100\n",
            "865/865 [==============================] - 101s 117ms/step - loss: 1.1281 - accuracy: 0.6898\n",
            "Epoch 25/100\n",
            "865/865 [==============================] - 100s 116ms/step - loss: 1.0817 - accuracy: 0.7019\n",
            "Epoch 26/100\n",
            "865/865 [==============================] - 101s 116ms/step - loss: 1.0189 - accuracy: 0.7181\n",
            "Epoch 27/100\n",
            "865/865 [==============================] - 101s 117ms/step - loss: 0.9712 - accuracy: 0.7288\n",
            "Epoch 28/100\n",
            "865/865 [==============================] - 102s 118ms/step - loss: 0.9437 - accuracy: 0.7328\n",
            "Epoch 29/100\n",
            "865/865 [==============================] - 102s 118ms/step - loss: 0.9129 - accuracy: 0.7420\n",
            "Epoch 30/100\n",
            "865/865 [==============================] - 102s 118ms/step - loss: 0.8710 - accuracy: 0.7528\n",
            "Epoch 31/100\n",
            "865/865 [==============================] - 102s 118ms/step - loss: 0.8464 - accuracy: 0.7593\n",
            "Epoch 32/100\n",
            "865/865 [==============================] - 102s 118ms/step - loss: 0.8257 - accuracy: 0.7637\n",
            "Epoch 33/100\n",
            "865/865 [==============================] - 103s 119ms/step - loss: 0.8004 - accuracy: 0.7701\n",
            "Epoch 34/100\n",
            "865/865 [==============================] - 102s 118ms/step - loss: 0.7969 - accuracy: 0.7704\n",
            "Epoch 35/100\n",
            "865/865 [==============================] - 102s 118ms/step - loss: 0.7597 - accuracy: 0.7825\n",
            "Epoch 36/100\n",
            "865/865 [==============================] - 101s 117ms/step - loss: 0.7496 - accuracy: 0.7836\n",
            "Epoch 37/100\n",
            "865/865 [==============================] - 101s 117ms/step - loss: 0.7443 - accuracy: 0.7853\n",
            "Epoch 38/100\n",
            "865/865 [==============================] - 101s 117ms/step - loss: 0.7206 - accuracy: 0.7894\n",
            "Epoch 39/100\n",
            "865/865 [==============================] - 102s 118ms/step - loss: 0.7119 - accuracy: 0.7928\n",
            "Epoch 40/100\n",
            "865/865 [==============================] - 101s 117ms/step - loss: 0.7030 - accuracy: 0.7940\n",
            "Epoch 41/100\n",
            "865/865 [==============================] - 102s 118ms/step - loss: 0.6908 - accuracy: 0.7991\n",
            "Epoch 42/100\n",
            "865/865 [==============================] - 102s 118ms/step - loss: 0.6856 - accuracy: 0.7979\n",
            "Epoch 43/100\n",
            "865/865 [==============================] - 102s 118ms/step - loss: 0.6717 - accuracy: 0.8036\n",
            "Epoch 44/100\n",
            "865/865 [==============================] - 103s 119ms/step - loss: 0.6685 - accuracy: 0.8039\n",
            "Epoch 45/100\n",
            "865/865 [==============================] - 103s 119ms/step - loss: 0.6633 - accuracy: 0.8047\n",
            "Epoch 46/100\n",
            "865/865 [==============================] - 102s 117ms/step - loss: 0.6611 - accuracy: 0.8057\n",
            "Epoch 47/100\n",
            "865/865 [==============================] - 102s 118ms/step - loss: 0.6432 - accuracy: 0.8078\n",
            "Epoch 48/100\n",
            "865/865 [==============================] - 102s 118ms/step - loss: 0.6459 - accuracy: 0.8067\n",
            "Epoch 49/100\n",
            "865/865 [==============================] - 98s 114ms/step - loss: 0.6426 - accuracy: 0.8103\n",
            "Epoch 50/100\n",
            "865/865 [==============================] - 96s 111ms/step - loss: 0.6368 - accuracy: 0.8089\n",
            "Epoch 51/100\n",
            "865/865 [==============================] - 97s 112ms/step - loss: 0.6248 - accuracy: 0.8129\n",
            "Epoch 52/100\n",
            "865/865 [==============================] - 100s 115ms/step - loss: 0.6327 - accuracy: 0.8112\n",
            "Epoch 53/100\n",
            "865/865 [==============================] - 99s 115ms/step - loss: 0.6209 - accuracy: 0.8132\n",
            "Epoch 54/100\n",
            "865/865 [==============================] - 96s 111ms/step - loss: 0.6196 - accuracy: 0.8130\n",
            "Epoch 55/100\n",
            "865/865 [==============================] - 95s 110ms/step - loss: 0.6197 - accuracy: 0.8132\n",
            "Epoch 56/100\n",
            "865/865 [==============================] - 98s 113ms/step - loss: 0.6099 - accuracy: 0.8158\n",
            "Epoch 57/100\n",
            "865/865 [==============================] - 97s 112ms/step - loss: 0.6077 - accuracy: 0.8148\n",
            "Epoch 58/100\n",
            "865/865 [==============================] - 102s 118ms/step - loss: 0.6070 - accuracy: 0.8162\n",
            "Epoch 59/100\n",
            "865/865 [==============================] - 101s 117ms/step - loss: 0.6135 - accuracy: 0.8144\n",
            "Epoch 60/100\n",
            "865/865 [==============================] - 102s 118ms/step - loss: 0.6029 - accuracy: 0.8160\n",
            "Epoch 61/100\n",
            "865/865 [==============================] - 102s 118ms/step - loss: 0.5939 - accuracy: 0.8181\n",
            "Epoch 62/100\n",
            "865/865 [==============================] - 103s 119ms/step - loss: 0.5884 - accuracy: 0.8202\n",
            "Epoch 63/100\n",
            "865/865 [==============================] - 103s 119ms/step - loss: 0.5859 - accuracy: 0.8196\n",
            "Epoch 64/100\n",
            "865/865 [==============================] - 104s 120ms/step - loss: 0.5929 - accuracy: 0.8182\n",
            "Epoch 65/100\n",
            "865/865 [==============================] - 103s 119ms/step - loss: 0.5879 - accuracy: 0.8187\n",
            "Epoch 66/100\n",
            "865/865 [==============================] - 103s 119ms/step - loss: 0.5899 - accuracy: 0.8191\n",
            "Epoch 67/100\n",
            "865/865 [==============================] - 102s 118ms/step - loss: 0.5858 - accuracy: 0.8203\n",
            "Epoch 68/100\n",
            "865/865 [==============================] - 102s 118ms/step - loss: 0.5775 - accuracy: 0.8206\n",
            "Epoch 69/100\n",
            "865/865 [==============================] - 102s 118ms/step - loss: 0.5827 - accuracy: 0.8196\n",
            "Epoch 70/100\n",
            "865/865 [==============================] - 102s 118ms/step - loss: 0.5744 - accuracy: 0.8224\n",
            "Epoch 71/100\n",
            "865/865 [==============================] - 102s 118ms/step - loss: 0.5728 - accuracy: 0.8224\n",
            "Epoch 72/100\n",
            "865/865 [==============================] - 102s 118ms/step - loss: 0.5672 - accuracy: 0.8226\n",
            "Epoch 73/100\n",
            "865/865 [==============================] - 102s 118ms/step - loss: 0.5752 - accuracy: 0.8222\n",
            "Epoch 74/100\n",
            "865/865 [==============================] - 103s 119ms/step - loss: 0.5719 - accuracy: 0.8220\n",
            "Epoch 75/100\n",
            "865/865 [==============================] - 103s 119ms/step - loss: 0.5725 - accuracy: 0.8200\n",
            "Epoch 76/100\n",
            "865/865 [==============================] - 102s 118ms/step - loss: 0.5686 - accuracy: 0.8228\n",
            "Epoch 77/100\n",
            "865/865 [==============================] - 103s 119ms/step - loss: 0.5623 - accuracy: 0.8224\n",
            "Epoch 78/100\n",
            "865/865 [==============================] - 103s 119ms/step - loss: 0.5665 - accuracy: 0.8219\n",
            "Epoch 79/100\n",
            "865/865 [==============================] - 102s 118ms/step - loss: 0.5610 - accuracy: 0.8246\n",
            "Epoch 80/100\n",
            "865/865 [==============================] - 103s 119ms/step - loss: 0.5585 - accuracy: 0.8253\n",
            "Epoch 81/100\n",
            "865/865 [==============================] - 102s 118ms/step - loss: 0.5611 - accuracy: 0.8230\n",
            "Epoch 82/100\n",
            "865/865 [==============================] - 102s 118ms/step - loss: 0.5578 - accuracy: 0.8251\n",
            "Epoch 83/100\n",
            "865/865 [==============================] - 103s 118ms/step - loss: 0.5577 - accuracy: 0.8250\n",
            "Epoch 84/100\n",
            "865/865 [==============================] - 103s 119ms/step - loss: 0.5588 - accuracy: 0.8243\n",
            "Epoch 85/100\n",
            "865/865 [==============================] - 103s 119ms/step - loss: 0.5483 - accuracy: 0.8270\n",
            "Epoch 86/100\n",
            "865/865 [==============================] - 103s 119ms/step - loss: 0.5524 - accuracy: 0.8263\n",
            "Epoch 87/100\n",
            "865/865 [==============================] - 103s 119ms/step - loss: 0.5542 - accuracy: 0.8242\n",
            "Epoch 88/100\n",
            "865/865 [==============================] - 103s 119ms/step - loss: 0.5545 - accuracy: 0.8237\n",
            "Epoch 89/100\n",
            "865/865 [==============================] - 102s 118ms/step - loss: 0.5576 - accuracy: 0.8254\n",
            "Epoch 90/100\n",
            "865/865 [==============================] - 103s 119ms/step - loss: 0.5480 - accuracy: 0.8245\n",
            "Epoch 91/100\n",
            "865/865 [==============================] - 102s 118ms/step - loss: 0.5482 - accuracy: 0.8272\n",
            "Epoch 92/100\n",
            "865/865 [==============================] - 104s 120ms/step - loss: 0.5540 - accuracy: 0.8260\n",
            "Epoch 93/100\n",
            "865/865 [==============================] - 104s 120ms/step - loss: 0.5488 - accuracy: 0.8253\n",
            "Epoch 94/100\n",
            "865/865 [==============================] - 103s 119ms/step - loss: 0.5436 - accuracy: 0.8278\n",
            "Epoch 95/100\n",
            "865/865 [==============================] - 104s 120ms/step - loss: 0.5447 - accuracy: 0.8264\n",
            "Epoch 96/100\n",
            "865/865 [==============================] - 103s 119ms/step - loss: 0.5368 - accuracy: 0.8293\n",
            "Epoch 97/100\n",
            "865/865 [==============================] - 102s 118ms/step - loss: 0.5477 - accuracy: 0.8265\n",
            "Epoch 98/100\n",
            "865/865 [==============================] - 104s 120ms/step - loss: 0.5387 - accuracy: 0.8270\n",
            "Epoch 99/100\n",
            "865/865 [==============================] - 104s 120ms/step - loss: 0.5497 - accuracy: 0.8254\n",
            "Epoch 100/100\n",
            "865/865 [==============================] - 104s 120ms/step - loss: 0.5410 - accuracy: 0.8274\n"
          ],
          "name": "stdout"
        }
      ]
    },
    {
      "cell_type": "code",
      "metadata": {
        "colab": {
          "base_uri": "https://localhost:8080/"
        },
        "id": "OJyf8E37KgMc",
        "outputId": "837394b3-b9e3-4243-d5a9-ea49550ca779"
      },
      "source": [
        "# list all data in history\n",
        "print(history.history.keys())"
      ],
      "execution_count": 52,
      "outputs": [
        {
          "output_type": "stream",
          "text": [
            "dict_keys(['loss', 'accuracy'])\n"
          ],
          "name": "stdout"
        }
      ]
    },
    {
      "cell_type": "code",
      "metadata": {
        "colab": {
          "base_uri": "https://localhost:8080/",
          "height": 295
        },
        "id": "IBujCyBwKmzo",
        "outputId": "7e99d427-b168-4f0d-9b4a-cc2d536e4f1f"
      },
      "source": [
        "# summarize history for accuracy\n",
        "plt.plot(history.history['loss'], label='loss')\n",
        "plt.plot(history.history['accuracy'], label='accuracy')\n",
        "plt.title('loss & accuracy')\n",
        "plt.ylabel('value')\n",
        "plt.xlabel('epoch')\n",
        "plt.legend()\n",
        "plt.show()"
      ],
      "execution_count": 59,
      "outputs": [
        {
          "output_type": "display_data",
          "data": {
            "image/png": "[encoded data removed]",
            "text/plain": [
              "<Figure size 432x288 with 1 Axes>"
            ]
          },
          "metadata": {
            "tags": [],
            "needs_background": "light"
          }
        }
      ]
    },
    {
      "cell_type": "markdown",
      "metadata": {
        "id": "G9zC0bv4P41P"
      },
      "source": [
        "#### Recreate the model and load saved weights"
      ]
    },
    {
      "cell_type": "code",
      "metadata": {
        "colab": {
          "base_uri": "https://localhost:8080/"
        },
        "id": "U5uOCrdP5_l8",
        "outputId": "e4f17d47-aa7e-49d5-e92c-f7427ab279f9"
      },
      "source": [
        "# Create a new model instance\n",
        "model_loaded = create_model(vocab_size, embed_dim)\n",
        "model_loaded.load_weights('/content/drive/MyDrive/data/models/ldr_by_word/ldr_by_word')"
      ],
      "execution_count": 42,
      "outputs": [
        {
          "output_type": "execute_result",
          "data": {
            "text/plain": [
              "<tensorflow.python.training.tracking.util.CheckpointLoadStatus at 0x7f5a1fb802d0>"
            ]
          },
          "metadata": {
            "tags": []
          },
          "execution_count": 42
        }
      ]
    },
    {
      "cell_type": "code",
      "metadata": {
        "id": "OiPyUjHSQlVR"
      },
      "source": [
        "def make_lyrics(model, seed_text, next_words):\n",
        "    for _ in range(next_words):\n",
        "        token_list = tokenizer.texts_to_sequences([seed_text])[0]\n",
        "        token_list = pad_sequences([token_list],\n",
        "                     maxlen=max_sequence_len-1,padding='pre')\n",
        "        predicted = np.argmax(model.predict(token_list, verbose=0), axis=-1)\n",
        "        output_word = \"\"\n",
        "        for word, index in tokenizer.word_index.items():\n",
        "            if index == predicted:\n",
        "                output_word = word\n",
        "                break\n",
        "        seed_text += \" \" + output_word\n",
        "    return seed_text"
      ],
      "execution_count": 49,
      "outputs": []
    },
    {
      "cell_type": "code",
      "metadata": {
        "colab": {
          "base_uri": "https://localhost:8080/"
        },
        "id": "OWtcy-scQrhI",
        "outputId": "c9f0f328-2cf5-4ec4-dceb-d1c7f8140a9a"
      },
      "source": [
        "predicted_lyrics = make_lyrics(model, 'lolita', 100)\n",
        "print(predicted_lyrics)"
      ],
      "execution_count": 50,
      "outputs": [
        {
          "output_type": "stream",
          "text": [
            "lolita bitch lookin' at me like a magazine wearing romeo there on the city of miami fun and god i loved to sing what i need you i'd never leave you now i'm hearing arrived then we dance on that night there just swallow some wine i can change that night only mine too light as that old jukebox what your lipstick on the tour of his cocaine heart if you cigar ready on the poems we burned for sure real you got a war in my mind with you daddy hey la princesa poet resident laurel fun so light everybody\n"
          ],
          "name": "stdout"
        }
      ]
    },
    {
      "cell_type": "code",
      "metadata": {
        "colab": {
          "base_uri": "https://localhost:8080/"
        },
        "id": "ZcrMbyOMIfLs",
        "outputId": "5acd66c3-9582-4a96-de38-aa9d0bd86c4e"
      },
      "source": [
        "predicted_lyrics = make_lyrics(model_loaded, 'lolita', 100)\n",
        "print(predicted_lyrics)"
      ],
      "execution_count": 66,
      "outputs": [
        {
          "output_type": "stream",
          "text": [
            "lolita writing guitar remember me i nevada but just that just yeah fell just but for hurt hurt hurt hurt hurt hurt hurt hurt hurt hurt hurt hurt hurt hurt hurt just yeah just yeah yeah yeah yeah yeah yeah yeah yeah yeah yeah yeah just just just yeah just yeah just yeah just yeah just yeah yeah yeah yeah yeah yeah yeah yeah yeah yeah yeah yeah yeah yeah yeah yeah yeah yeah yeah yeah yeah yeah yeah yeah yeah yeah yeah yeah yeah yeah yeah yeah yeah yeah yeah yeah yeah yeah yeah yeah yeah yeah yeah yeah yeah\n"
          ],
          "name": "stdout"
        }
      ]
    },
    {
      "cell_type": "code",
      "metadata": {
        "colab": {
          "base_uri": "https://localhost:8080/"
        },
        "id": "OYW9z6pjQuUp",
        "outputId": "82d7f2e8-de3d-4bed-aadb-4006d11ba67c"
      },
      "source": [
        "predicted_lyrics = make_lyrics(model_loaded, 'baby blue', 100)\n",
        "print(predicted_lyrics)"
      ],
      "execution_count": 67,
      "outputs": [
        {
          "output_type": "stream",
          "text": [
            "baby blue electric buy time and i'm my sends out away the mine now be remember go suit clothes sparkle blond got myself know and to the say you the rage da killing aeroplane on of deep all a catch fail in a war in soul odds away to reasons we and then to let you say back cry is love when do got put you around i have is so me famous some light know i darts jam world baby's were to reasons is stay it fiends fire two do do do do do do do do the eyes me it's\n"
          ],
          "name": "stdout"
        }
      ]
    },
    {
      "cell_type": "code",
      "metadata": {
        "id": "yBhQMXoDGENl"
      },
      "source": [
        ""
      ],
      "execution_count": null,
      "outputs": []
    }
  ]
}