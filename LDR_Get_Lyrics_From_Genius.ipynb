{
  "nbformat": 4,
  "nbformat_minor": 0,
  "metadata": {
    "colab": {
      "name": "LDR_Get_Lyrics_From_Genius.ipynb",
      "provenance": [],
      "mount_file_id": "1C_O7zgqSRaCk3vTB0cGaXoYLcHMvOX4N",
      "authorship_tag": "ABX9TyOUUQEDGSHrU0FljFfmtxq5",
      "include_colab_link": true
    },
    "kernelspec": {
      "name": "python3",
      "display_name": "Python 3"
    },
    "language_info": {
      "name": "python"
    }
  },
  "cells": [
    {
      "cell_type": "markdown",
      "metadata": {
        "id": "view-in-github",
        "colab_type": "text"
      },
      "source": [
        "<a href=\"https://colab.research.google.com/github/czengnn/lana-del-rey-lyrics-generator/blob/main/LDR_Get_Lyrics_From_Genius.ipynb\" target=\"_parent\"><img src=\"https://colab.research.google.com/assets/colab-badge.svg\" alt=\"Open In Colab\"/></a>"
      ]
    },
    {
      "cell_type": "code",
      "metadata": {
        "id": "ezq1SBS3ZabU",
        "colab": {
          "base_uri": "https://localhost:8080/"
        },
        "outputId": "e5c1655f-7538-47d8-afca-53e7f5e5d773"
      },
      "source": [
        "! pip install lyricsgenius"
      ],
      "execution_count": 6,
      "outputs": [
        {
          "output_type": "stream",
          "text": [
            "Collecting lyricsgenius\n",
            "\u001b[?25l  Downloading https://files.pythonhosted.org/packages/0d/32/be32f6922f70fd1b9900b50b228f6585cd60a96bdf03589df738f627d388/lyricsgenius-3.0.1-py3-none-any.whl (59kB)\n",
            "\r\u001b[K     |█████▌                          | 10kB 15.0MB/s eta 0:00:01\r\u001b[K     |███████████                     | 20kB 20.5MB/s eta 0:00:01\r\u001b[K     |████████████████▌               | 30kB 10.6MB/s eta 0:00:01\r\u001b[K     |██████████████████████          | 40kB 8.4MB/s eta 0:00:01\r\u001b[K     |███████████████████████████▋    | 51kB 5.5MB/s eta 0:00:01\r\u001b[K     |████████████████████████████████| 61kB 3.5MB/s \n",
            "\u001b[?25hRequirement already satisfied: beautifulsoup4>=4.6.0 in /usr/local/lib/python3.7/dist-packages (from lyricsgenius) (4.6.3)\n",
            "Requirement already satisfied: requests>=2.20.0 in /usr/local/lib/python3.7/dist-packages (from lyricsgenius) (2.23.0)\n",
            "Requirement already satisfied: certifi>=2017.4.17 in /usr/local/lib/python3.7/dist-packages (from requests>=2.20.0->lyricsgenius) (2020.12.5)\n",
            "Requirement already satisfied: idna<3,>=2.5 in /usr/local/lib/python3.7/dist-packages (from requests>=2.20.0->lyricsgenius) (2.10)\n",
            "Requirement already satisfied: chardet<4,>=3.0.2 in /usr/local/lib/python3.7/dist-packages (from requests>=2.20.0->lyricsgenius) (3.0.4)\n",
            "Requirement already satisfied: urllib3!=1.25.0,!=1.25.1,<1.26,>=1.21.1 in /usr/local/lib/python3.7/dist-packages (from requests>=2.20.0->lyricsgenius) (1.24.3)\n",
            "Installing collected packages: lyricsgenius\n",
            "Successfully installed lyricsgenius-3.0.1\n"
          ],
          "name": "stdout"
        }
      ]
    },
    {
      "cell_type": "code",
      "metadata": {
        "id": "kXiEl1lPikyd"
      },
      "source": [
        "import json \n",
        "import pandas as pd \n",
        "import lyricsgenius\n",
        "import os"
      ],
      "execution_count": 14,
      "outputs": []
    },
    {
      "cell_type": "code",
      "metadata": {
        "id": "Wvkw2qo5gdxI"
      },
      "source": [
        "token = \n",
        "genius = lyricsgenius.Genius(token)"
      ],
      "execution_count": 10,
      "outputs": []
    },
    {
      "cell_type": "code",
      "metadata": {
        "colab": {
          "base_uri": "https://localhost:8080/"
        },
        "id": "gzB_0Kt0g5-j",
        "outputId": "5bff92b4-7bbd-47c4-ed0c-2cdd0f4b1871"
      },
      "source": [
        "album = genius.search_album(\"Lana Del Ray\", \"Lana Del Rey\")\n",
        "album.save_lyrics()\n",
        "\n",
        "album = genius.search_album(\"Chemtrails over the Country Club\", \"Lana Del Rey\")\n",
        "album.save_lyrics()"
      ],
      "execution_count": 28,
      "outputs": [
        {
          "output_type": "stream",
          "text": [
            "Searching for \"Lana Del Ray\" by Lana Del Rey...\n",
            "Wrote Lyrics_LanaDelRey.json.\n"
          ],
          "name": "stdout"
        }
      ]
    },
    {
      "cell_type": "code",
      "metadata": {
        "id": "sNJQq-Sbop8N"
      },
      "source": [
        "songs = []"
      ],
      "execution_count": 29,
      "outputs": []
    },
    {
      "cell_type": "code",
      "metadata": {
        "id": "iLktuxKsj0tA",
        "colab": {
          "base_uri": "https://localhost:8080/"
        },
        "outputId": "e570e2cb-b7f9-450d-ea5e-01f93f98b332"
      },
      "source": [
        "for filename in os.listdir('/content'):\n",
        "    if filename[-5:] == '.json':\n",
        "        album = json.load(open(filename))\n",
        "        for song in album['tracks']:\n",
        "            lyrics = song['song']['lyrics']\n",
        "            title = song['song']['title']\n",
        "            songs.append([title, lyrics])\n",
        "len(songs)"
      ],
      "execution_count": 30,
      "outputs": [
        {
          "output_type": "execute_result",
          "data": {
            "text/plain": [
              "15"
            ]
          },
          "metadata": {
            "tags": []
          },
          "execution_count": 30
        }
      ]
    },
    {
      "cell_type": "code",
      "metadata": {
        "id": "rrGk1pzylpzo"
      },
      "source": [
        "lyrics = pd.DataFrame(songs, columns=['title', 'lyrics'])"
      ],
      "execution_count": 31,
      "outputs": []
    },
    {
      "cell_type": "code",
      "metadata": {
        "colab": {
          "base_uri": "https://localhost:8080/",
          "height": 198
        },
        "id": "aAuy34t5qF2m",
        "outputId": "b025dce4-bdb7-4ffb-b7b4-92e0068516f3"
      },
      "source": [
        "lyrics.head()"
      ],
      "execution_count": 32,
      "outputs": [
        {
          "output_type": "execute_result",
          "data": {
            "text/html": [
              "<div>\n",
              "<style scoped>\n",
              "    .dataframe tbody tr th:only-of-type {\n",
              "        vertical-align: middle;\n",
              "    }\n",
              "\n",
              "    .dataframe tbody tr th {\n",
              "        vertical-align: top;\n",
              "    }\n",
              "\n",
              "    .dataframe thead th {\n",
              "        text-align: right;\n",
              "    }\n",
              "</style>\n",
              "<table border=\"1\" class=\"dataframe\">\n",
              "  <thead>\n",
              "    <tr style=\"text-align: right;\">\n",
              "      <th></th>\n",
              "      <th>title</th>\n",
              "      <th>lyrics</th>\n",
              "    </tr>\n",
              "  </thead>\n",
              "  <tbody>\n",
              "    <tr>\n",
              "      <th>0</th>\n",
              "      <td>White Dress</td>\n",
              "      <td>[Verse 1]\\nSun stare, don't care with my head ...</td>\n",
              "    </tr>\n",
              "    <tr>\n",
              "      <th>1</th>\n",
              "      <td>Chemtrails Over the Country Club</td>\n",
              "      <td>[Chorus]\\nI'm on the run with you, my sweet lo...</td>\n",
              "    </tr>\n",
              "    <tr>\n",
              "      <th>2</th>\n",
              "      <td>Tulsa Jesus Freak</td>\n",
              "      <td>[Chorus]\\nYou should stay real close to Jesus\\...</td>\n",
              "    </tr>\n",
              "    <tr>\n",
              "      <th>3</th>\n",
              "      <td>Let Me Love You Like A Woman</td>\n",
              "      <td>[Verse 1]\\nI come from a small town, how 'bout...</td>\n",
              "    </tr>\n",
              "    <tr>\n",
              "      <th>4</th>\n",
              "      <td>Wild at Heart</td>\n",
              "      <td>[Verse 1]\\nWhat would you do if I told you\\nYo...</td>\n",
              "    </tr>\n",
              "  </tbody>\n",
              "</table>\n",
              "</div>"
            ],
            "text/plain": [
              "                              title                                             lyrics\n",
              "0                       White Dress  [Verse 1]\\nSun stare, don't care with my head ...\n",
              "1  Chemtrails Over the Country Club  [Chorus]\\nI'm on the run with you, my sweet lo...\n",
              "2                 Tulsa Jesus Freak  [Chorus]\\nYou should stay real close to Jesus\\...\n",
              "3      Let Me Love You Like A Woman  [Verse 1]\\nI come from a small town, how 'bout...\n",
              "4                     Wild at Heart  [Verse 1]\\nWhat would you do if I told you\\nYo..."
            ]
          },
          "metadata": {
            "tags": []
          },
          "execution_count": 32
        }
      ]
    },
    {
      "cell_type": "code",
      "metadata": {
        "id": "f_viBzdYoVA7"
      },
      "source": [
        "lyrics.drop_duplicates().to_csv('lana_lyrics_15.csv')"
      ],
      "execution_count": 33,
      "outputs": []
    },
    {
      "cell_type": "code",
      "metadata": {
        "id": "sBE46Gxge8-z"
      },
      "source": [
        ""
      ],
      "execution_count": null,
      "outputs": []
    },
    {
      "cell_type": "code",
      "metadata": {
        "id": "OC71SapJZPqP"
      },
      "source": [
        "lyrics = pd.read_csv('/content/drive/MyDrive/data/lana_lyrics_83.csv')"
      ],
      "execution_count": null,
      "outputs": []
    },
    {
      "cell_type": "code",
      "metadata": {
        "colab": {
          "base_uri": "https://localhost:8080/"
        },
        "id": "ZqagOaAzZbE_",
        "outputId": "2cacb34f-503d-498a-9f8b-0f8faa9e5d22"
      },
      "source": [
        "lyrics.shape"
      ],
      "execution_count": null,
      "outputs": [
        {
          "output_type": "execute_result",
          "data": {
            "text/plain": [
              "(83, 3)"
            ]
          },
          "metadata": {
            "tags": []
          },
          "execution_count": 5
        }
      ]
    }
  ]
}