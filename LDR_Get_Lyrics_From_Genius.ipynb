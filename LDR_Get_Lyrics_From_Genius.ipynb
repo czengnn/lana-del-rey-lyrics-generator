{
  "nbformat": 4,
  "nbformat_minor": 0,
  "metadata": {
    "colab": {
      "name": "LDR_Get_Lyrics_From_Genius.ipynb",
      "provenance": [],
      "authorship_tag": "ABX9TyO6lwl/+svamDXHeo4NLhd5",
      "include_colab_link": true
    },
    "kernelspec": {
      "name": "python3",
      "display_name": "Python 3"
    },
    "language_info": {
      "name": "python"
    }
  },
  "cells": [
    {
      "cell_type": "markdown",
      "metadata": {
        "id": "view-in-github",
        "colab_type": "text"
      },
      "source": [
        "<a href=\"https://colab.research.google.com/github/czengnn/lana-del-rey-lyrics-generator/blob/main/LDR_Get_Lyrics_From_Genius.ipynb\" target=\"_parent\"><img src=\"https://colab.research.google.com/assets/colab-badge.svg\" alt=\"Open In Colab\"/></a>"
      ]
    },
    {
      "cell_type": "code",
      "metadata": {
        "id": "ezq1SBS3ZabU"
      },
      "source": [
        "# ! pip install lyricsgenius"
      ],
      "execution_count": null,
      "outputs": []
    },
    {
      "cell_type": "code",
      "metadata": {
        "id": "kXiEl1lPikyd"
      },
      "source": [
        "import json \n",
        "import pandas as pd \n",
        "import lyricsgenius"
      ],
      "execution_count": null,
      "outputs": []
    },
    {
      "cell_type": "code",
      "metadata": {
        "id": "Wvkw2qo5gdxI"
      },
      "source": [
        "token = 'BLGpDzdBQy7CvDwtu3HLS_2EiEZvERGaDPkeBruPEj5qqRgNPXXjtXMjkatacmbg'\n",
        "genius = lyricsgenius.Genius(token)"
      ],
      "execution_count": null,
      "outputs": []
    },
    {
      "cell_type": "code",
      "metadata": {
        "colab": {
          "base_uri": "https://localhost:8080/"
        },
        "id": "gzB_0Kt0g5-j",
        "outputId": "c5ad5640-5900-456b-e8a1-4de9d4cd39d3"
      },
      "source": [
        "album = genius.search_album(\"Born to Die: The Paradise Edition\", \"Lana Del Rey\")\n",
        "album.save_lyrics()"
      ],
      "execution_count": null,
      "outputs": [
        {
          "output_type": "stream",
          "text": [
            "Searching for \"Born to Die: The Paradise Edition\" by Lana Del Rey...\n",
            "Wrote Lyrics_BorntoDieTheParadiseEdition.json.\n"
          ],
          "name": "stdout"
        }
      ]
    },
    {
      "cell_type": "code",
      "metadata": {
        "id": "iLktuxKsj0tA"
      },
      "source": [
        "album = json.load(open('/content/Lyrics_BorntoDieTheParadiseEdition.json'))\n",
        "for song in album['tracks']:\n",
        "  lyrics = song['song']['lyrics']\n",
        "  title = song['song']['title']\n",
        "  songs.append([title, lyrics])"
      ],
      "execution_count": null,
      "outputs": []
    },
    {
      "cell_type": "code",
      "metadata": {
        "id": "rrGk1pzylpzo"
      },
      "source": [
        "lyrics = pd.DataFrame(songs, columns=['title', 'lyrics'])"
      ],
      "execution_count": null,
      "outputs": []
    },
    {
      "cell_type": "code",
      "metadata": {
        "id": "f_viBzdYoVA7"
      },
      "source": [
        "lyrics.drop_duplicates().to_csv('lana_lyrics_83.csv')"
      ],
      "execution_count": null,
      "outputs": []
    }
  ]
}