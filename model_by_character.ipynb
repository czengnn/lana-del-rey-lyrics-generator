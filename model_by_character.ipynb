{
  "nbformat": 4,
  "nbformat_minor": 0,
  "metadata": {
    "colab": {
      "name": "model_by_character.ipynb",
      "provenance": []
    },
    "kernelspec": {
      "name": "python3",
      "display_name": "Python 3"
    },
    "language_info": {
      "name": "python"
    },
    "accelerator": "GPU"
  },
  "cells": [
    {
      "cell_type": "code",
      "metadata": {
        "id": "lh6cwpxzfdt4"
      },
      "source": [
        "from IPython.display import HTML, display\n",
        "\n",
        "def set_css():\n",
        "    display(HTML('''<style> pre {white-space: pre-wrap;} </style>'''))\n",
        "get_ipython().events.register('pre_run_cell', set_css)"
      ],
      "execution_count": 2,
      "outputs": []
    },
    {
      "cell_type": "code",
      "metadata": {
        "id": "tMqr0lmZE651",
        "colab": {
          "base_uri": "https://localhost:8080/"
        },
        "outputId": "bf5adf34-eb31-45e9-f68a-541ad7317f13"
      },
      "source": [
        "import pandas as pd \n",
        "import numpy as np \n",
        "import re \n",
        "import os\n",
        "import time\n",
        "import matplotlib.pyplot as plt\n",
        "\n",
        "import tensorflow as tf\n",
        "import keras\n",
        "print(tf.__version__)\n",
        "print(keras.__version__)\n",
        "\n",
        "from tensorflow.keras.layers.experimental import preprocessing\n",
        "\n",
        "from tensorflow.keras.losses import sparse_categorical_crossentropy\n",
        "from keras.models import Sequential, load_model\n",
        "from keras.layers import LSTM, Activation, Flatten, Dropout, Dense, Embedding, TimeDistributed, Bidirectional, GRU\n",
        "from keras.callbacks import ModelCheckpoint\n",
        "from keras import backend as K\n",
        "from keras.utils import np_utils"
      ],
      "execution_count": 1,
      "outputs": [
        {
          "output_type": "stream",
          "text": [
            "2.4.1\n",
            "2.4.3\n"
          ],
          "name": "stdout"
        }
      ]
    },
    {
      "cell_type": "code",
      "metadata": {
        "colab": {
          "base_uri": "https://localhost:8080/"
        },
        "id": "cY_nAiAbfhye",
        "outputId": "3c00f3a2-d455-4e86-e847-7d68163897e0"
      },
      "source": [
        "from google.colab import drive\n",
        "drive.mount('/content/drive')"
      ],
      "execution_count": 1,
      "outputs": [
        {
          "output_type": "stream",
          "text": [
            "Mounted at /content/drive\n"
          ],
          "name": "stdout"
        }
      ]
    },
    {
      "cell_type": "code",
      "metadata": {
        "colab": {
          "base_uri": "https://localhost:8080/",
          "height": 17
        },
        "id": "jwj-Cf76FPYF",
        "outputId": "9ccb2533-6b06-49e7-e0eb-f9d25ef39de9"
      },
      "source": [
        "# load songs\n",
        "songs = pd.read_csv('/content/drive/MyDrive/repos/lana-del-rey-lyrics-generator/data/lana_lyrics_98.csv')\n",
        "\n",
        "# put lyrics into 1 string\n",
        "text = ''\n",
        "for song in songs['lyrics']:\n",
        "    text = text + song.lower()\n",
        "    \n",
        "# remove the text with brackets around them, such as [Verse 1]\n",
        "text = re.sub(r'\\[[^][]*\\]', '', text)\n",
        "text = re.sub(r'\\(|\\)', '', text)"
      ],
      "execution_count": 6,
      "outputs": [
        {
          "output_type": "display_data",
          "data": {
            "text/html": [
              "<style> pre {white-space: pre-wrap;} </style>"
            ],
            "text/plain": [
              "<IPython.core.display.HTML object>"
            ]
          },
          "metadata": {
            "tags": []
          }
        }
      ]
    },
    {
      "cell_type": "code",
      "metadata": {
        "colab": {
          "base_uri": "https://localhost:8080/",
          "height": 51
        },
        "id": "Ea2F6B13fzFv",
        "outputId": "522c9ca2-b8c8-4d25-c47c-acddbc3774c7"
      },
      "source": [
        "# length of text is the number of characters in it\n",
        "print(f'Length of text: {len(text)} characters')\n",
        "\n",
        "# The unique characters in the file\n",
        "vocab = sorted(set(text))\n",
        "print(f'{len(vocab)} unique characters')"
      ],
      "execution_count": 7,
      "outputs": [
        {
          "output_type": "display_data",
          "data": {
            "text/html": [
              "<style> pre {white-space: pre-wrap;} </style>"
            ],
            "text/plain": [
              "<IPython.core.display.HTML object>"
            ]
          },
          "metadata": {
            "tags": []
          }
        },
        {
          "output_type": "stream",
          "text": [
            "Length of text: 160910 characters\n",
            "59 unique characters\n"
          ],
          "name": "stdout"
        }
      ]
    },
    {
      "cell_type": "code",
      "metadata": {
        "colab": {
          "base_uri": "https://localhost:8080/",
          "height": 221
        },
        "id": "yfo2-52NFWtS",
        "outputId": "296b9691-eb8a-4393-e64e-fe94beeca1cf"
      },
      "source": [
        "# taking a look at the first 300 characters\n",
        "print(text[:300])"
      ],
      "execution_count": 8,
      "outputs": [
        {
          "output_type": "display_data",
          "data": {
            "text/html": [
              "<style> pre {white-space: pre-wrap;} </style>"
            ],
            "text/plain": [
              "<IPython.core.display.HTML object>"
            ]
          },
          "metadata": {
            "tags": []
          }
        },
        {
          "output_type": "stream",
          "text": [
            "\n",
            "why? \"got that?\"\n",
            "who, me? \"louder!\"\n",
            "why? \"got that?\"\n",
            "\n",
            "\n",
            "feet don't fail me now\n",
            "take me to the finish line\n",
            "oh, my heart, it breaks every step that i take\n",
            "but i'm hoping at the gates, they'll tell me that you're mine\n",
            "walking through the city streets, is it by mistake or design?\n",
            "i feel so alone on a fr\n"
          ],
          "name": "stdout"
        }
      ]
    },
    {
      "cell_type": "markdown",
      "metadata": {
        "id": "C4wKS9n5rpNg"
      },
      "source": [
        "### 2- Mapping characters :\n",
        " Make two dictionaries , one to convert chars to ints , the other to convert ints back to chars : \n"
      ]
    },
    {
      "cell_type": "code",
      "metadata": {
        "id": "jafC0WcvsA4R",
        "colab": {
          "base_uri": "https://localhost:8080/",
          "height": 17
        },
        "outputId": "0815c058-fc88-4e6b-b312-a749ccc365be"
      },
      "source": [
        "# Mapping chars to ints\n",
        "chars = sorted(list(set(text)))\n",
        "int_chars = dict((i, c) for i, c in enumerate(chars))\n",
        "chars_int = dict((i, c) for c, i in enumerate(chars))"
      ],
      "execution_count": 9,
      "outputs": [
        {
          "output_type": "display_data",
          "data": {
            "text/html": [
              "<style> pre {white-space: pre-wrap;} </style>"
            ],
            "text/plain": [
              "<IPython.core.display.HTML object>"
            ]
          },
          "metadata": {
            "tags": []
          }
        }
      ]
    },
    {
      "cell_type": "code",
      "metadata": {
        "id": "WsWUvqD0sGsX",
        "colab": {
          "base_uri": "https://localhost:8080/",
          "height": 51
        },
        "outputId": "87e69d95-f8c4-4116-fe84-57d815a5119d"
      },
      "source": [
        "# Get number of chars and vocab in our text\n",
        "n_chars = len(text)\n",
        "n_vocab = len(chars)\n",
        "\n",
        "print('Total Characters : ' , n_chars) # number of all the characters in lyricsText.txt\n",
        "print('Total Vocab : ', n_vocab) # number of unique characters"
      ],
      "execution_count": 10,
      "outputs": [
        {
          "output_type": "display_data",
          "data": {
            "text/html": [
              "<style> pre {white-space: pre-wrap;} </style>"
            ],
            "text/plain": [
              "<IPython.core.display.HTML object>"
            ]
          },
          "metadata": {
            "tags": []
          }
        },
        {
          "output_type": "stream",
          "text": [
            "Total Characters :  160910\n",
            "Total Vocab :  59\n"
          ],
          "name": "stdout"
        }
      ]
    },
    {
      "cell_type": "code",
      "metadata": {
        "colab": {
          "base_uri": "https://localhost:8080/",
          "height": 17
        },
        "id": "PliaksIxgOCi",
        "outputId": "d650d13f-5916-4e13-8cb7-40dfc5a9ea3e"
      },
      "source": [
        "ids_from_chars = preprocessing.StringLookup(vocabulary=list(vocab), mask_token=None)\n",
        "chars_from_ids = preprocessing.StringLookup(vocabulary=ids_from_chars.get_vocabulary(), invert=True, mask_token=None)\n",
        "def text_from_ids(ids):\n",
        "    return tf.strings.reduce_join(chars_from_ids(ids), axis=-1)\n",
        "all_ids = ids_from_chars(tf.strings.unicode_split(text, 'UTF-8'))"
      ],
      "execution_count": 11,
      "outputs": [
        {
          "output_type": "display_data",
          "data": {
            "text/html": [
              "<style> pre {white-space: pre-wrap;} </style>"
            ],
            "text/plain": [
              "<IPython.core.display.HTML object>"
            ]
          },
          "metadata": {
            "tags": []
          }
        }
      ]
    },
    {
      "cell_type": "code",
      "metadata": {
        "colab": {
          "base_uri": "https://localhost:8080/",
          "height": 85
        },
        "id": "Pc3xboaDgyEA",
        "outputId": "7f419055-369b-427c-8e7d-7ace2a2592b4"
      },
      "source": [
        "ids_dataset = tf.data.Dataset.from_tensor_slices(all_ids)\n",
        "\n",
        "seq_length = 100\n",
        "sequences = ids_dataset.batch(seq_length+1, drop_remainder=True)\n",
        "\n",
        "def split_input_target(sequence):\n",
        "    input_text = sequence[:-1]\n",
        "    target_text = sequence[1:]\n",
        "    return input_text, target_text\n",
        "\n",
        "dataset_0 = sequences.map(split_input_target)\n",
        "\n",
        "for input_example, target_example in dataset_0.take(1):\n",
        "    print(\"Input :\", text_from_ids(input_example).numpy())\n",
        "    print(\"Target:\", text_from_ids(target_example).numpy())"
      ],
      "execution_count": 12,
      "outputs": [
        {
          "output_type": "display_data",
          "data": {
            "text/html": [
              "<style> pre {white-space: pre-wrap;} </style>"
            ],
            "text/plain": [
              "<IPython.core.display.HTML object>"
            ]
          },
          "metadata": {
            "tags": []
          }
        },
        {
          "output_type": "stream",
          "text": [
            "Input : b'\\nwhy? \"got that?\"\\nwho, me? \"louder!\"\\nwhy? \"got that?\"\\n\\n\\nfeet don\\'t fail me now\\ntake me to the finish'\n",
            "Target: b'why? \"got that?\"\\nwho, me? \"louder!\"\\nwhy? \"got that?\"\\n\\n\\nfeet don\\'t fail me now\\ntake me to the finish '\n"
          ],
          "name": "stdout"
        }
      ]
    },
    {
      "cell_type": "code",
      "metadata": {
        "colab": {
          "base_uri": "https://localhost:8080/",
          "height": 51
        },
        "id": "2ZFJjQWFhF8F",
        "outputId": "03a2d95a-1e3e-47a7-f9de-3ca29c5a965d"
      },
      "source": [
        "# Batch size\n",
        "BATCH_SIZE = 64\n",
        "\n",
        "# Buffer size to shuffle the dataset\n",
        "# (TF data is designed to work with possibly infinite sequences,\n",
        "# so it doesn't attempt to shuffle the entire sequence in memory. Instead,\n",
        "# it maintains a buffer in which it shuffles elements).\n",
        "BUFFER_SIZE = 10000\n",
        "\n",
        "dataset = (\n",
        "    dataset_0\n",
        "    .shuffle(BUFFER_SIZE)\n",
        "    .batch(BATCH_SIZE, drop_remainder=True)\n",
        "    .prefetch(tf.data.experimental.AUTOTUNE))\n",
        "\n",
        "dataset"
      ],
      "execution_count": 13,
      "outputs": [
        {
          "output_type": "display_data",
          "data": {
            "text/html": [
              "<style> pre {white-space: pre-wrap;} </style>"
            ],
            "text/plain": [
              "<IPython.core.display.HTML object>"
            ]
          },
          "metadata": {
            "tags": []
          }
        },
        {
          "output_type": "execute_result",
          "data": {
            "text/plain": [
              "<PrefetchDataset shapes: ((64, 100), (64, 100)), types: (tf.int64, tf.int64)>"
            ]
          },
          "metadata": {
            "tags": []
          },
          "execution_count": 13
        }
      ]
    },
    {
      "cell_type": "code",
      "metadata": {
        "colab": {
          "base_uri": "https://localhost:8080/",
          "height": 17
        },
        "id": "K_xs-MQ6hTdY",
        "outputId": "2562f5bc-8e7c-4e1a-ac8d-c4825a1916d9"
      },
      "source": [
        "# Length of the vocabulary in chars\n",
        "vocab_size = len(vocab)\n",
        "\n",
        "# The embedding dimension\n",
        "embedding_dim = 256\n",
        "\n",
        "# Number of RNN units\n",
        "rnn_units = 1024"
      ],
      "execution_count": 14,
      "outputs": [
        {
          "output_type": "display_data",
          "data": {
            "text/html": [
              "<style> pre {white-space: pre-wrap;} </style>"
            ],
            "text/plain": [
              "<IPython.core.display.HTML object>"
            ]
          },
          "metadata": {
            "tags": []
          }
        }
      ]
    },
    {
      "cell_type": "code",
      "metadata": {
        "colab": {
          "base_uri": "https://localhost:8080/",
          "height": 17
        },
        "id": "IbtPSjsShbws",
        "outputId": "ea69967b-2668-447e-c56a-c178eece4c6f"
      },
      "source": [
        "class MyModel(tf.keras.Model):\n",
        "    def __init__(self, vocab_size, embedding_dim, rnn_units):\n",
        "        super().__init__(self)\n",
        "        self.embedding = Embedding(vocab_size, embedding_dim)\n",
        "        self.gru = GRU(rnn_units,\n",
        "                       return_sequences=True,\n",
        "                       return_state=True)\n",
        "        self.dropout = Dropout(0.1)\n",
        "        # self.dense_0 = Dense(10, activation='relu')\n",
        "        self.dense_1 = Dense(vocab_size/2, activation='relu')\n",
        "        self.dense_2 = Dense(vocab_size)\n",
        "\n",
        "    def call(self, inputs, states=None, return_state=False, training=False):\n",
        "        x = inputs\n",
        "        x = self.embedding(x, training=training)\n",
        "        if states is None:\n",
        "            states = self.gru.get_initial_state(x)\n",
        "        x, states = self.gru(x, initial_state=states, training=training)\n",
        "        x = self.dropout(x, training=training)\n",
        "        # x = self.dense_0(x, training=training)\n",
        "        x = self.dense_1(x, training=training)\n",
        "        x = self.dense_2(x, training=training)\n",
        "\n",
        "        if return_state:\n",
        "            return x, states\n",
        "        else:\n",
        "            return x"
      ],
      "execution_count": 15,
      "outputs": [
        {
          "output_type": "display_data",
          "data": {
            "text/html": [
              "<style> pre {white-space: pre-wrap;} </style>"
            ],
            "text/plain": [
              "<IPython.core.display.HTML object>"
            ]
          },
          "metadata": {
            "tags": []
          }
        }
      ]
    },
    {
      "cell_type": "code",
      "metadata": {
        "colab": {
          "base_uri": "https://localhost:8080/",
          "height": 34
        },
        "id": "7wKG2gKIhcKn",
        "outputId": "cf2270e3-21c0-4acd-e607-cf2dbdc972fb"
      },
      "source": [
        "K.clear_session()\n",
        "model = MyModel(\n",
        "    # Be sure the vocabulary size matches the `StringLookup` layers.\n",
        "    vocab_size=len(ids_from_chars.get_vocabulary()),\n",
        "    embedding_dim=embedding_dim,\n",
        "    rnn_units=rnn_units)\n",
        "\n",
        "for input_example_batch, target_example_batch in dataset.take(1):\n",
        "    example_batch_predictions = model(input_example_batch)\n",
        "    print(example_batch_predictions.shape, \"# (batch_size, sequence_length, vocab_size)\")"
      ],
      "execution_count": 22,
      "outputs": [
        {
          "output_type": "display_data",
          "data": {
            "text/html": [
              "<style> pre {white-space: pre-wrap;} </style>"
            ],
            "text/plain": [
              "<IPython.core.display.HTML object>"
            ]
          },
          "metadata": {
            "tags": []
          }
        },
        {
          "output_type": "stream",
          "text": [
            "(64, 100, 60) # (batch_size, sequence_length, vocab_size)\n"
          ],
          "name": "stdout"
        }
      ]
    },
    {
      "cell_type": "code",
      "metadata": {
        "colab": {
          "base_uri": "https://localhost:8080/",
          "height": 323
        },
        "id": "KfrE45_fhkuT",
        "outputId": "ad5f923a-c409-4a68-e841-7e5723c2d3ca"
      },
      "source": [
        "model.summary()"
      ],
      "execution_count": 23,
      "outputs": [
        {
          "output_type": "display_data",
          "data": {
            "text/html": [
              "<style> pre {white-space: pre-wrap;} </style>"
            ],
            "text/plain": [
              "<IPython.core.display.HTML object>"
            ]
          },
          "metadata": {
            "tags": []
          }
        },
        {
          "output_type": "stream",
          "text": [
            "Model: \"my_model\"\n",
            "_________________________________________________________________\n",
            "Layer (type)                 Output Shape              Param #   \n",
            "=================================================================\n",
            "embedding (Embedding)        multiple                  15360     \n",
            "_________________________________________________________________\n",
            "gru (GRU)                    multiple                  3938304   \n",
            "_________________________________________________________________\n",
            "dropout (Dropout)            multiple                  0         \n",
            "_________________________________________________________________\n",
            "dense (Dense)                multiple                  30750     \n",
            "_________________________________________________________________\n",
            "dense_1 (Dense)              multiple                  1860      \n",
            "=================================================================\n",
            "Total params: 3,986,274\n",
            "Trainable params: 3,986,274\n",
            "Non-trainable params: 0\n",
            "_________________________________________________________________\n"
          ],
          "name": "stdout"
        }
      ]
    },
    {
      "cell_type": "code",
      "metadata": {
        "colab": {
          "base_uri": "https://localhost:8080/",
          "height": 1000
        },
        "id": "NHo9Q3x3holt",
        "outputId": "c422d154-07f1-4762-d64a-20a82575b883"
      },
      "source": [
        "loss = tf.losses.SparseCategoricalCrossentropy(from_logits=True)\n",
        "model.compile(optimizer='adam', loss=loss, metrics='accuracy')\n",
        "\n",
        "early_stopping = tf.keras.callbacks.EarlyStopping(monitor='loss', patience=5)\n",
        "EPOCHS = 30\n",
        "history = model.fit(dataset, epochs=EPOCHS, callbacks=[early_stopping])\n",
        "\n",
        "# Save the weights\n",
        "model.save_weights('/content/drive/MyDrive/repos/lana-del-rey-lyrics-generator/models/ldr_by_chars/ldr_by_chars')"
      ],
      "execution_count": 24,
      "outputs": [
        {
          "output_type": "display_data",
          "data": {
            "text/html": [
              "<style> pre {white-space: pre-wrap;} </style>"
            ],
            "text/plain": [
              "<IPython.core.display.HTML object>"
            ]
          },
          "metadata": {
            "tags": []
          }
        },
        {
          "output_type": "stream",
          "text": [
            "Epoch 1/30\n",
            "24/24 [==============================] - 3s 46ms/step - loss: 4.1898 - accuracy: 0.1476\n",
            "Epoch 2/30\n",
            "24/24 [==============================] - 1s 44ms/step - loss: 3.4812 - accuracy: 0.2150\n",
            "Epoch 3/30\n",
            "24/24 [==============================] - 1s 44ms/step - loss: 2.6995 - accuracy: 0.2782\n",
            "Epoch 4/30\n",
            "24/24 [==============================] - 1s 44ms/step - loss: 2.4500 - accuracy: 0.3057\n",
            "Epoch 5/30\n",
            "24/24 [==============================] - 1s 45ms/step - loss: 2.2984 - accuracy: 0.3349\n",
            "Epoch 6/30\n",
            "24/24 [==============================] - 1s 44ms/step - loss: 2.1980 - accuracy: 0.3649\n",
            "Epoch 7/30\n",
            "24/24 [==============================] - 1s 45ms/step - loss: 2.1031 - accuracy: 0.3848\n",
            "Epoch 8/30\n",
            "24/24 [==============================] - 1s 44ms/step - loss: 2.0063 - accuracy: 0.4073\n",
            "Epoch 9/30\n",
            "24/24 [==============================] - 1s 45ms/step - loss: 1.9194 - accuracy: 0.4300\n",
            "Epoch 10/30\n",
            "24/24 [==============================] - 1s 44ms/step - loss: 1.8372 - accuracy: 0.4546\n",
            "Epoch 11/30\n",
            "24/24 [==============================] - 1s 44ms/step - loss: 1.7596 - accuracy: 0.4784\n",
            "Epoch 12/30\n",
            "24/24 [==============================] - 1s 44ms/step - loss: 1.6795 - accuracy: 0.5033\n",
            "Epoch 13/30\n",
            "24/24 [==============================] - 1s 44ms/step - loss: 1.6047 - accuracy: 0.5250\n",
            "Epoch 14/30\n",
            "24/24 [==============================] - 1s 44ms/step - loss: 1.5343 - accuracy: 0.5486\n",
            "Epoch 15/30\n",
            "24/24 [==============================] - 1s 44ms/step - loss: 1.4612 - accuracy: 0.5694\n",
            "Epoch 16/30\n",
            "24/24 [==============================] - 1s 44ms/step - loss: 1.3763 - accuracy: 0.5966\n",
            "Epoch 17/30\n",
            "24/24 [==============================] - 1s 44ms/step - loss: 1.3087 - accuracy: 0.6153\n",
            "Epoch 18/30\n",
            "24/24 [==============================] - 1s 44ms/step - loss: 1.2333 - accuracy: 0.6395\n",
            "Epoch 19/30\n",
            "24/24 [==============================] - 1s 44ms/step - loss: 1.1640 - accuracy: 0.6617\n",
            "Epoch 20/30\n",
            "24/24 [==============================] - 1s 44ms/step - loss: 1.0868 - accuracy: 0.6828\n",
            "Epoch 21/30\n",
            "24/24 [==============================] - 1s 44ms/step - loss: 0.9988 - accuracy: 0.7132\n",
            "Epoch 22/30\n",
            "24/24 [==============================] - 1s 44ms/step - loss: 0.9243 - accuracy: 0.7353\n",
            "Epoch 23/30\n",
            "24/24 [==============================] - 1s 44ms/step - loss: 0.8632 - accuracy: 0.7540\n",
            "Epoch 24/30\n",
            "24/24 [==============================] - 1s 44ms/step - loss: 0.7804 - accuracy: 0.7785\n",
            "Epoch 25/30\n",
            "24/24 [==============================] - 1s 44ms/step - loss: 0.7091 - accuracy: 0.7993\n",
            "Epoch 26/30\n",
            "24/24 [==============================] - 1s 45ms/step - loss: 0.6312 - accuracy: 0.8240\n",
            "Epoch 27/30\n",
            "24/24 [==============================] - 1s 44ms/step - loss: 0.5625 - accuracy: 0.8445\n",
            "Epoch 28/30\n",
            "24/24 [==============================] - 1s 44ms/step - loss: 0.5102 - accuracy: 0.8592\n",
            "Epoch 29/30\n",
            "24/24 [==============================] - 1s 45ms/step - loss: 0.4519 - accuracy: 0.8767\n",
            "Epoch 30/30\n",
            "24/24 [==============================] - 1s 44ms/step - loss: 0.4063 - accuracy: 0.8899\n"
          ],
          "name": "stdout"
        }
      ]
    },
    {
      "cell_type": "code",
      "metadata": {
        "colab": {
          "base_uri": "https://localhost:8080/",
          "height": 295
        },
        "id": "yzl2aqa0iZaN",
        "outputId": "28e10618-fee7-437c-f19d-1deff3487491"
      },
      "source": [
        "# summarize history for accuracy\n",
        "plt.plot(history.history['loss'], label='loss')\n",
        "plt.plot(history.history['accuracy'], label='accuracy')\n",
        "plt.axhline(y=1, color='k')\n",
        "plt.title('loss & accuracy')\n",
        "plt.ylabel('value')\n",
        "plt.xlabel('epoch')\n",
        "plt.legend()\n",
        "plt.show()"
      ],
      "execution_count": 25,
      "outputs": [
        {
          "output_type": "display_data",
          "data": {
            "text/html": [
              "<style> pre {white-space: pre-wrap;} </style>"
            ],
            "text/plain": [
              "<IPython.core.display.HTML object>"
            ]
          },
          "metadata": {
            "tags": []
          }
        },
        {
          "output_type": "display_data",
          "data": {
            "image/png": "[encoded data removed]",
            "text/plain": [
              "<Figure size 432x288 with 1 Axes>"
            ]
          },
          "metadata": {
            "tags": [],
            "needs_background": "light"
          }
        }
      ]
    },
    {
      "cell_type": "code",
      "metadata": {
        "colab": {
          "base_uri": "https://localhost:8080/",
          "height": 17
        },
        "id": "7O6M8Mvmidbm",
        "outputId": "0e690735-d178-4de8-8fbf-8f41cd7aa19b"
      },
      "source": [
        "# Create a new model instance\n",
        "model_loaded = MyModel(\n",
        "                    # Be sure the vocabulary size matches the `StringLookup` layers.\n",
        "                    vocab_size=len(ids_from_chars.get_vocabulary()),\n",
        "                    embedding_dim=embedding_dim,\n",
        "                    rnn_units=rnn_units)\n",
        "model_loaded.load_weights('/content/drive/MyDrive/repos/lana-del-rey-lyrics-generator/models/ldr_by_chars/ldr_by_chars')\n",
        "\n",
        "loss = tf.losses.SparseCategoricalCrossentropy(from_logits=True)\n",
        "model_loaded.compile(loss=loss, optimizer='adam')"
      ],
      "execution_count": 16,
      "outputs": [
        {
          "output_type": "display_data",
          "data": {
            "text/html": [
              "<style> pre {white-space: pre-wrap;} </style>"
            ],
            "text/plain": [
              "<IPython.core.display.HTML object>"
            ]
          },
          "metadata": {
            "tags": []
          }
        }
      ]
    },
    {
      "cell_type": "code",
      "metadata": {
        "colab": {
          "base_uri": "https://localhost:8080/",
          "height": 17
        },
        "id": "PGoDY6e3h3zX",
        "outputId": "cbba5c83-31e3-42f6-9829-bca1bdcc3b00"
      },
      "source": [
        "class OneStep(tf.keras.Model):\n",
        "  def __init__(self, model, chars_from_ids, ids_from_chars, temperature=1.0):\n",
        "    super().__init__()\n",
        "    self.temperature = temperature\n",
        "    self.model = model\n",
        "    self.chars_from_ids = chars_from_ids\n",
        "    self.ids_from_chars = ids_from_chars\n",
        "\n",
        "  @tf.function\n",
        "  def generate_one_step(self, inputs, states=None):\n",
        "    # Convert strings to token IDs.\n",
        "    input_chars = tf.strings.unicode_split(inputs, 'UTF-8')\n",
        "    input_ids = self.ids_from_chars(input_chars).to_tensor()\n",
        "\n",
        "    # Run the model.\n",
        "    # predicted_logits.shape is [batch, char, next_char_logits]\n",
        "    predicted_logits, states = self.model(inputs=input_ids, states=states,\n",
        "                                          return_state=True)\n",
        "    # Only use the last prediction.\n",
        "    predicted_logits = predicted_logits[:, -1, :]\n",
        "    predicted_logits = predicted_logits/self.temperature\n",
        "\n",
        "    # Sample the output logits to generate token IDs.\n",
        "    predicted_ids = tf.random.categorical(predicted_logits, num_samples=1)\n",
        "    predicted_ids = tf.squeeze(predicted_ids, axis=-1)\n",
        "\n",
        "    # Convert from token ids to characters\n",
        "    predicted_chars = self.chars_from_ids(predicted_ids)\n",
        "\n",
        "    # Return the characters and model state.\n",
        "    return predicted_chars, states"
      ],
      "execution_count": 26,
      "outputs": [
        {
          "output_type": "display_data",
          "data": {
            "text/html": [
              "<style> pre {white-space: pre-wrap;} </style>"
            ],
            "text/plain": [
              "<IPython.core.display.HTML object>"
            ]
          },
          "metadata": {
            "tags": []
          }
        }
      ]
    },
    {
      "cell_type": "code",
      "metadata": {
        "colab": {
          "base_uri": "https://localhost:8080/",
          "height": 17
        },
        "id": "DuNmyRFsh8Vm",
        "outputId": "9918b433-ed55-44aa-d3f3-720bdb8d01c9"
      },
      "source": [
        "def generate_n_chars(seed, n, model=model_loaded, chars_from_ids=chars_from_ids, ids_from_chars=ids_from_chars, temperature=1.0):\n",
        "    one_step_model = OneStep(model, chars_from_ids, ids_from_chars, temperature=temperature)\n",
        "    states = None\n",
        "    next_char = tf.constant([seed])\n",
        "    result = [next_char]\n",
        "    for n in range(n):\n",
        "        next_char, states = one_step_model.generate_one_step(next_char, states=states)\n",
        "        result.append(next_char)\n",
        "\n",
        "    result = tf.strings.join(result)\n",
        "\n",
        "    return result[0].numpy().decode('utf-8')"
      ],
      "execution_count": 27,
      "outputs": [
        {
          "output_type": "display_data",
          "data": {
            "text/html": [
              "<style> pre {white-space: pre-wrap;} </style>"
            ],
            "text/plain": [
              "<IPython.core.display.HTML object>"
            ]
          },
          "metadata": {
            "tags": []
          }
        }
      ]
    },
    {
      "cell_type": "code",
      "metadata": {
        "colab": {
          "base_uri": "https://localhost:8080/",
          "height": 221
        },
        "id": "kgXs--2sh_eP",
        "outputId": "fad890d7-8ace-4185-fe8f-f70912c01a0b"
      },
      "source": [
        "predicted = generate_n_chars(seed='you\\'re so art deco out on the floor shining like gun metal ', n=500, temperature=1.0)\n",
        "print(predicted)"
      ],
      "execution_count": 31,
      "outputs": [
        {
          "output_type": "display_data",
          "data": {
            "text/html": [
              "<style> pre {white-space: pre-wrap;} </style>"
            ],
            "text/plain": [
              "<IPython.core.display.HTML object>"
            ]
          },
          "metadata": {
            "tags": []
          }
        },
        {
          "output_type": "stream",
          "text": [
            "you're so art deco out on the floor shining like gun metal where i want\n",
            "light of my lips, i can be jose fine\n",
            "baby, we undero if out of our swinlie's girl\n",
            "how don't keep your crazy for anthem now\n",
            "save me, but i don't know\n",
            "you're screwed up toning out changes\n",
            "hatce bagas tonight, i can see your fecers\n",
            "leaning out chargen and youn not were done it blue\n",
            "and while he sed tcarse by why it like a million daman\n",
            "mmenbind 'cause beautiful people is a been singing\n",
            "money is the end of tuight uver the endight\n",
            "babe, baby flees and pasth, helly on hid with how younger\n"
          ],
          "name": "stdout"
        }
      ]
    },
    {
      "cell_type": "code",
      "metadata": {
        "colab": {
          "base_uri": "https://localhost:8080/",
          "height": 323
        },
        "id": "U-VNHVKvjnX_",
        "outputId": "1b6e6994-2b52-432f-e2d7-f7c6873fcc8b"
      },
      "source": [
        "predicted = generate_n_chars(seed='diamonds in the sky', n=500, temperature=1.0)\n",
        "print(predicted)"
      ],
      "execution_count": 29,
      "outputs": [
        {
          "output_type": "display_data",
          "data": {
            "text/html": [
              "<style> pre {white-space: pre-wrap;} </style>"
            ],
            "text/plain": [
              "<IPython.core.display.HTML object>"
            ]
          },
          "metadata": {
            "tags": []
          }
        },
        {
          "output_type": "stream",
          "text": [
            "diamonds in the sky\n",
            "summer's in the yabrous yeah\n",
            "skeat it's been waiting time like a piccun, but you came becking just a same\n",
            "baby, howe's love nem\n",
            "not saby\"d in feel him this find those birctested oh, baby\n",
            "i'm on the ohe past\n",
            "say i should take you for where yako, i know\n",
            "\n",
            "\n",
            "\n",
            "you velvet me up me to kay\n",
            "his heart down new ont in the garden\n",
            "charkan past lown not do sprep that body go\n",
            "breakbee mine\n",
            "nown and diabonss\n",
            "will all that me, i wanna talk\n",
            "we did it for surnet on the stopped pellstovi\n",
            "letting in the games, they \n"
          ],
          "name": "stdout"
        }
      ]
    },
    {
      "cell_type": "code",
      "metadata": {
        "id": "4keQBwUCRi-P"
      },
      "source": [
        ""
      ],
      "execution_count": null,
      "outputs": []
    }
  ]
}