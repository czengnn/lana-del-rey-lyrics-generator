{
  "nbformat": 4,
  "nbformat_minor": 0,
  "metadata": {
    "colab": {
      "name": "model_by_word.ipynb",
      "provenance": [],
      "collapsed_sections": [],
      "include_colab_link": true
    },
    "kernelspec": {
      "name": "python3",
      "display_name": "Python 3"
    },
    "language_info": {
      "name": "python"
    },
    "accelerator": "GPU"
  },
  "cells": [
    {
      "cell_type": "markdown",
      "metadata": {
        "id": "view-in-github",
        "colab_type": "text"
      },
      "source": [
        "<a href=\"https://colab.research.google.com/github/czengnn/lana-del-rey-lyrics-generator/blob/main/model_by_word.ipynb\" target=\"_parent\"><img src=\"https://colab.research.google.com/assets/colab-badge.svg\" alt=\"Open In Colab\"/></a>"
      ]
    },
    {
      "cell_type": "code",
      "metadata": {
        "id": "ZgmknXZ2aTtk"
      },
      "source": [
        "from IPython.display import HTML, display\n",
        "\n",
        "def set_css():\n",
        "    display(HTML('''<style> pre {white-space: pre-wrap;} </style>'''))\n",
        "get_ipython().events.register('pre_run_cell', set_css)"
      ],
      "execution_count": 1,
      "outputs": []
    },
    {
      "cell_type": "code",
      "metadata": {
        "id": "ZlWo3BTR3CTP",
        "colab": {
          "base_uri": "https://localhost:8080/",
          "height": 51
        },
        "outputId": "bda8a866-4c85-469c-fe5a-84d026736c61"
      },
      "source": [
        "import pandas as pd \n",
        "import numpy as np \n",
        "import re \n",
        "import os\n",
        "import time\n",
        "import pickle\n",
        "import matplotlib.pyplot as plt\n",
        "\n",
        "\n",
        "import tensorflow as tf\n",
        "import keras \n",
        "print(tf.__version__)\n",
        "print(keras.__version__)\n",
        "\n",
        "from keras.preprocessing.text import Tokenizer\n",
        "from keras.preprocessing.sequence import pad_sequences\n",
        "from keras.losses import sparse_categorical_crossentropy\n",
        "\n",
        "from keras.models import Sequential\n",
        "from keras.layers import LSTM, Activation, Flatten, Dropout, Dense, Embedding, TimeDistributed, Bidirectional\n",
        "from keras.callbacks import ModelCheckpoint\n",
        "from keras import backend as K"
      ],
      "execution_count": 2,
      "outputs": [
        {
          "output_type": "display_data",
          "data": {
            "text/html": [
              "<style> pre {white-space: pre-wrap;} </style>"
            ],
            "text/plain": [
              "<IPython.core.display.HTML object>"
            ]
          },
          "metadata": {
            "tags": []
          }
        },
        {
          "output_type": "stream",
          "text": [
            "2.4.1\n",
            "2.4.3\n"
          ],
          "name": "stdout"
        }
      ]
    },
    {
      "cell_type": "code",
      "metadata": {
        "colab": {
          "base_uri": "https://localhost:8080/",
          "height": 34
        },
        "id": "VpO8WUxfsYMQ",
        "outputId": "ccc11e48-063c-4e51-c72d-fe52351e7b95"
      },
      "source": [
        "from google.colab import drive\n",
        "drive.mount('/content/drive')"
      ],
      "execution_count": 3,
      "outputs": [
        {
          "output_type": "display_data",
          "data": {
            "text/html": [
              "<style> pre {white-space: pre-wrap;} </style>"
            ],
            "text/plain": [
              "<IPython.core.display.HTML object>"
            ]
          },
          "metadata": {
            "tags": []
          }
        },
        {
          "output_type": "stream",
          "text": [
            "Mounted at /content/drive\n"
          ],
          "name": "stdout"
        }
      ]
    },
    {
      "cell_type": "code",
      "metadata": {
        "colab": {
          "base_uri": "https://localhost:8080/",
          "height": 34
        },
        "id": "FivZ1COMFE-D",
        "outputId": "1b430b4c-ee97-4f24-842f-f4ef1b56cdd3"
      },
      "source": [
        "# load songs\n",
        "songs = pd.read_csv('/content/drive/MyDrive/repos/lana-del-rey-lyrics-generator/data/lana_lyrics_98.csv')\n",
        "songs.shape"
      ],
      "execution_count": 4,
      "outputs": [
        {
          "output_type": "display_data",
          "data": {
            "text/html": [
              "<style> pre {white-space: pre-wrap;} </style>"
            ],
            "text/plain": [
              "<IPython.core.display.HTML object>"
            ]
          },
          "metadata": {
            "tags": []
          }
        },
        {
          "output_type": "execute_result",
          "data": {
            "text/plain": [
              "(98, 2)"
            ]
          },
          "metadata": {
            "tags": []
          },
          "execution_count": 4
        }
      ]
    },
    {
      "cell_type": "code",
      "metadata": {
        "id": "D9m7QJNkFIkU",
        "colab": {
          "base_uri": "https://localhost:8080/",
          "height": 17
        },
        "outputId": "5fee8150-8329-4ed2-e96f-94ae0c9803a5"
      },
      "source": [
        "# put lyrics into 1 string\n",
        "text = ''\n",
        "for song in songs['lyrics']:\n",
        "    text = text + song.lower()\n",
        "    \n",
        "# remove the text with brackets around them, such as [Verse 1]\n",
        "text = re.sub(r'\\[[^][]*\\]', '', text)"
      ],
      "execution_count": 5,
      "outputs": [
        {
          "output_type": "display_data",
          "data": {
            "text/html": [
              "<style> pre {white-space: pre-wrap;} </style>"
            ],
            "text/plain": [
              "<IPython.core.display.HTML object>"
            ]
          },
          "metadata": {
            "tags": []
          }
        }
      ]
    },
    {
      "cell_type": "code",
      "metadata": {
        "colab": {
          "base_uri": "https://localhost:8080/",
          "height": 51
        },
        "id": "MesZiJjU3SCh",
        "outputId": "cdd1bcef-b271-43a3-8328-9e60886d45f5"
      },
      "source": [
        "# length of text is the number of characters in it\n",
        "print(f'Length of text: {len(text)} characters')\n",
        "\n",
        "# The unique characters in the file\n",
        "vocab = sorted(set(text))\n",
        "print(f'{len(vocab)} unique characters')"
      ],
      "execution_count": 6,
      "outputs": [
        {
          "output_type": "display_data",
          "data": {
            "text/html": [
              "<style> pre {white-space: pre-wrap;} </style>"
            ],
            "text/plain": [
              "<IPython.core.display.HTML object>"
            ]
          },
          "metadata": {
            "tags": []
          }
        },
        {
          "output_type": "stream",
          "text": [
            "Length of text: 161722 characters\n",
            "61 unique characters\n"
          ],
          "name": "stdout"
        }
      ]
    },
    {
      "cell_type": "code",
      "metadata": {
        "colab": {
          "base_uri": "https://localhost:8080/",
          "height": 102
        },
        "id": "AplgShWA3jeS",
        "outputId": "69eb5177-dc14-42fb-e273-96b2210900e6"
      },
      "source": [
        "corpus = list(set(text.lower().split('\\n')))\n",
        "corpus[:5]"
      ],
      "execution_count": 7,
      "outputs": [
        {
          "output_type": "display_data",
          "data": {
            "text/html": [
              "<style> pre {white-space: pre-wrap;} </style>"
            ],
            "text/plain": [
              "<IPython.core.display.HTML object>"
            ]
          },
          "metadata": {
            "tags": []
          }
        },
        {
          "output_type": "execute_result",
          "data": {
            "text/plain": [
              "['',\n",
              " \"sunsets, small town, i'm out of time\",\n",
              " \"when i'm down on my knees, you're how i pray\",\n",
              " \"so i run like i'm mad to heaven's door\",\n",
              " 'as you do now, my man\"']"
            ]
          },
          "metadata": {
            "tags": []
          },
          "execution_count": 7
        }
      ]
    },
    {
      "cell_type": "code",
      "metadata": {
        "id": "Yp--rn6031rr",
        "colab": {
          "base_uri": "https://localhost:8080/",
          "height": 34
        },
        "outputId": "89ebd56e-7009-413e-b4a1-326f289a9eff"
      },
      "source": [
        "# tokenizer = Tokenizer()\n",
        "# tokenizer.fit_on_texts(corpus)\n",
        "\n",
        "# with open('/content/drive/MyDrive/repos/lana-del-rey-lyrics-generator/models/tokenizer.pkl', 'wb') as f:\n",
        "#     pickle.dump(tokenizer, f)\n",
        "\n",
        "\n",
        "# load saved tokenizer\n",
        "with open('/content/drive/MyDrive/repos/lana-del-rey-lyrics-generator/models/tokenizer.pkl', 'rb') as f:\n",
        "    tokenizer = pickle.load(f)\n",
        "\n",
        "\n",
        "total_words = len(tokenizer.word_index) + 1\n",
        "print(total_words)"
      ],
      "execution_count": 8,
      "outputs": [
        {
          "output_type": "display_data",
          "data": {
            "text/html": [
              "<style> pre {white-space: pre-wrap;} </style>"
            ],
            "text/plain": [
              "<IPython.core.display.HTML object>"
            ]
          },
          "metadata": {
            "tags": []
          }
        },
        {
          "output_type": "stream",
          "text": [
            "2575\n"
          ],
          "name": "stdout"
        }
      ]
    },
    {
      "cell_type": "code",
      "metadata": {
        "id": "02Mv1ekh4d41",
        "colab": {
          "base_uri": "https://localhost:8080/",
          "height": 187
        },
        "outputId": "215d0a4a-1697-46b3-ee8f-43690caa044a"
      },
      "source": [
        "input_sequences = []\n",
        "for line in corpus:\n",
        "    token_list = tokenizer.texts_to_sequences([line])[0]\n",
        "    for i in range(1, len(token_list)):\n",
        "        n_gram_sequence = token_list[:i+1]\n",
        "        input_sequences.append(n_gram_sequence)\n",
        "input_sequences[20:30]"
      ],
      "execution_count": 9,
      "outputs": [
        {
          "output_type": "display_data",
          "data": {
            "text/html": [
              "<style> pre {white-space: pre-wrap;} </style>"
            ],
            "text/plain": [
              "<IPython.core.display.HTML object>"
            ]
          },
          "metadata": {
            "tags": []
          }
        },
        {
          "output_type": "execute_result",
          "data": {
            "text/plain": [
              "[[33, 2, 191, 11, 12, 654, 5],\n",
              " [33, 2, 191, 11, 12, 654, 5, 1296],\n",
              " [33, 2, 191, 11, 12, 654, 5, 1296, 707],\n",
              " [76, 1],\n",
              " [76, 1, 29],\n",
              " [76, 1, 29, 40],\n",
              " [76, 1, 29, 40, 7],\n",
              " [76, 1, 29, 40, 7, 94],\n",
              " [44, 26],\n",
              " [44, 26, 2]]"
            ]
          },
          "metadata": {
            "tags": []
          },
          "execution_count": 9
        }
      ]
    },
    {
      "cell_type": "code",
      "metadata": {
        "id": "p7r1sw3m40Lp",
        "colab": {
          "base_uri": "https://localhost:8080/",
          "height": 17
        },
        "outputId": "68c19a77-5b87-4300-9989-10aa3b55f812"
      },
      "source": [
        "# pad sequences\n",
        "max_sequence_len = max([len(x) for x in input_sequences])\n",
        "input_sequences = np.array(pad_sequences(input_sequences, maxlen = max_sequence_len, padding='pre'))"
      ],
      "execution_count": 10,
      "outputs": [
        {
          "output_type": "display_data",
          "data": {
            "text/html": [
              "<style> pre {white-space: pre-wrap;} </style>"
            ],
            "text/plain": [
              "<IPython.core.display.HTML object>"
            ]
          },
          "metadata": {
            "tags": []
          }
        }
      ]
    },
    {
      "cell_type": "code",
      "metadata": {
        "colab": {
          "base_uri": "https://localhost:8080/",
          "height": 85
        },
        "id": "9c6G0ifE5W8-",
        "outputId": "78a4a2fa-6a18-4ff3-9c95-5293f56f546e"
      },
      "source": [
        "input_sequences[:2]"
      ],
      "execution_count": 11,
      "outputs": [
        {
          "output_type": "display_data",
          "data": {
            "text/html": [
              "<style> pre {white-space: pre-wrap;} </style>"
            ],
            "text/plain": [
              "<IPython.core.display.HTML object>"
            ]
          },
          "metadata": {
            "tags": []
          }
        },
        {
          "output_type": "execute_result",
          "data": {
            "text/plain": [
              "array([[   0,    0,    0,    0,    0,    0,    0,    0,    0,    0,    0,\n",
              "           0,    0,    0,    0,    0, 1615,  485],\n",
              "       [   0,    0,    0,    0,    0,    0,    0,    0,    0,    0,    0,\n",
              "           0,    0,    0,    0, 1615,  485,  229]], dtype=int32)"
            ]
          },
          "metadata": {
            "tags": []
          },
          "execution_count": 11
        }
      ]
    },
    {
      "cell_type": "code",
      "metadata": {
        "id": "iJUFvZ3v5jeK",
        "colab": {
          "base_uri": "https://localhost:8080/",
          "height": 34
        },
        "outputId": "fb4fcbc0-37a5-4d22-8cfc-a64782018908"
      },
      "source": [
        "predictors, label = input_sequences[:,:-1], input_sequences[:,-1]\n",
        "predictors.shape"
      ],
      "execution_count": 12,
      "outputs": [
        {
          "output_type": "display_data",
          "data": {
            "text/html": [
              "<style> pre {white-space: pre-wrap;} </style>"
            ],
            "text/plain": [
              "<IPython.core.display.HTML object>"
            ]
          },
          "metadata": {
            "tags": []
          }
        },
        {
          "output_type": "execute_result",
          "data": {
            "text/plain": [
              "(17490, 17)"
            ]
          },
          "metadata": {
            "tags": []
          },
          "execution_count": 12
        }
      ]
    },
    {
      "cell_type": "markdown",
      "metadata": {
        "id": "gGniSvLy5pOw"
      },
      "source": [
        "### Building The Model"
      ]
    },
    {
      "cell_type": "code",
      "metadata": {
        "colab": {
          "base_uri": "https://localhost:8080/",
          "height": 408
        },
        "id": "dQ9xj1TQ5mYs",
        "outputId": "bc4741bc-4849-4960-9531-cd0509b53a21"
      },
      "source": [
        "K.clear_session()\n",
        "\n",
        "def sparse_cat_loss(y_true,y_pred):\n",
        "    return sparse_categorical_crossentropy(y_true, y_pred, from_logits=False)\n",
        "\n",
        "vocab_size = total_words\n",
        "embed_dim = 50\n",
        "def create_model(vocab_size, embed_dim):\n",
        "    model = Sequential()\n",
        "    model.add(Embedding(vocab_size, embed_dim, input_length=max_sequence_len-1))\n",
        "\n",
        "    # Add an LSTM Layer\n",
        "    model.add(Bidirectional(LSTM(150, return_sequences=True)))\n",
        "    # A dropout layer for regularisation\n",
        "    model.add(Dropout(0.1))\n",
        "    # Add another LSTM Layer\n",
        "    model.add(LSTM(100,return_sequences=False))\n",
        "    model.add(Dropout(0.1))\n",
        "    model.add(Dense(vocab_size/2, activation='relu'))\n",
        "    # In the last layer, the shape should be equal to the total number of words present in our corpus\n",
        "    model.add(Dense(vocab_size, activation='softmax'))\n",
        "    return model\n",
        "\n",
        "model = create_model(vocab_size, embed_dim)\n",
        "model.compile(loss=sparse_cat_loss, optimizer='adam', metrics='accuracy')\n",
        "print(model.summary())"
      ],
      "execution_count": 32,
      "outputs": [
        {
          "output_type": "display_data",
          "data": {
            "text/html": [
              "<style> pre {white-space: pre-wrap;} </style>"
            ],
            "text/plain": [
              "<IPython.core.display.HTML object>"
            ]
          },
          "metadata": {
            "tags": []
          }
        },
        {
          "output_type": "display_data",
          "data": {
            "text/html": [
              "<style> pre {white-space: pre-wrap;} </style>"
            ],
            "text/plain": [
              "<IPython.core.display.HTML object>"
            ]
          },
          "metadata": {
            "tags": []
          }
        },
        {
          "output_type": "stream",
          "text": [
            "Model: \"sequential\"\n",
            "_________________________________________________________________\n",
            "Layer (type)                 Output Shape              Param #   \n",
            "=================================================================\n",
            "embedding (Embedding)        (None, 17, 50)            128750    \n",
            "_________________________________________________________________\n",
            "bidirectional (Bidirectional (None, 17, 300)           241200    \n",
            "_________________________________________________________________\n",
            "dropout (Dropout)            (None, 17, 300)           0         \n",
            "_________________________________________________________________\n",
            "lstm_1 (LSTM)                (None, 100)               160400    \n",
            "_________________________________________________________________\n",
            "dropout_1 (Dropout)          (None, 100)               0         \n",
            "_________________________________________________________________\n",
            "dense (Dense)                (None, 1287)              129987    \n",
            "_________________________________________________________________\n",
            "dense_1 (Dense)              (None, 2575)              3316600   \n",
            "=================================================================\n",
            "Total params: 3,976,937\n",
            "Trainable params: 3,976,937\n",
            "Non-trainable params: 0\n",
            "_________________________________________________________________\n",
            "None\n"
          ],
          "name": "stdout"
        }
      ]
    },
    {
      "cell_type": "code",
      "metadata": {
        "colab": {
          "base_uri": "https://localhost:8080/",
          "height": 1000
        },
        "id": "vUS1h2h_53su",
        "outputId": "f969a363-6c09-43f4-e895-05391b1388e2"
      },
      "source": [
        "early_stopping = tf.keras.callbacks.EarlyStopping(monitor='loss', patience=5)\n",
        "history = model.fit(predictors, label, epochs=100, verbose=1, callbacks=[early_stopping])\n",
        "\n",
        "# Save the weights\n",
        "model.save_weights('/content/drive/MyDrive/repos/lana-del-rey-lyrics-generator/models/ldr_by_word/ldr_by_word')"
      ],
      "execution_count": 33,
      "outputs": [
        {
          "output_type": "display_data",
          "data": {
            "text/html": [
              "<style> pre {white-space: pre-wrap;} </style>"
            ],
            "text/plain": [
              "<IPython.core.display.HTML object>"
            ]
          },
          "metadata": {
            "tags": []
          }
        },
        {
          "output_type": "display_data",
          "data": {
            "text/html": [
              "<style> pre {white-space: pre-wrap;} </style>"
            ],
            "text/plain": [
              "<IPython.core.display.HTML object>"
            ]
          },
          "metadata": {
            "tags": []
          }
        },
        {
          "output_type": "stream",
          "text": [
            "Epoch 1/100\n",
            "547/547 [==============================] - 10s 11ms/step - loss: 6.5394 - accuracy: 0.0362\n",
            "Epoch 2/100\n",
            "547/547 [==============================] - 6s 11ms/step - loss: 5.9494 - accuracy: 0.0429\n",
            "Epoch 3/100\n",
            "547/547 [==============================] - 6s 11ms/step - loss: 5.6886 - accuracy: 0.0479\n",
            "Epoch 4/100\n",
            "547/547 [==============================] - 6s 11ms/step - loss: 5.3674 - accuracy: 0.0748\n",
            "Epoch 5/100\n",
            "547/547 [==============================] - 6s 12ms/step - loss: 5.1154 - accuracy: 0.0923\n",
            "Epoch 6/100\n",
            "547/547 [==============================] - 6s 12ms/step - loss: 4.9292 - accuracy: 0.1093\n",
            "Epoch 7/100\n",
            "547/547 [==============================] - 6s 11ms/step - loss: 4.7876 - accuracy: 0.1122\n",
            "Epoch 8/100\n",
            "547/547 [==============================] - 6s 11ms/step - loss: 4.5966 - accuracy: 0.1286\n",
            "Epoch 9/100\n",
            "547/547 [==============================] - 6s 11ms/step - loss: 4.4844 - accuracy: 0.1351\n",
            "Epoch 10/100\n",
            "547/547 [==============================] - 6s 11ms/step - loss: 4.3226 - accuracy: 0.1483\n",
            "Epoch 11/100\n",
            "547/547 [==============================] - 6s 11ms/step - loss: 4.1745 - accuracy: 0.1581\n",
            "Epoch 12/100\n",
            "547/547 [==============================] - 6s 11ms/step - loss: 4.0398 - accuracy: 0.1722\n",
            "Epoch 13/100\n",
            "547/547 [==============================] - 6s 11ms/step - loss: 3.9300 - accuracy: 0.1792\n",
            "Epoch 14/100\n",
            "547/547 [==============================] - 6s 11ms/step - loss: 3.8045 - accuracy: 0.1865\n",
            "Epoch 15/100\n",
            "547/547 [==============================] - 6s 11ms/step - loss: 3.6604 - accuracy: 0.2107\n",
            "Epoch 16/100\n",
            "547/547 [==============================] - 6s 11ms/step - loss: 3.5482 - accuracy: 0.2189\n",
            "Epoch 17/100\n",
            "547/547 [==============================] - 6s 11ms/step - loss: 3.4185 - accuracy: 0.2311\n",
            "Epoch 18/100\n",
            "547/547 [==============================] - 6s 11ms/step - loss: 3.2980 - accuracy: 0.2444\n",
            "Epoch 19/100\n",
            "547/547 [==============================] - 6s 11ms/step - loss: 3.1425 - accuracy: 0.2706\n",
            "Epoch 20/100\n",
            "547/547 [==============================] - 6s 11ms/step - loss: 3.0435 - accuracy: 0.2904\n",
            "Epoch 21/100\n",
            "547/547 [==============================] - 6s 11ms/step - loss: 2.9510 - accuracy: 0.2974\n",
            "Epoch 22/100\n",
            "547/547 [==============================] - 6s 12ms/step - loss: 2.8225 - accuracy: 0.3243\n",
            "Epoch 23/100\n",
            "547/547 [==============================] - 6s 11ms/step - loss: 2.7197 - accuracy: 0.3400\n",
            "Epoch 24/100\n",
            "547/547 [==============================] - 6s 11ms/step - loss: 2.6205 - accuracy: 0.3623\n",
            "Epoch 25/100\n",
            "547/547 [==============================] - 6s 11ms/step - loss: 2.5227 - accuracy: 0.3787\n",
            "Epoch 26/100\n",
            "547/547 [==============================] - 6s 11ms/step - loss: 2.3945 - accuracy: 0.4056\n",
            "Epoch 27/100\n",
            "547/547 [==============================] - 6s 12ms/step - loss: 2.3277 - accuracy: 0.4215\n",
            "Epoch 28/100\n",
            "547/547 [==============================] - 6s 11ms/step - loss: 2.2180 - accuracy: 0.4404\n",
            "Epoch 29/100\n",
            "547/547 [==============================] - 6s 11ms/step - loss: 2.1617 - accuracy: 0.4495\n",
            "Epoch 30/100\n",
            "547/547 [==============================] - 6s 11ms/step - loss: 2.0733 - accuracy: 0.4722\n",
            "Epoch 31/100\n",
            "547/547 [==============================] - 6s 11ms/step - loss: 1.9943 - accuracy: 0.4848\n",
            "Epoch 32/100\n",
            "547/547 [==============================] - 6s 11ms/step - loss: 1.9205 - accuracy: 0.5077\n",
            "Epoch 33/100\n",
            "547/547 [==============================] - 6s 11ms/step - loss: 1.8666 - accuracy: 0.5202\n",
            "Epoch 34/100\n",
            "547/547 [==============================] - 6s 11ms/step - loss: 1.7763 - accuracy: 0.5382\n",
            "Epoch 35/100\n",
            "547/547 [==============================] - 6s 11ms/step - loss: 1.7176 - accuracy: 0.5538\n",
            "Epoch 36/100\n",
            "547/547 [==============================] - 6s 11ms/step - loss: 1.6782 - accuracy: 0.5600\n",
            "Epoch 37/100\n",
            "547/547 [==============================] - 6s 11ms/step - loss: 1.6526 - accuracy: 0.5657\n",
            "Epoch 38/100\n",
            "547/547 [==============================] - 6s 11ms/step - loss: 1.5744 - accuracy: 0.5846\n",
            "Epoch 39/100\n",
            "547/547 [==============================] - 6s 11ms/step - loss: 1.5011 - accuracy: 0.6012\n",
            "Epoch 40/100\n",
            "547/547 [==============================] - 6s 12ms/step - loss: 1.4757 - accuracy: 0.6094\n",
            "Epoch 41/100\n",
            "547/547 [==============================] - 6s 11ms/step - loss: 1.4409 - accuracy: 0.6172\n",
            "Epoch 42/100\n",
            "547/547 [==============================] - 6s 11ms/step - loss: 1.3778 - accuracy: 0.6303\n",
            "Epoch 43/100\n",
            "547/547 [==============================] - 6s 11ms/step - loss: 1.3493 - accuracy: 0.6359\n",
            "Epoch 44/100\n",
            "547/547 [==============================] - 6s 11ms/step - loss: 1.3000 - accuracy: 0.6516\n",
            "Epoch 45/100\n",
            "547/547 [==============================] - 6s 11ms/step - loss: 1.2503 - accuracy: 0.6613\n",
            "Epoch 46/100\n",
            "547/547 [==============================] - 6s 11ms/step - loss: 1.2418 - accuracy: 0.6654\n",
            "Epoch 47/100\n",
            "547/547 [==============================] - 6s 11ms/step - loss: 1.2187 - accuracy: 0.6687\n",
            "Epoch 48/100\n",
            "547/547 [==============================] - 6s 11ms/step - loss: 1.1901 - accuracy: 0.6734\n",
            "Epoch 49/100\n",
            "547/547 [==============================] - 6s 11ms/step - loss: 1.1481 - accuracy: 0.6783\n",
            "Epoch 50/100\n",
            "547/547 [==============================] - 6s 12ms/step - loss: 1.1372 - accuracy: 0.6886\n",
            "Epoch 51/100\n",
            "547/547 [==============================] - 6s 12ms/step - loss: 1.1125 - accuracy: 0.6965\n",
            "Epoch 52/100\n",
            "547/547 [==============================] - 6s 11ms/step - loss: 1.0934 - accuracy: 0.6951\n",
            "Epoch 53/100\n",
            "547/547 [==============================] - 6s 11ms/step - loss: 1.0688 - accuracy: 0.7046\n",
            "Epoch 54/100\n",
            "547/547 [==============================] - 6s 11ms/step - loss: 1.0556 - accuracy: 0.7037\n",
            "Epoch 55/100\n",
            "547/547 [==============================] - 6s 11ms/step - loss: 1.0423 - accuracy: 0.7052\n",
            "Epoch 56/100\n",
            "547/547 [==============================] - 6s 11ms/step - loss: 1.0060 - accuracy: 0.7158\n",
            "Epoch 57/100\n",
            "547/547 [==============================] - 6s 11ms/step - loss: 1.0035 - accuracy: 0.7217\n",
            "Epoch 58/100\n",
            "547/547 [==============================] - 6s 11ms/step - loss: 0.9821 - accuracy: 0.7268\n",
            "Epoch 59/100\n",
            "547/547 [==============================] - 6s 11ms/step - loss: 0.9774 - accuracy: 0.7272\n",
            "Epoch 60/100\n",
            "547/547 [==============================] - 6s 11ms/step - loss: 0.9496 - accuracy: 0.7326\n",
            "Epoch 61/100\n",
            "547/547 [==============================] - 6s 11ms/step - loss: 0.9311 - accuracy: 0.7368\n",
            "Epoch 62/100\n",
            "547/547 [==============================] - 6s 11ms/step - loss: 0.9496 - accuracy: 0.7319\n",
            "Epoch 63/100\n",
            "547/547 [==============================] - 6s 11ms/step - loss: 0.8980 - accuracy: 0.7442\n",
            "Epoch 64/100\n",
            "547/547 [==============================] - 6s 11ms/step - loss: 0.8909 - accuracy: 0.7434\n",
            "Epoch 65/100\n",
            "547/547 [==============================] - 6s 11ms/step - loss: 0.8983 - accuracy: 0.7448\n",
            "Epoch 66/100\n",
            "547/547 [==============================] - 6s 11ms/step - loss: 0.8601 - accuracy: 0.7550\n",
            "Epoch 67/100\n",
            "547/547 [==============================] - 6s 11ms/step - loss: 0.8778 - accuracy: 0.7444\n",
            "Epoch 68/100\n",
            "547/547 [==============================] - 6s 11ms/step - loss: 0.8649 - accuracy: 0.7454\n",
            "Epoch 69/100\n",
            "547/547 [==============================] - 6s 11ms/step - loss: 0.8617 - accuracy: 0.7500\n",
            "Epoch 70/100\n",
            "547/547 [==============================] - 6s 11ms/step - loss: 0.8506 - accuracy: 0.7562\n",
            "Epoch 71/100\n",
            "547/547 [==============================] - 6s 11ms/step - loss: 0.8505 - accuracy: 0.7550\n",
            "Epoch 72/100\n",
            "547/547 [==============================] - 6s 11ms/step - loss: 0.8265 - accuracy: 0.7577\n",
            "Epoch 73/100\n",
            "547/547 [==============================] - 6s 12ms/step - loss: 0.8041 - accuracy: 0.7674\n",
            "Epoch 74/100\n",
            "547/547 [==============================] - 6s 11ms/step - loss: 0.8048 - accuracy: 0.7679\n",
            "Epoch 75/100\n",
            "547/547 [==============================] - 6s 11ms/step - loss: 0.7880 - accuracy: 0.7700\n",
            "Epoch 76/100\n",
            "547/547 [==============================] - 6s 11ms/step - loss: 0.8099 - accuracy: 0.7629\n",
            "Epoch 77/100\n",
            "547/547 [==============================] - 6s 11ms/step - loss: 0.7828 - accuracy: 0.7683\n",
            "Epoch 78/100\n",
            "547/547 [==============================] - 6s 12ms/step - loss: 0.7879 - accuracy: 0.7691\n",
            "Epoch 79/100\n",
            "547/547 [==============================] - 6s 11ms/step - loss: 0.7813 - accuracy: 0.7730\n",
            "Epoch 80/100\n",
            "547/547 [==============================] - 6s 12ms/step - loss: 0.7711 - accuracy: 0.7710\n",
            "Epoch 81/100\n",
            "547/547 [==============================] - 6s 11ms/step - loss: 0.7759 - accuracy: 0.7719\n",
            "Epoch 82/100\n",
            "547/547 [==============================] - 6s 12ms/step - loss: 0.7582 - accuracy: 0.7793\n",
            "Epoch 83/100\n",
            "547/547 [==============================] - 6s 11ms/step - loss: 0.7694 - accuracy: 0.7701\n",
            "Epoch 84/100\n",
            "547/547 [==============================] - 6s 12ms/step - loss: 0.7447 - accuracy: 0.7808\n",
            "Epoch 85/100\n",
            "547/547 [==============================] - 6s 12ms/step - loss: 0.7617 - accuracy: 0.7723\n",
            "Epoch 86/100\n",
            "547/547 [==============================] - 6s 12ms/step - loss: 0.7426 - accuracy: 0.7776\n",
            "Epoch 87/100\n",
            "547/547 [==============================] - 6s 11ms/step - loss: 0.7232 - accuracy: 0.7836\n",
            "Epoch 88/100\n",
            "547/547 [==============================] - 6s 12ms/step - loss: 0.7216 - accuracy: 0.7880\n",
            "Epoch 89/100\n",
            "547/547 [==============================] - 6s 12ms/step - loss: 0.7162 - accuracy: 0.7905\n",
            "Epoch 90/100\n",
            "547/547 [==============================] - 6s 11ms/step - loss: 0.7141 - accuracy: 0.7857\n",
            "Epoch 91/100\n",
            "547/547 [==============================] - 6s 11ms/step - loss: 0.7366 - accuracy: 0.7798\n",
            "Epoch 92/100\n",
            "547/547 [==============================] - 6s 11ms/step - loss: 0.7121 - accuracy: 0.7853\n",
            "Epoch 93/100\n",
            "547/547 [==============================] - 6s 11ms/step - loss: 0.7114 - accuracy: 0.7893\n",
            "Epoch 94/100\n",
            "547/547 [==============================] - 6s 11ms/step - loss: 0.7232 - accuracy: 0.7801\n",
            "Epoch 95/100\n",
            "547/547 [==============================] - 6s 12ms/step - loss: 0.6977 - accuracy: 0.7890\n",
            "Epoch 96/100\n",
            "547/547 [==============================] - 6s 12ms/step - loss: 0.6879 - accuracy: 0.7895\n",
            "Epoch 97/100\n",
            "547/547 [==============================] - 6s 11ms/step - loss: 0.6950 - accuracy: 0.7886\n",
            "Epoch 98/100\n",
            "547/547 [==============================] - 6s 11ms/step - loss: 0.6970 - accuracy: 0.7881\n",
            "Epoch 99/100\n",
            "547/547 [==============================] - 6s 11ms/step - loss: 0.7017 - accuracy: 0.7850\n",
            "Epoch 100/100\n",
            "547/547 [==============================] - 6s 11ms/step - loss: 0.6965 - accuracy: 0.7892\n"
          ],
          "name": "stdout"
        }
      ]
    },
    {
      "cell_type": "code",
      "metadata": {
        "colab": {
          "base_uri": "https://localhost:8080/",
          "height": 295
        },
        "id": "IBujCyBwKmzo",
        "outputId": "1f1e3173-8ca4-443f-c427-7b87f6a25e02"
      },
      "source": [
        "# summarize history for accuracy\n",
        "plt.plot(history.history['loss'], label='loss')\n",
        "plt.plot(history.history['accuracy'], label='accuracy')\n",
        "plt.axhline(y=1, color='gray', linestyle='--')\n",
        "plt.title('loss & accuracy')\n",
        "plt.ylabel('value')\n",
        "plt.xlabel('epoch')\n",
        "plt.legend()\n",
        "plt.show()"
      ],
      "execution_count": 34,
      "outputs": [
        {
          "output_type": "display_data",
          "data": {
            "text/html": [
              "<style> pre {white-space: pre-wrap;} </style>"
            ],
            "text/plain": [
              "<IPython.core.display.HTML object>"
            ]
          },
          "metadata": {
            "tags": []
          }
        },
        {
          "output_type": "display_data",
          "data": {
            "text/html": [
              "<style> pre {white-space: pre-wrap;} </style>"
            ],
            "text/plain": [
              "<IPython.core.display.HTML object>"
            ]
          },
          "metadata": {
            "tags": []
          }
        },
        {
          "output_type": "display_data",
          "data": {
            "image/png": "[encoded data removed]",
            "text/plain": [
              "<Figure size 432x288 with 1 Axes>"
            ]
          },
          "metadata": {
            "tags": [],
            "needs_background": "light"
          }
        }
      ]
    },
    {
      "cell_type": "code",
      "metadata": {
        "colab": {
          "base_uri": "https://localhost:8080/",
          "height": 17
        },
        "id": "i8ERwDcJ_k76",
        "outputId": "17411930-aec3-4721-a68d-15eb9805fa9e"
      },
      "source": [
        "# def create_model_2(vocab_size, embed_dim):\n",
        "#     model = Sequential()\n",
        "#     model.add(Embedding(vocab_size, embed_dim, input_length=max_sequence_len-1))\n",
        "\n",
        "#     # Add an LSTM Layer\n",
        "#     model.add(Bidirectional(LSTM(300, return_sequences=False)))\n",
        "#     # A dropout layer for regularisation\n",
        "#     model.add(Dropout(0.2))\n",
        "#     # Add another LSTM Layer\n",
        "#     # model.add(LSTM(100,return_sequences=False)) \n",
        "#     model.add(Dense(vocab_size/2, activation='relu'))\n",
        "#     # In the last layer, the shape should be equal to the total number of words present in our corpus\n",
        "#     model.add(Dense(vocab_size, activation='softmax'))\n",
        "#     return model\n",
        "\n",
        "# model_2 = create_model_2(vocab_size, embed_dim)\n",
        "# model_2.compile(loss=sparse_cat_loss, optimizer='adam', metrics='accuracy')\n",
        "# print(model_2.summary())"
      ],
      "execution_count": 101,
      "outputs": [
        {
          "output_type": "display_data",
          "data": {
            "text/html": [
              "<style> pre {white-space: pre-wrap;} </style>"
            ],
            "text/plain": [
              "<IPython.core.display.HTML object>"
            ]
          },
          "metadata": {
            "tags": []
          }
        }
      ]
    },
    {
      "cell_type": "code",
      "metadata": {
        "colab": {
          "base_uri": "https://localhost:8080/",
          "height": 17
        },
        "id": "BxtQd6s__k-o",
        "outputId": "60c7112b-10d5-4026-865f-65edb7384f9a"
      },
      "source": [
        "# early_stopping = tf.keras.callbacks.EarlyStopping(monitor='loss', patience=5)\n",
        "# history_2 = model_2.fit(predictors, label, epochs=100, verbose=1, callbacks=[early_stopping])\n",
        "\n",
        "# # Save the weights\n",
        "# model_2.save_weights('/content/drive/MyDrive/repos/lana-del-rey-lyrics-generator/models/ldr_by_word2/ldr_by_word2')\n",
        "\n",
        "# # summarize history for accuracy\n",
        "# plt.plot(history.history['loss'], label='loss')\n",
        "# plt.plot(history.history['accuracy'], label='accuracy')\n",
        "# plt.axhline(y=1, color='k')\n",
        "# plt.title('loss & accuracy')\n",
        "# plt.ylabel('value')\n",
        "# plt.xlabel('epoch')\n",
        "# plt.legend()\n",
        "# plt.show()"
      ],
      "execution_count": 102,
      "outputs": [
        {
          "output_type": "display_data",
          "data": {
            "text/html": [
              "<style> pre {white-space: pre-wrap;} </style>"
            ],
            "text/plain": [
              "<IPython.core.display.HTML object>"
            ]
          },
          "metadata": {
            "tags": []
          }
        }
      ]
    },
    {
      "cell_type": "markdown",
      "metadata": {
        "id": "G9zC0bv4P41P"
      },
      "source": [
        "#### Recreate the model and load saved weights"
      ]
    },
    {
      "cell_type": "code",
      "metadata": {
        "colab": {
          "base_uri": "https://localhost:8080/",
          "height": 17
        },
        "id": "jeD2IzXGmzIB",
        "outputId": "619090bc-0204-4e8d-d1c2-de4aa060990a"
      },
      "source": [
        "# load saved tokenizer\n",
        "with open('/content/drive/MyDrive/repos/lana-del-rey-lyrics-generator/models/tokenizer.pkl', 'rb') as f:\n",
        "    tokenizer_reload = pickle.load(f)"
      ],
      "execution_count": 17,
      "outputs": [
        {
          "output_type": "display_data",
          "data": {
            "text/html": [
              "<style> pre {white-space: pre-wrap;} </style>"
            ],
            "text/plain": [
              "<IPython.core.display.HTML object>"
            ]
          },
          "metadata": {
            "tags": []
          }
        }
      ]
    },
    {
      "cell_type": "code",
      "metadata": {
        "colab": {
          "base_uri": "https://localhost:8080/",
          "height": 17
        },
        "id": "U5uOCrdP5_l8",
        "outputId": "99a75ec3-b201-434d-a83b-b56cedc179cc"
      },
      "source": [
        "# Create a new model instance\n",
        "model_loaded = create_model(vocab_size, embed_dim)\n",
        "model_loaded.load_weights('/content/drive/MyDrive/repos/lana-del-rey-lyrics-generator/models/ldr_by_word/ldr_by_word')\n",
        "model_loaded.compile(loss=sparse_cat_loss, optimizer='adam', metrics='accuracy')"
      ],
      "execution_count": 18,
      "outputs": [
        {
          "output_type": "display_data",
          "data": {
            "text/html": [
              "<style> pre {white-space: pre-wrap;} </style>"
            ],
            "text/plain": [
              "<IPython.core.display.HTML object>"
            ]
          },
          "metadata": {
            "tags": []
          }
        }
      ]
    },
    {
      "cell_type": "code",
      "metadata": {
        "id": "OiPyUjHSQlVR",
        "colab": {
          "base_uri": "https://localhost:8080/",
          "height": 17
        },
        "outputId": "60ffd114-99df-4a22-d960-6f83ba83964b"
      },
      "source": [
        "def make_lyrics(model, seed_text, next_words, tokenizer=tokenizer_reload):\n",
        "    for _ in range(next_words):\n",
        "        token_list = tokenizer.texts_to_sequences([seed_text])[0]\n",
        "        token_list = pad_sequences([token_list],\n",
        "                     maxlen=max_sequence_len-1,padding='pre')\n",
        "        predicted = np.argmax(model.predict(token_list, verbose=0), axis=-1)\n",
        "        output_word = \"\"\n",
        "        for word, index in tokenizer.word_index.items():\n",
        "            if index == predicted:\n",
        "                output_word = word\n",
        "                break\n",
        "        seed_text += \" \" + output_word\n",
        "    return seed_text"
      ],
      "execution_count": 19,
      "outputs": [
        {
          "output_type": "display_data",
          "data": {
            "text/html": [
              "<style> pre {white-space: pre-wrap;} </style>"
            ],
            "text/plain": [
              "<IPython.core.display.HTML object>"
            ]
          },
          "metadata": {
            "tags": []
          }
        }
      ]
    },
    {
      "cell_type": "code",
      "metadata": {
        "colab": {
          "base_uri": "https://localhost:8080/",
          "height": 17
        },
        "id": "-nrJPQN4o4pQ",
        "outputId": "986834f9-2543-4783-c0a6-63b82c7d0ee3"
      },
      "source": [
        "# seed_text = 'take me to'\n",
        "# temperature = 1\n",
        "# next_words = 500\n",
        "# for _ in range(next_words):\n",
        "#     token_list = tokenizer.texts_to_sequences([seed_text])[0]\n",
        "#     token_list = pad_sequences([token_list],\n",
        "#                         maxlen=max_sequence_len-1,padding='pre')\n",
        "\n",
        "#     predicted_probs = model.predict(token_list, verbose=0)\n",
        "#     probs = np.exp(predicted_probs[0]/temperature)\n",
        "\n",
        "#     normalized_probablities = probs / sum(probs)\n",
        "#     predicted = np.random.choice(range(vocab_size), p=normalized_probablities)\n",
        "#     output_word = \"\"\n",
        "#     for word, index in tokenizer.word_index.items():\n",
        "#         if index == predicted:\n",
        "#             output_word = word\n",
        "#             break\n",
        "#     seed_text += \" \" + output_word\n",
        "# seed_text"
      ],
      "execution_count": 109,
      "outputs": [
        {
          "output_type": "display_data",
          "data": {
            "text/html": [
              "<style> pre {white-space: pre-wrap;} </style>"
            ],
            "text/plain": [
              "<IPython.core.display.HTML object>"
            ]
          },
          "metadata": {
            "tags": []
          }
        }
      ]
    },
    {
      "cell_type": "code",
      "metadata": {
        "colab": {
          "base_uri": "https://localhost:8080/",
          "height": 85
        },
        "id": "OWtcy-scQrhI",
        "outputId": "eab9cfea-85c9-4de1-dafb-6c37a9cf6bed"
      },
      "source": [
        "predicted_lyrics = make_lyrics(model_loaded, 'you\\'re so art deco out on the floor shining like gun metal', 100)\n",
        "print(predicted_lyrics)"
      ],
      "execution_count": 20,
      "outputs": [
        {
          "output_type": "display_data",
          "data": {
            "text/html": [
              "<style> pre {white-space: pre-wrap;} </style>"
            ],
            "text/plain": [
              "<IPython.core.display.HTML object>"
            ]
          },
          "metadata": {
            "tags": []
          }
        },
        {
          "output_type": "stream",
          "text": [
            "you're so art deco out on the floor shining like gun metal we keep dancin' babe what oh say that about me not good for me to be for you to think that i'm not a soul high what oh what ah yeah yeah yeah we all all say baby you know that you know what you know that you know that you know that you're mine in the bed that you came from blue day i baby it all of you know me in my arms you a top of it a television that's real a girl about me a stairway in my the you tonight it all the on a\n"
          ],
          "name": "stdout"
        }
      ]
    },
    {
      "cell_type": "code",
      "metadata": {
        "colab": {
          "base_uri": "https://localhost:8080/",
          "height": 68
        },
        "id": "sLOBwIhOcj-P",
        "outputId": "39e02fb3-8e26-4acf-a112-a35d26297173"
      },
      "source": [
        "predicted_lyrics = make_lyrics(model_loaded, 'country club', 100)\n",
        "print(predicted_lyrics)"
      ],
      "execution_count": 21,
      "outputs": [
        {
          "output_type": "display_data",
          "data": {
            "text/html": [
              "<style> pre {white-space: pre-wrap;} </style>"
            ],
            "text/plain": [
              "<IPython.core.display.HTML object>"
            ]
          },
          "metadata": {
            "tags": []
          }
        },
        {
          "output_type": "stream",
          "text": [
            "country club man man like a good for me for real for real for real for you to lie to me my little love my love you our love is and our real love on the night of the on the of the of the on the of the for the for the for the my love ah ah ah ah ah ah ah ah ah ah ah ah ah ah ah ah ah ah ah ah ah ah ah ah ah ah ah ah ah ah ah ah ah ah ah ah ah ah ah ah ah ah ah ah ah\n"
          ],
          "name": "stdout"
        }
      ]
    },
    {
      "cell_type": "markdown",
      "metadata": {
        "id": "e6QPjdjWpCvz"
      },
      "source": [
        "Test Loaded model"
      ]
    },
    {
      "cell_type": "code",
      "metadata": {
        "id": "yBhQMXoDGENl",
        "colab": {
          "base_uri": "https://localhost:8080/",
          "height": 68
        },
        "outputId": "a79ae777-c290-4420-dfc6-5f428e1c7287"
      },
      "source": [
        "predicted_lyrics = make_lyrics(model_loaded, 'I can see my baby swinging', 100)\n",
        "print(predicted_lyrics)"
      ],
      "execution_count": 22,
      "outputs": [
        {
          "output_type": "display_data",
          "data": {
            "text/html": [
              "<style> pre {white-space: pre-wrap;} </style>"
            ],
            "text/plain": [
              "<IPython.core.display.HTML object>"
            ]
          },
          "metadata": {
            "tags": []
          }
        },
        {
          "output_type": "stream",
          "text": [
            "I can see my baby swinging with the architecture long bored of it died for real for real for the to of gin to me my way off all the you but you you know me when i'm so in love ah ah ah ah ah ah ah ah ah ah ah ah ah ah ah ah ah ah ah ah ah ah ah ah ah ah ah ah ah ah ah ah ah ah ah ah ah ah ah ah ah ah ah ah ah ah ah ah ah ah ah ah ah ah ah ah ah ah ah ah ah ah ah ah ah\n"
          ],
          "name": "stdout"
        }
      ]
    },
    {
      "cell_type": "code",
      "metadata": {
        "colab": {
          "base_uri": "https://localhost:8080/",
          "height": 85
        },
        "id": "6qptxlhWxWRt",
        "outputId": "82b91d10-e844-41b6-884b-46658d84a00d"
      },
      "source": [
        "predicted_lyrics = make_lyrics(model_loaded, 'he\\'s crazy', 100)\n",
        "print(predicted_lyrics)"
      ],
      "execution_count": 78,
      "outputs": [
        {
          "output_type": "display_data",
          "data": {
            "text/html": [
              "<style> pre {white-space: pre-wrap;} </style>"
            ],
            "text/plain": [
              "<IPython.core.display.HTML object>"
            ]
          },
          "metadata": {
            "tags": []
          }
        },
        {
          "output_type": "stream",
          "text": [
            "he's crazy y cubano como yo la la la la losers beautiful losers yeah now yes… all the time i feel it comin' in my pad thrills by the time summer's done to do it i had a ball sad girl a lie band by thе quick lunch stand cool as darker and against the docks and shit what life is a lie band to call me with hurting me slowly is a lie band in thе quick lunch stand cool as i'm already coolest it a ball book it's 2 gonna happen wander for a minute in my face is shameless\n"
          ],
          "name": "stdout"
        }
      ]
    },
    {
      "cell_type": "code",
      "metadata": {
        "colab": {
          "base_uri": "https://localhost:8080/",
          "height": 85
        },
        "id": "VNYl5xwBYHUZ",
        "outputId": "31b8b801-4264-43f6-ad7c-36f324932d33"
      },
      "source": [
        "predicted_lyrics = make_lyrics(model_loaded, 'jesus is my bestest friend', 100)\n",
        "print(predicted_lyrics)"
      ],
      "execution_count": 110,
      "outputs": [
        {
          "output_type": "display_data",
          "data": {
            "text/html": [
              "<style> pre {white-space: pre-wrap;} </style>"
            ],
            "text/plain": [
              "<IPython.core.display.HTML object>"
            ]
          },
          "metadata": {
            "tags": []
          }
        },
        {
          "output_type": "stream",
          "text": [
            "jesus is my bestest friend for us hard crazy and that's what what what what what what what yeah shatter yeah oh time to eat soft ice cream thing with a stairway for the eyes he stood on the fuckin' youth they love their movies as war alright away you ends my boyfriend's in a band singer and you're my cult leader without you fail the blue dress on day long ask for a song life 'cause hard in the city by the bay gets late like shit you don't need to love you on her father opened so long the fuckin' near friend it\n"
          ],
          "name": "stdout"
        }
      ]
    },
    {
      "cell_type": "code",
      "metadata": {
        "colab": {
          "base_uri": "https://localhost:8080/",
          "height": 17
        },
        "id": "etlk6xXIJ7lV",
        "outputId": "395f8cae-0b5f-4214-c5ce-716a8f2f0849"
      },
      "source": [
        "# word_counts_df = pd.DataFrame.from_dict(dict(tokenizer.word_counts), orient='index')\n",
        "# word_counts_df.reset_index(inplace=True)\n",
        "# word_counts_df.columns = ['word', 'count']"
      ],
      "execution_count": 207,
      "outputs": [
        {
          "output_type": "display_data",
          "data": {
            "text/html": [
              "<style> pre {white-space: pre-wrap;} </style>"
            ],
            "text/plain": [
              "<IPython.core.display.HTML object>"
            ]
          },
          "metadata": {
            "tags": []
          }
        }
      ]
    },
    {
      "cell_type": "code",
      "metadata": {
        "colab": {
          "base_uri": "https://localhost:8080/",
          "height": 34
        },
        "id": "jF_F-1xiKiNS",
        "outputId": "1b860f66-c3a4-45ff-8148-db504b618220"
      },
      "source": [
        "from wordcloud import WordCloud\n",
        "from wordcloud import STOPWORDS as w_stop\n",
        "len(w_stop)"
      ],
      "execution_count": 17,
      "outputs": [
        {
          "output_type": "display_data",
          "data": {
            "text/html": [
              "<style> pre {white-space: pre-wrap;} </style>"
            ],
            "text/plain": [
              "<IPython.core.display.HTML object>"
            ]
          },
          "metadata": {
            "tags": []
          }
        },
        {
          "output_type": "execute_result",
          "data": {
            "text/plain": [
              "190"
            ]
          },
          "metadata": {
            "tags": []
          },
          "execution_count": 17
        }
      ]
    },
    {
      "cell_type": "code",
      "metadata": {
        "colab": {
          "base_uri": "https://localhost:8080/",
          "height": 261
        },
        "id": "qQ0YlpfLK4MH",
        "outputId": "f48da327-6a73-4935-aa32-9c9f07c9c897"
      },
      "source": [
        "stopwords = set(w_stop)\n",
        "extra = ['got', 'know']\n",
        "for word in extra:\n",
        "    stopwords.add(word)\n",
        "\n",
        "wordcloud = WordCloud(width = 2000, height = 800,\n",
        "                background_color ='white',\n",
        "                stopwords = stopwords,\n",
        "                min_font_size = 10, \n",
        "                colormap='plasma').generate(text)\n",
        "  \n",
        "# plot the WordCloud image                       \n",
        "plt.figure(figsize = (8, 8), facecolor = None)\n",
        "plt.imshow(wordcloud)\n",
        "plt.axis(\"off\")\n",
        "plt.tight_layout(pad = 0)\n",
        "  \n",
        "plt.show()"
      ],
      "execution_count": 26,
      "outputs": [
        {
          "output_type": "display_data",
          "data": {
            "text/html": [
              "<style> pre {white-space: pre-wrap;} </style>"
            ],
            "text/plain": [
              "<IPython.core.display.HTML object>"
            ]
          },
          "metadata": {
            "tags": []
          }
        },
        {
          "output_type": "display_data",
          "data": {
            "image/png": "[encoded data removed]",
            "text/plain": [
              "<Figure size 576x576 with 1 Axes>"
            ]
          },
          "metadata": {
            "tags": [],
            "needs_background": "light"
          }
        }
      ]
    },
    {
      "cell_type": "code",
      "metadata": {
        "colab": {
          "base_uri": "https://localhost:8080/",
          "height": 35
        },
        "id": "5XDJWwmGLERS",
        "outputId": "3d091074-0c0a-4e0b-f5ed-798832db67e1"
      },
      "source": [
        "np.random.choice(text.split('\\n'))"
      ],
      "execution_count": 69,
      "outputs": [
        {
          "output_type": "display_data",
          "data": {
            "text/html": [
              "<style> pre {white-space: pre-wrap;} </style>"
            ],
            "text/plain": [
              "<IPython.core.display.HTML object>"
            ]
          },
          "metadata": {
            "tags": []
          }
        },
        {
          "output_type": "execute_result",
          "data": {
            "application/vnd.google.colaboratory.intrinsic+json": {
              "type": "string"
            },
            "text/plain": [
              "''"
            ]
          },
          "metadata": {
            "tags": []
          },
          "execution_count": 69
        }
      ]
    },
    {
      "cell_type": "code",
      "metadata": {
        "id": "7arXgtwD1vhS"
      },
      "source": [
        ""
      ],
      "execution_count": null,
      "outputs": []
    }
  ]
}