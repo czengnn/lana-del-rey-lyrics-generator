{
  "nbformat": 4,
  "nbformat_minor": 0,
  "metadata": {
    "colab": {
      "name": "LDR.ipynb",
      "provenance": [],
      "mount_file_id": "1YsCFde9O7H5v6sAu9Eu1oIdFbLEoiMel",
      "authorship_tag": "ABX9TyO4P3t1LTg9JBLRCE9cm+l0",
      "include_colab_link": true
    },
    "kernelspec": {
      "name": "python3",
      "display_name": "Python 3"
    },
    "language_info": {
      "name": "python"
    }
  },
  "cells": [
    {
      "cell_type": "markdown",
      "metadata": {
        "id": "view-in-github",
        "colab_type": "text"
      },
      "source": [
        "<a href=\"https://colab.research.google.com/github/czengnn/lana-del-rey-lyrics-generator/blob/main/LDR.ipynb\" target=\"_parent\"><img src=\"https://colab.research.google.com/assets/colab-badge.svg\" alt=\"Open In Colab\"/></a>"
      ]
    },
    {
      "cell_type": "code",
      "metadata": {
        "id": "ffVU7m5uq9cW"
      },
      "source": [
        "import pandas as pd \n",
        "import numpy as np \n"
      ],
      "execution_count": 1,
      "outputs": []
    },
    {
      "cell_type": "code",
      "metadata": {
        "id": "neEO7YMGrLXH"
      },
      "source": [
        "lyrics = pd.read_csv('/content/drive/MyDrive/data/lana_lyrics_83.csv').drop('Unnamed: 0', axis=1)"
      ],
      "execution_count": 4,
      "outputs": []
    },
    {
      "cell_type": "code",
      "metadata": {
        "colab": {
          "base_uri": "https://localhost:8080/",
          "height": 407
        },
        "id": "FhrU4mwErPhM",
        "outputId": "0585cfe1-bb1b-46e4-dc07-8787c508b71c"
      },
      "source": [
        "lyrics"
      ],
      "execution_count": 5,
      "outputs": [
        {
          "output_type": "execute_result",
          "data": {
            "text/html": [
              "<div>\n",
              "<style scoped>\n",
              "    .dataframe tbody tr th:only-of-type {\n",
              "        vertical-align: middle;\n",
              "    }\n",
              "\n",
              "    .dataframe tbody tr th {\n",
              "        vertical-align: top;\n",
              "    }\n",
              "\n",
              "    .dataframe thead th {\n",
              "        text-align: right;\n",
              "    }\n",
              "</style>\n",
              "<table border=\"1\" class=\"dataframe\">\n",
              "  <thead>\n",
              "    <tr style=\"text-align: right;\">\n",
              "      <th></th>\n",
              "      <th>title</th>\n",
              "      <th>lyrics</th>\n",
              "    </tr>\n",
              "  </thead>\n",
              "  <tbody>\n",
              "    <tr>\n",
              "      <th>0</th>\n",
              "      <td>Born to Die</td>\n",
              "      <td>[Intro: Lana Del Rey + sample]\\nWhy? (\"Got tha...</td>\n",
              "    </tr>\n",
              "    <tr>\n",
              "      <th>1</th>\n",
              "      <td>Off to the Races</td>\n",
              "      <td>[Verse 1]\\nMy old man is a bad man\\nBut I can'...</td>\n",
              "    </tr>\n",
              "    <tr>\n",
              "      <th>2</th>\n",
              "      <td>Blue Jeans</td>\n",
              "      <td>[Verse 1]\\nBlue jeans, white shirt\\nWalked int...</td>\n",
              "    </tr>\n",
              "    <tr>\n",
              "      <th>3</th>\n",
              "      <td>Video Games</td>\n",
              "      <td>[Verse 1]\\nSwingin' in the backyard, pull up i...</td>\n",
              "    </tr>\n",
              "    <tr>\n",
              "      <th>4</th>\n",
              "      <td>Diet Mountain Dew</td>\n",
              "      <td>[Intro]\\nYou're no good for me\\nBaby, you're n...</td>\n",
              "    </tr>\n",
              "    <tr>\n",
              "      <th>...</th>\n",
              "      <td>...</td>\n",
              "      <td>...</td>\n",
              "    </tr>\n",
              "    <tr>\n",
              "      <th>78</th>\n",
              "      <td>Body Electric</td>\n",
              "      <td>[Verse 1]\\nElvis is my daddy\\nMarilyn's my mot...</td>\n",
              "    </tr>\n",
              "    <tr>\n",
              "      <th>79</th>\n",
              "      <td>Blue Velvet</td>\n",
              "      <td>[Verse 1]\\nShe wore blue velvet\\nBluer than ve...</td>\n",
              "    </tr>\n",
              "    <tr>\n",
              "      <th>80</th>\n",
              "      <td>Gods &amp; Monsters</td>\n",
              "      <td>[Intro]\\nL.A., L.A.​\\nL.A., L.A.​\\n\\n[Verse 1]...</td>\n",
              "    </tr>\n",
              "    <tr>\n",
              "      <th>81</th>\n",
              "      <td>Yayo (Paradise Version)</td>\n",
              "      <td>[Verse 1]\\nI like the snake on your tattoo\\nI ...</td>\n",
              "    </tr>\n",
              "    <tr>\n",
              "      <th>82</th>\n",
              "      <td>Bel Air</td>\n",
              "      <td>[Verse 1]\\nGargoyles standing at the front of ...</td>\n",
              "    </tr>\n",
              "  </tbody>\n",
              "</table>\n",
              "<p>83 rows × 2 columns</p>\n",
              "</div>"
            ],
            "text/plain": [
              "                      title                                             lyrics\n",
              "0               Born to Die  [Intro: Lana Del Rey + sample]\\nWhy? (\"Got tha...\n",
              "1          Off to the Races  [Verse 1]\\nMy old man is a bad man\\nBut I can'...\n",
              "2                Blue Jeans  [Verse 1]\\nBlue jeans, white shirt\\nWalked int...\n",
              "3               Video Games  [Verse 1]\\nSwingin' in the backyard, pull up i...\n",
              "4         Diet Mountain Dew  [Intro]\\nYou're no good for me\\nBaby, you're n...\n",
              "..                      ...                                                ...\n",
              "78            Body Electric  [Verse 1]\\nElvis is my daddy\\nMarilyn's my mot...\n",
              "79              Blue Velvet  [Verse 1]\\nShe wore blue velvet\\nBluer than ve...\n",
              "80          Gods & Monsters  [Intro]\\nL.A., L.A.​\\nL.A., L.A.​\\n\\n[Verse 1]...\n",
              "81  Yayo (Paradise Version)  [Verse 1]\\nI like the snake on your tattoo\\nI ...\n",
              "82                  Bel Air  [Verse 1]\\nGargoyles standing at the front of ...\n",
              "\n",
              "[83 rows x 2 columns]"
            ]
          },
          "metadata": {
            "tags": []
          },
          "execution_count": 5
        }
      ]
    },
    {
      "cell_type": "code",
      "metadata": {
        "id": "Je81EwOtrQOZ"
      },
      "source": [
        ""
      ],
      "execution_count": null,
      "outputs": []
    }
  ]
}