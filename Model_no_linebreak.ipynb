{
  "nbformat": 4,
  "nbformat_minor": 0,
  "metadata": {
    "colab": {
      "name": "Model_no_linebreak.ipynb",
      "provenance": [],
      "mount_file_id": "11UVMvQRVTyXqGwuuoaSLdR0qUq7ohdt0",
      "authorship_tag": "ABX9TyOYhOZE63rYtv4G2gFshEaF"
    },
    "kernelspec": {
      "name": "python3",
      "display_name": "Python 3"
    },
    "language_info": {
      "name": "python"
    },
    "accelerator": "GPU"
  },
  "cells": [
    {
      "cell_type": "code",
      "metadata": {
        "id": "hqewF2reR94O"
      },
      "source": [
        "from IPython.display import HTML, display\n",
        "\n",
        "def set_css():\n",
        "    display(HTML('''<style> pre {white-space: pre-wrap;} </style>'''))\n",
        "get_ipython().events.register('pre_run_cell', set_css)"
      ],
      "execution_count": 1,
      "outputs": []
    },
    {
      "cell_type": "code",
      "metadata": {
        "colab": {
          "base_uri": "https://localhost:8080/",
          "height": 51
        },
        "id": "4aGZC5HbSCi5",
        "outputId": "96508372-fe99-4f7c-b476-19dc3b6a787e"
      },
      "source": [
        "import pandas as pd \n",
        "import numpy as np \n",
        "import re \n",
        "import os\n",
        "import time\n",
        "import pickle\n",
        "import matplotlib.pyplot as plt\n",
        "\n",
        "\n",
        "import tensorflow as tf\n",
        "import keras \n",
        "print(tf.__version__)\n",
        "print(keras.__version__)\n",
        "\n",
        "from keras.preprocessing.text import Tokenizer\n",
        "from keras.preprocessing.sequence import pad_sequences\n",
        "from keras.losses import sparse_categorical_crossentropy\n",
        "\n",
        "from keras.models import Sequential\n",
        "from keras.layers import LSTM, Activation, Flatten, Dropout, Dense, Embedding, TimeDistributed, Bidirectional\n",
        "from keras.callbacks import ModelCheckpoint\n",
        "from keras import backend as K"
      ],
      "execution_count": 2,
      "outputs": [
        {
          "output_type": "display_data",
          "data": {
            "text/html": [
              "<style> pre {white-space: pre-wrap;} </style>"
            ],
            "text/plain": [
              "<IPython.core.display.HTML object>"
            ]
          },
          "metadata": {
            "tags": []
          }
        },
        {
          "output_type": "stream",
          "text": [
            "2.4.1\n",
            "2.4.3\n"
          ],
          "name": "stdout"
        }
      ]
    },
    {
      "cell_type": "code",
      "metadata": {
        "colab": {
          "base_uri": "https://localhost:8080/",
          "height": 34
        },
        "id": "RQ4gFfM9SHUd",
        "outputId": "ca1cc811-ba60-4b2e-f7cd-d87f9f1b1f8c"
      },
      "source": [
        "# load songs\n",
        "songs = pd.read_csv('/content/drive/MyDrive/repos/lana-del-rey-lyrics-generator/data/lana_lyrics_98.csv')\n",
        "songs.shape"
      ],
      "execution_count": 3,
      "outputs": [
        {
          "output_type": "display_data",
          "data": {
            "text/html": [
              "<style> pre {white-space: pre-wrap;} </style>"
            ],
            "text/plain": [
              "<IPython.core.display.HTML object>"
            ]
          },
          "metadata": {
            "tags": []
          }
        },
        {
          "output_type": "execute_result",
          "data": {
            "text/plain": [
              "(98, 2)"
            ]
          },
          "metadata": {
            "tags": []
          },
          "execution_count": 3
        }
      ]
    },
    {
      "cell_type": "code",
      "metadata": {
        "colab": {
          "base_uri": "https://localhost:8080/",
          "height": 867
        },
        "id": "Ui2BGwqhSH0h",
        "outputId": "20526b3a-7ed3-47d3-b6af-2ff18bf98829"
      },
      "source": [
        "# put lyrics into 1 string\n",
        "text = ''\n",
        "for song in songs['lyrics']:\n",
        "    text = text + song.lower()\n",
        "    \n",
        "# remove the text with brackets around them, such as [Verse 1]\n",
        "text = re.sub(r'\\[[^][]*\\]', '', text)\n",
        "text = re.sub(r'\\(|\\)', '', text)\n",
        "\n",
        "corpus = text.split()\n",
        "corpus[:50]"
      ],
      "execution_count": 14,
      "outputs": [
        {
          "output_type": "display_data",
          "data": {
            "text/html": [
              "<style> pre {white-space: pre-wrap;} </style>"
            ],
            "text/plain": [
              "<IPython.core.display.HTML object>"
            ]
          },
          "metadata": {
            "tags": []
          }
        },
        {
          "output_type": "execute_result",
          "data": {
            "text/plain": [
              "['why?',\n",
              " '\"got',\n",
              " 'that?\"',\n",
              " 'who,',\n",
              " 'me?',\n",
              " '\"louder!\"',\n",
              " 'why?',\n",
              " '\"got',\n",
              " 'that?\"',\n",
              " 'feet',\n",
              " \"don't\",\n",
              " 'fail',\n",
              " 'me',\n",
              " 'now',\n",
              " 'take',\n",
              " 'me',\n",
              " 'to',\n",
              " 'the',\n",
              " 'finish',\n",
              " 'line',\n",
              " 'oh,',\n",
              " 'my',\n",
              " 'heart,',\n",
              " 'it',\n",
              " 'breaks',\n",
              " 'every',\n",
              " 'step',\n",
              " 'that',\n",
              " 'i',\n",
              " 'take',\n",
              " 'but',\n",
              " \"i'm\",\n",
              " 'hoping',\n",
              " 'at',\n",
              " 'the',\n",
              " 'gates,',\n",
              " \"they'll\",\n",
              " 'tell',\n",
              " 'me',\n",
              " 'that',\n",
              " \"you're\",\n",
              " 'mine',\n",
              " 'walking',\n",
              " 'through',\n",
              " 'the',\n",
              " 'city',\n",
              " 'streets,',\n",
              " 'is',\n",
              " 'it',\n",
              " 'by']"
            ]
          },
          "metadata": {
            "tags": []
          },
          "execution_count": 14
        }
      ]
    },
    {
      "cell_type": "code",
      "metadata": {
        "colab": {
          "base_uri": "https://localhost:8080/",
          "height": 34
        },
        "id": "D-AkIK8qg_uM",
        "outputId": "74516b3a-07a5-4049-e6c7-1913d5280c7e"
      },
      "source": [
        "tokenizer.texts_to_sequences([\"i'm\", \"that\"])[0]"
      ],
      "execution_count": 33,
      "outputs": [
        {
          "output_type": "display_data",
          "data": {
            "text/html": [
              "<style> pre {white-space: pre-wrap;} </style>"
            ],
            "text/plain": [
              "<IPython.core.display.HTML object>"
            ]
          },
          "metadata": {
            "tags": []
          }
        },
        {
          "output_type": "execute_result",
          "data": {
            "text/plain": [
              "[11]"
            ]
          },
          "metadata": {
            "tags": []
          },
          "execution_count": 33
        }
      ]
    },
    {
      "cell_type": "code",
      "metadata": {
        "colab": {
          "base_uri": "https://localhost:8080/",
          "height": 34
        },
        "id": "AGPbhfhQUL0G",
        "outputId": "2d9da515-a963-43b1-87dc-84cad6467fd6"
      },
      "source": [
        "# tokenizer = Tokenizer()\n",
        "# tokenizer.fit_on_texts(corpus)\n",
        "# with open('/content/drive/MyDrive/repos/lana-del-rey-lyrics-generator/models/tokenizer2.pkl', 'wb') as f:\n",
        "#     pickle.dump(tokenizer, f)\n",
        "\n",
        "\n",
        "# load saved tokenizer\n",
        "with open('/content/drive/MyDrive/repos/lana-del-rey-lyrics-generator/models/tokenizer2.pkl', 'rb') as f:\n",
        "    tokenizer = pickle.load(f)\n",
        "\n",
        "total_words = len(tokenizer.word_index) + 1\n",
        "print(total_words)"
      ],
      "execution_count": 15,
      "outputs": [
        {
          "output_type": "display_data",
          "data": {
            "text/html": [
              "<style> pre {white-space: pre-wrap;} </style>"
            ],
            "text/plain": [
              "<IPython.core.display.HTML object>"
            ]
          },
          "metadata": {
            "tags": []
          }
        },
        {
          "output_type": "stream",
          "text": [
            "2556\n"
          ],
          "name": "stdout"
        }
      ]
    },
    {
      "cell_type": "code",
      "metadata": {
        "colab": {
          "base_uri": "https://localhost:8080/",
          "height": 17
        },
        "id": "-PwGIaBlTBIt",
        "outputId": "f807d8a9-2be9-4f88-fb34-9914bbbd0998"
      },
      "source": [
        "seq_length = 50\n",
        "\n",
        "input_sequences = []\n",
        "for j in range(len(corpus)-seq_length):\n",
        "    sequence = corpus[j:j+seq_length]\n",
        "    token_list = tokenizer.texts_to_sequences([sequence])[0]\n",
        "    input_sequences.append(token_list)\n",
        "\n",
        "max_sequence_len = max([len(x) for x in input_sequences])\n",
        "input_sequences = np.array(pad_sequences(input_sequences, maxlen = max_sequence_len, padding='pre'))"
      ],
      "execution_count": 9,
      "outputs": [
        {
          "output_type": "display_data",
          "data": {
            "text/html": [
              "<style> pre {white-space: pre-wrap;} </style>"
            ],
            "text/plain": [
              "<IPython.core.display.HTML object>"
            ]
          },
          "metadata": {
            "tags": []
          }
        }
      ]
    },
    {
      "cell_type": "code",
      "metadata": {
        "colab": {
          "base_uri": "https://localhost:8080/",
          "height": 34
        },
        "id": "ryrPVGU-XbGl",
        "outputId": "77f7fe29-fd7b-475d-a55b-28f2d2d2a181"
      },
      "source": [
        "predictors, label = input_sequences[:,:-1], input_sequences[:,-1]\n",
        "predictors.shape, label.shape"
      ],
      "execution_count": 10,
      "outputs": [
        {
          "output_type": "display_data",
          "data": {
            "text/html": [
              "<style> pre {white-space: pre-wrap;} </style>"
            ],
            "text/plain": [
              "<IPython.core.display.HTML object>"
            ]
          },
          "metadata": {
            "tags": []
          }
        },
        {
          "output_type": "execute_result",
          "data": {
            "text/plain": [
              "((31786, 49), (31786,))"
            ]
          },
          "metadata": {
            "tags": []
          },
          "execution_count": 10
        }
      ]
    },
    {
      "cell_type": "code",
      "metadata": {
        "colab": {
          "base_uri": "https://localhost:8080/",
          "height": 374
        },
        "id": "Hi94mHtEX_8Q",
        "outputId": "699cbfd3-5ed2-42a8-b130-e4c957094f05"
      },
      "source": [
        "K.clear_session()\n",
        "\n",
        "def sparse_cat_loss(y_true,y_pred):\n",
        "    return sparse_categorical_crossentropy(y_true, y_pred, from_logits=False)\n",
        "\n",
        "vocab_size = total_words\n",
        "embed_dim = 50\n",
        "def create_model(vocab_size, embed_dim):\n",
        "    model = Sequential()\n",
        "    model.add(Embedding(vocab_size, embed_dim, input_length=max_sequence_len-1))\n",
        "\n",
        "    # Add an LSTM Layer\n",
        "    model.add(Bidirectional(LSTM(150, return_sequences=True)))\n",
        "    # A dropout layer for regularisation\n",
        "    model.add(Dropout(0.2))\n",
        "    # Add another LSTM Layer\n",
        "    model.add(LSTM(100,return_sequences=False))\n",
        "    # model.add(Dropout(0.1))\n",
        "    model.add(Dense(vocab_size/2)) #activation='relu'\n",
        "    # In the last layer, the shape should be equal to the total number of words present in our corpus\n",
        "    model.add(Dense(vocab_size, activation='softmax'))\n",
        "    return model\n",
        "\n",
        "model = create_model(vocab_size, embed_dim)\n",
        "model.compile(loss=sparse_cat_loss, optimizer='adam', metrics='accuracy')\n",
        "print(model.summary())"
      ],
      "execution_count": 20,
      "outputs": [
        {
          "output_type": "display_data",
          "data": {
            "text/html": [
              "<style> pre {white-space: pre-wrap;} </style>"
            ],
            "text/plain": [
              "<IPython.core.display.HTML object>"
            ]
          },
          "metadata": {
            "tags": []
          }
        },
        {
          "output_type": "stream",
          "text": [
            "Model: \"sequential\"\n",
            "_________________________________________________________________\n",
            "Layer (type)                 Output Shape              Param #   \n",
            "=================================================================\n",
            "embedding (Embedding)        (None, 49, 50)            127800    \n",
            "_________________________________________________________________\n",
            "bidirectional (Bidirectional (None, 49, 300)           241200    \n",
            "_________________________________________________________________\n",
            "dropout (Dropout)            (None, 49, 300)           0         \n",
            "_________________________________________________________________\n",
            "lstm_1 (LSTM)                (None, 100)               160400    \n",
            "_________________________________________________________________\n",
            "dense (Dense)                (None, 1278)              129078    \n",
            "_________________________________________________________________\n",
            "dense_1 (Dense)              (None, 2556)              3269124   \n",
            "=================================================================\n",
            "Total params: 3,927,602\n",
            "Trainable params: 3,927,602\n",
            "Non-trainable params: 0\n",
            "_________________________________________________________________\n",
            "None\n"
          ],
          "name": "stdout"
        }
      ]
    },
    {
      "cell_type": "code",
      "metadata": {
        "colab": {
          "base_uri": "https://localhost:8080/",
          "height": 1000
        },
        "id": "rQwIiFzTYESL",
        "outputId": "9a9d07b8-f472-464f-a479-b84f9e0ed4e5"
      },
      "source": [
        "early_stopping = tf.keras.callbacks.EarlyStopping(monitor='loss', patience=5)\n",
        "history = model.fit(predictors, label, epochs=30, verbose=1, callbacks=[early_stopping])\n",
        "\n",
        "# Save the weights\n",
        "model.save_weights('/content/drive/MyDrive/repos/lana-del-rey-lyrics-generator/models/ldr_by_word_seq/ldr_by_word_seq')"
      ],
      "execution_count": 22,
      "outputs": [
        {
          "output_type": "display_data",
          "data": {
            "text/html": [
              "<style> pre {white-space: pre-wrap;} </style>"
            ],
            "text/plain": [
              "<IPython.core.display.HTML object>"
            ]
          },
          "metadata": {
            "tags": []
          }
        },
        {
          "output_type": "stream",
          "text": [
            "Epoch 1/30\n",
            "994/994 [==============================] - 14s 14ms/step - loss: 5.7989 - accuracy: 0.0586\n",
            "Epoch 2/30\n",
            "994/994 [==============================] - 14s 14ms/step - loss: 4.9527 - accuracy: 0.1283\n",
            "Epoch 3/30\n",
            "994/994 [==============================] - 14s 14ms/step - loss: 4.1526 - accuracy: 0.2259\n",
            "Epoch 4/30\n",
            "994/994 [==============================] - 14s 14ms/step - loss: 3.4390 - accuracy: 0.3203\n",
            "Epoch 5/30\n",
            "994/994 [==============================] - 14s 14ms/step - loss: 2.8391 - accuracy: 0.4099\n",
            "Epoch 6/30\n",
            "994/994 [==============================] - 14s 14ms/step - loss: 2.3653 - accuracy: 0.4902\n",
            "Epoch 7/30\n",
            "994/994 [==============================] - 14s 14ms/step - loss: 1.9704 - accuracy: 0.5615\n",
            "Epoch 8/30\n",
            "994/994 [==============================] - 14s 14ms/step - loss: 1.6672 - accuracy: 0.6196\n",
            "Epoch 9/30\n",
            "994/994 [==============================] - 14s 14ms/step - loss: 1.4204 - accuracy: 0.6690\n",
            "Epoch 10/30\n",
            "994/994 [==============================] - 14s 14ms/step - loss: 1.2263 - accuracy: 0.7045\n",
            "Epoch 11/30\n",
            "994/994 [==============================] - 14s 14ms/step - loss: 1.0579 - accuracy: 0.7414\n",
            "Epoch 12/30\n",
            "994/994 [==============================] - 14s 14ms/step - loss: 0.9249 - accuracy: 0.7686\n",
            "Epoch 13/30\n",
            "994/994 [==============================] - 14s 14ms/step - loss: 0.8074 - accuracy: 0.7914\n",
            "Epoch 14/30\n",
            "994/994 [==============================] - 14s 14ms/step - loss: 0.7270 - accuracy: 0.8082\n",
            "Epoch 15/30\n",
            "994/994 [==============================] - 14s 14ms/step - loss: 0.6409 - accuracy: 0.8317\n",
            "Epoch 16/30\n",
            "994/994 [==============================] - 14s 14ms/step - loss: 0.5796 - accuracy: 0.8464\n",
            "Epoch 17/30\n",
            "994/994 [==============================] - 14s 14ms/step - loss: 0.5225 - accuracy: 0.8590\n",
            "Epoch 18/30\n",
            "994/994 [==============================] - 14s 14ms/step - loss: 0.4778 - accuracy: 0.8716\n",
            "Epoch 19/30\n",
            "994/994 [==============================] - 14s 14ms/step - loss: 0.4475 - accuracy: 0.8805\n",
            "Epoch 20/30\n",
            "994/994 [==============================] - 14s 14ms/step - loss: 0.4227 - accuracy: 0.8878\n",
            "Epoch 21/30\n",
            "994/994 [==============================] - 14s 14ms/step - loss: 0.3816 - accuracy: 0.8958\n",
            "Epoch 22/30\n",
            "994/994 [==============================] - 14s 14ms/step - loss: 0.3556 - accuracy: 0.9031\n",
            "Epoch 23/30\n",
            "994/994 [==============================] - 14s 14ms/step - loss: 0.3438 - accuracy: 0.9064\n",
            "Epoch 24/30\n",
            "994/994 [==============================] - 14s 14ms/step - loss: 0.3256 - accuracy: 0.9117\n",
            "Epoch 25/30\n",
            "994/994 [==============================] - 14s 14ms/step - loss: 0.3110 - accuracy: 0.9165\n",
            "Epoch 26/30\n",
            "994/994 [==============================] - 14s 14ms/step - loss: 0.3035 - accuracy: 0.9193\n",
            "Epoch 27/30\n",
            "994/994 [==============================] - 14s 14ms/step - loss: 0.2946 - accuracy: 0.9213\n",
            "Epoch 28/30\n",
            "994/994 [==============================] - 14s 14ms/step - loss: 0.2704 - accuracy: 0.9297\n",
            "Epoch 29/30\n",
            "994/994 [==============================] - 14s 14ms/step - loss: 0.2771 - accuracy: 0.9284\n",
            "Epoch 30/30\n",
            "994/994 [==============================] - 14s 14ms/step - loss: 0.2741 - accuracy: 0.9283\n"
          ],
          "name": "stdout"
        }
      ]
    },
    {
      "cell_type": "code",
      "metadata": {
        "colab": {
          "base_uri": "https://localhost:8080/",
          "height": 295
        },
        "id": "xZx9RoCQYJpH",
        "outputId": "1e63905a-834f-484d-bbce-4ccf9c632ff7"
      },
      "source": [
        "# summarize history for accuracy\n",
        "plt.plot(history.history['loss'], label='loss')\n",
        "plt.plot(history.history['accuracy'], label='accuracy')\n",
        "plt.axhline(y=1, color='gray', linestyle='--')\n",
        "plt.title('loss & accuracy')\n",
        "plt.ylabel('value')\n",
        "plt.xlabel('epoch')\n",
        "plt.legend()\n",
        "plt.show()"
      ],
      "execution_count": 23,
      "outputs": [
        {
          "output_type": "display_data",
          "data": {
            "text/html": [
              "<style> pre {white-space: pre-wrap;} </style>"
            ],
            "text/plain": [
              "<IPython.core.display.HTML object>"
            ]
          },
          "metadata": {
            "tags": []
          }
        },
        {
          "output_type": "display_data",
          "data": {
            "image/png": "[encoded data removed]",
            "text/plain": [
              "<Figure size 432x288 with 1 Axes>"
            ]
          },
          "metadata": {
            "tags": [],
            "needs_background": "light"
          }
        }
      ]
    },
    {
      "cell_type": "code",
      "metadata": {
        "colab": {
          "base_uri": "https://localhost:8080/",
          "height": 17
        },
        "id": "WnBULj9eYODk",
        "outputId": "d4fa427f-18fb-49af-cd84-81118e8426b8"
      },
      "source": [
        "# load saved tokenizer\n",
        "with open('/content/drive/MyDrive/repos/lana-del-rey-lyrics-generator/models/tokenizer2.pkl', 'rb') as f:\n",
        "    tokenizer_reload = pickle.load(f)\n",
        "\n",
        "# Create a new model instance\n",
        "model_loaded = create_model(vocab_size, embed_dim)\n",
        "model_loaded.load_weights('/content/drive/MyDrive/repos/lana-del-rey-lyrics-generator/models/ldr_by_word_seq/ldr_by_word_seq')\n",
        "model_loaded.compile(loss=sparse_cat_loss, optimizer='adam', metrics='accuracy')"
      ],
      "execution_count": 24,
      "outputs": [
        {
          "output_type": "display_data",
          "data": {
            "text/html": [
              "<style> pre {white-space: pre-wrap;} </style>"
            ],
            "text/plain": [
              "<IPython.core.display.HTML object>"
            ]
          },
          "metadata": {
            "tags": []
          }
        }
      ]
    },
    {
      "cell_type": "code",
      "metadata": {
        "colab": {
          "base_uri": "https://localhost:8080/",
          "height": 17
        },
        "id": "5g76N-ErYf5e",
        "outputId": "7b111547-569e-4b49-df5f-99243f76c08e"
      },
      "source": [
        "def make_lyrics(model, seed_text, next_words, tokenizer=tokenizer_reload):\n",
        "    for _ in range(next_words):\n",
        "        token_list = tokenizer.texts_to_sequences([seed_text])[0]\n",
        "        token_list = pad_sequences([token_list],\n",
        "                     maxlen=max_sequence_len-1,padding='pre')\n",
        "        predicted = np.argmax(model.predict(token_list, verbose=0), axis=-1)\n",
        "        output_word = \"\"\n",
        "        for word, index in tokenizer.word_index.items():\n",
        "            if index == predicted:\n",
        "                output_word = word\n",
        "                break\n",
        "        seed_text += \" \" + output_word\n",
        "    return seed_text"
      ],
      "execution_count": 25,
      "outputs": [
        {
          "output_type": "display_data",
          "data": {
            "text/html": [
              "<style> pre {white-space: pre-wrap;} </style>"
            ],
            "text/plain": [
              "<IPython.core.display.HTML object>"
            ]
          },
          "metadata": {
            "tags": []
          }
        }
      ]
    },
    {
      "cell_type": "code",
      "metadata": {
        "colab": {
          "base_uri": "https://localhost:8080/",
          "height": 85
        },
        "id": "z1DRaGLpYVkI",
        "outputId": "3567c0f3-507e-44f7-ec4b-7442f5cf4fb2"
      },
      "source": [
        "predicted_lyrics = make_lyrics(model_loaded, 'you\\'re so art deco out on the floor shining like gun metal', 100)\n",
        "print(predicted_lyrics)"
      ],
      "execution_count": 27,
      "outputs": [
        {
          "output_type": "display_data",
          "data": {
            "text/html": [
              "<style> pre {white-space: pre-wrap;} </style>"
            ],
            "text/plain": [
              "<IPython.core.display.HTML object>"
            ]
          },
          "metadata": {
            "tags": []
          }
        },
        {
          "output_type": "stream",
          "text": [
            "you're so art deco out on the floor shining like gun metal you're a anthem and a show i'm a da a whore can even kind look at night when you the refuse see out that time the other woman never was no fear you're tired of an early you were doing the hold and all i leave if you wanna stay yeah fuck i love you never moved to leave if you wanna come yeah all the blues said don't you take you to wanna but we won't think about last the way you've got the two the blues left the vines don't even want we won't think we won't grow\n"
          ],
          "name": "stdout"
        }
      ]
    },
    {
      "cell_type": "code",
      "metadata": {
        "colab": {
          "base_uri": "https://localhost:8080/",
          "height": 85
        },
        "id": "Yj7S0GX_YZsM",
        "outputId": "99a210a9-2dbc-4a46-ef80-e215c21d50bf"
      },
      "source": [
        "predicted_lyrics = make_lyrics(model_loaded, 'I can see my sweet boy swinging', 100)\n",
        "print(predicted_lyrics)"
      ],
      "execution_count": 28,
      "outputs": [
        {
          "output_type": "display_data",
          "data": {
            "text/html": [
              "<style> pre {white-space: pre-wrap;} </style>"
            ],
            "text/plain": [
              "<IPython.core.display.HTML object>"
            ]
          },
          "metadata": {
            "tags": []
          }
        },
        {
          "output_type": "stream",
          "text": [
            "I can see my sweet boy swinging my blue only babe and what can i life is but you don't wanna break but you don't wanna say you like to heart you don't wanna break your love everything you hold me or bad honey most of them to my baby that's what you not a would say to me but you are been who you wanna break you don't give me out of that through revenge day and you stevie is sweet or follow you could anyone get i'm not a powerful people are powerful beings tryin' to find the power in me to be faithful change\n"
          ],
          "name": "stdout"
        }
      ]
    },
    {
      "cell_type": "code",
      "metadata": {
        "id": "vJ0n6hJidsH5"
      },
      "source": [
        ""
      ],
      "execution_count": null,
      "outputs": []
    }
  ]
}